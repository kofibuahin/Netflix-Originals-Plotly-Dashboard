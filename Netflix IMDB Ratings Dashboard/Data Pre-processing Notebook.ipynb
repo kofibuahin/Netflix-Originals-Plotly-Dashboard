{
 "cells": [
  {
   "cell_type": "code",
   "execution_count": 22,
   "metadata": {},
   "outputs": [],
   "source": [
    "import pandas as pd\n",
    "import numpy as np\n",
    "import seaborn as sns\n",
    "import plotly.graph_objects as go\n",
    "import plotly.express as px\n",
    "import matplotlib.pyplot as plt\n",
    "from plotly.subplots import make_subplots"
   ]
  },
  {
   "cell_type": "code",
   "execution_count": 3,
   "metadata": {},
   "outputs": [
    {
     "data": {
      "text/html": [
       "<div>\n",
       "<style scoped>\n",
       "    .dataframe tbody tr th:only-of-type {\n",
       "        vertical-align: middle;\n",
       "    }\n",
       "\n",
       "    .dataframe tbody tr th {\n",
       "        vertical-align: top;\n",
       "    }\n",
       "\n",
       "    .dataframe thead th {\n",
       "        text-align: right;\n",
       "    }\n",
       "</style>\n",
       "<table border=\"1\" class=\"dataframe\">\n",
       "  <thead>\n",
       "    <tr style=\"text-align: right;\">\n",
       "      <th></th>\n",
       "      <th>Title</th>\n",
       "      <th>Genre</th>\n",
       "      <th>Premiere</th>\n",
       "      <th>Runtime</th>\n",
       "      <th>IMDB Score</th>\n",
       "      <th>Language</th>\n",
       "    </tr>\n",
       "  </thead>\n",
       "  <tbody>\n",
       "    <tr>\n",
       "      <th>0</th>\n",
       "      <td>Enter the Anime</td>\n",
       "      <td>Documentary</td>\n",
       "      <td>2019-08-05</td>\n",
       "      <td>58</td>\n",
       "      <td>2.5</td>\n",
       "      <td>English/Japanese</td>\n",
       "    </tr>\n",
       "    <tr>\n",
       "      <th>1</th>\n",
       "      <td>Dark Forces</td>\n",
       "      <td>Thriller</td>\n",
       "      <td>2020-08-21</td>\n",
       "      <td>81</td>\n",
       "      <td>2.6</td>\n",
       "      <td>Spanish</td>\n",
       "    </tr>\n",
       "    <tr>\n",
       "      <th>2</th>\n",
       "      <td>The App</td>\n",
       "      <td>Science fiction/Drama</td>\n",
       "      <td>2019-12-26</td>\n",
       "      <td>79</td>\n",
       "      <td>2.6</td>\n",
       "      <td>Italian</td>\n",
       "    </tr>\n",
       "    <tr>\n",
       "      <th>3</th>\n",
       "      <td>The Open House</td>\n",
       "      <td>Horror thriller</td>\n",
       "      <td>2018-01-19</td>\n",
       "      <td>94</td>\n",
       "      <td>3.2</td>\n",
       "      <td>English</td>\n",
       "    </tr>\n",
       "    <tr>\n",
       "      <th>4</th>\n",
       "      <td>Kaali Khuhi</td>\n",
       "      <td>Mystery</td>\n",
       "      <td>2020-10-30</td>\n",
       "      <td>90</td>\n",
       "      <td>3.4</td>\n",
       "      <td>Hindi</td>\n",
       "    </tr>\n",
       "  </tbody>\n",
       "</table>\n",
       "</div>"
      ],
      "text/plain": [
       "             Title                  Genre   Premiere  Runtime  IMDB Score  \\\n",
       "0  Enter the Anime            Documentary 2019-08-05       58         2.5   \n",
       "1      Dark Forces               Thriller 2020-08-21       81         2.6   \n",
       "2          The App  Science fiction/Drama 2019-12-26       79         2.6   \n",
       "3   The Open House        Horror thriller 2018-01-19       94         3.2   \n",
       "4      Kaali Khuhi                Mystery 2020-10-30       90         3.4   \n",
       "\n",
       "           Language  \n",
       "0  English/Japanese  \n",
       "1           Spanish  \n",
       "2           Italian  \n",
       "3           English  \n",
       "4             Hindi  "
      ]
     },
     "execution_count": 3,
     "metadata": {},
     "output_type": "execute_result"
    }
   ],
   "source": [
    "netflix = pd.read_csv('NetflixOriginals.csv',encoding='ISO-8859-1',parse_dates=['Premiere'])\n",
    "netflix.head()"
   ]
  },
  {
   "cell_type": "code",
   "execution_count": 4,
   "metadata": {},
   "outputs": [
    {
     "data": {
      "text/html": [
       "<div>\n",
       "<style scoped>\n",
       "    .dataframe tbody tr th:only-of-type {\n",
       "        vertical-align: middle;\n",
       "    }\n",
       "\n",
       "    .dataframe tbody tr th {\n",
       "        vertical-align: top;\n",
       "    }\n",
       "\n",
       "    .dataframe thead th {\n",
       "        text-align: right;\n",
       "    }\n",
       "</style>\n",
       "<table border=\"1\" class=\"dataframe\">\n",
       "  <thead>\n",
       "    <tr style=\"text-align: right;\">\n",
       "      <th></th>\n",
       "      <th>Title</th>\n",
       "      <th>Genre</th>\n",
       "      <th>Premiere</th>\n",
       "      <th>Runtime</th>\n",
       "      <th>IMDB Score</th>\n",
       "      <th>Language</th>\n",
       "      <th>Rating Quality</th>\n",
       "      <th>Film Length Group</th>\n",
       "      <th>Release Year</th>\n",
       "      <th>Release Month</th>\n",
       "      <th>Release Day</th>\n",
       "      <th>RMonth Text</th>\n",
       "    </tr>\n",
       "  </thead>\n",
       "  <tbody>\n",
       "    <tr>\n",
       "      <th>0</th>\n",
       "      <td>Enter the Anime</td>\n",
       "      <td>Documentary</td>\n",
       "      <td>2019-08-05</td>\n",
       "      <td>58</td>\n",
       "      <td>2.5</td>\n",
       "      <td>English/Japanese</td>\n",
       "      <td>Poor Rating</td>\n",
       "      <td>Short Film</td>\n",
       "      <td>2019</td>\n",
       "      <td>8</td>\n",
       "      <td>5</td>\n",
       "      <td>August</td>\n",
       "    </tr>\n",
       "    <tr>\n",
       "      <th>1</th>\n",
       "      <td>Dark Forces</td>\n",
       "      <td>Thriller</td>\n",
       "      <td>2020-08-21</td>\n",
       "      <td>81</td>\n",
       "      <td>2.6</td>\n",
       "      <td>Spanish</td>\n",
       "      <td>Poor Rating</td>\n",
       "      <td>Medium Length Film</td>\n",
       "      <td>2020</td>\n",
       "      <td>8</td>\n",
       "      <td>21</td>\n",
       "      <td>August</td>\n",
       "    </tr>\n",
       "    <tr>\n",
       "      <th>2</th>\n",
       "      <td>The App</td>\n",
       "      <td>Science fiction/Drama</td>\n",
       "      <td>2019-12-26</td>\n",
       "      <td>79</td>\n",
       "      <td>2.6</td>\n",
       "      <td>Italian</td>\n",
       "      <td>Poor Rating</td>\n",
       "      <td>Medium Length Film</td>\n",
       "      <td>2019</td>\n",
       "      <td>12</td>\n",
       "      <td>26</td>\n",
       "      <td>December</td>\n",
       "    </tr>\n",
       "    <tr>\n",
       "      <th>3</th>\n",
       "      <td>The Open House</td>\n",
       "      <td>Horror thriller</td>\n",
       "      <td>2018-01-19</td>\n",
       "      <td>94</td>\n",
       "      <td>3.2</td>\n",
       "      <td>English</td>\n",
       "      <td>Poor Rating</td>\n",
       "      <td>Medium Length Film</td>\n",
       "      <td>2018</td>\n",
       "      <td>1</td>\n",
       "      <td>19</td>\n",
       "      <td>January</td>\n",
       "    </tr>\n",
       "    <tr>\n",
       "      <th>4</th>\n",
       "      <td>Kaali Khuhi</td>\n",
       "      <td>Mystery</td>\n",
       "      <td>2020-10-30</td>\n",
       "      <td>90</td>\n",
       "      <td>3.4</td>\n",
       "      <td>Hindi</td>\n",
       "      <td>Poor Rating</td>\n",
       "      <td>Medium Length Film</td>\n",
       "      <td>2020</td>\n",
       "      <td>10</td>\n",
       "      <td>30</td>\n",
       "      <td>October</td>\n",
       "    </tr>\n",
       "  </tbody>\n",
       "</table>\n",
       "</div>"
      ],
      "text/plain": [
       "             Title                  Genre   Premiere  Runtime  IMDB Score  \\\n",
       "0  Enter the Anime            Documentary 2019-08-05       58         2.5   \n",
       "1      Dark Forces               Thriller 2020-08-21       81         2.6   \n",
       "2          The App  Science fiction/Drama 2019-12-26       79         2.6   \n",
       "3   The Open House        Horror thriller 2018-01-19       94         3.2   \n",
       "4      Kaali Khuhi                Mystery 2020-10-30       90         3.4   \n",
       "\n",
       "           Language Rating Quality   Film Length Group  Release Year  \\\n",
       "0  English/Japanese    Poor Rating          Short Film          2019   \n",
       "1           Spanish    Poor Rating  Medium Length Film          2020   \n",
       "2           Italian    Poor Rating  Medium Length Film          2019   \n",
       "3           English    Poor Rating  Medium Length Film          2018   \n",
       "4             Hindi    Poor Rating  Medium Length Film          2020   \n",
       "\n",
       "   Release Month  Release Day RMonth Text  \n",
       "0              8            5      August  \n",
       "1              8           21      August  \n",
       "2             12           26    December  \n",
       "3              1           19     January  \n",
       "4             10           30     October  "
      ]
     },
     "execution_count": 4,
     "metadata": {},
     "output_type": "execute_result"
    }
   ],
   "source": [
    "netflix['Rating Quality'] = netflix['IMDB Score'].map(lambda x: \"Poor Rating\" if x < 4 \n",
    "                                                                              else(\"Mediocre Rating\" if x < 6 \n",
    "                                                                              else (\"Above Average Rating\" if x < 8 \n",
    "                                                                              else \" Exceptional Rating\")))\n",
    "netflix['Film Length Group'] = netflix['Runtime'].map(lambda x: \"Short Film\" if x < 60 else (\"Medium Length Film\" if x < 120 else \"Long Film\"))\n",
    "netflix['Release Year'] = netflix['Premiere'].dt.year\n",
    "netflix['Release Month'] = netflix['Premiere'].dt.month\n",
    "netflix['Release Day'] = netflix['Premiere'].dt.day\n",
    "netflix['RMonth Text'] = netflix['Release Month'].map({1:'January',2:'February',3:'March',4:'April',5:'June',6:'July',\n",
    "                                                       7:'July', 8:'August', 9:'September',10:'October',11:'November',12:'December'})\n",
    "                                        \n",
    "netflix.head()"
   ]
  },
  {
   "cell_type": "code",
   "execution_count": 5,
   "metadata": {},
   "outputs": [
    {
     "data": {
      "text/plain": [
       "(584, 12)"
      ]
     },
     "execution_count": 5,
     "metadata": {},
     "output_type": "execute_result"
    }
   ],
   "source": [
    "netflix.shape"
   ]
  },
  {
   "cell_type": "code",
   "execution_count": 5,
   "metadata": {},
   "outputs": [
    {
     "name": "stdout",
     "output_type": "stream",
     "text": [
      "<class 'pandas.core.frame.DataFrame'>\n",
      "RangeIndex: 584 entries, 0 to 583\n",
      "Data columns (total 12 columns):\n",
      " #   Column             Non-Null Count  Dtype         \n",
      "---  ------             --------------  -----         \n",
      " 0   Title              584 non-null    object        \n",
      " 1   Genre              584 non-null    object        \n",
      " 2   Premiere           584 non-null    datetime64[ns]\n",
      " 3   Runtime            584 non-null    int64         \n",
      " 4   IMDB Score         584 non-null    float64       \n",
      " 5   Language           584 non-null    object        \n",
      " 6   Rating Quality     584 non-null    object        \n",
      " 7   Film Length Group  584 non-null    object        \n",
      " 8   Release Year       584 non-null    int64         \n",
      " 9   Release Month      584 non-null    int64         \n",
      " 10  Release Day        584 non-null    int64         \n",
      " 11  RMonth Text        584 non-null    object        \n",
      "dtypes: datetime64[ns](1), float64(1), int64(4), object(6)\n",
      "memory usage: 54.9+ KB\n"
     ]
    }
   ],
   "source": [
    "netflix.info()"
   ]
  },
  {
   "cell_type": "code",
   "execution_count": 6,
   "metadata": {},
   "outputs": [
    {
     "data": {
      "text/html": [
       "<div>\n",
       "<style scoped>\n",
       "    .dataframe tbody tr th:only-of-type {\n",
       "        vertical-align: middle;\n",
       "    }\n",
       "\n",
       "    .dataframe tbody tr th {\n",
       "        vertical-align: top;\n",
       "    }\n",
       "\n",
       "    .dataframe thead th {\n",
       "        text-align: right;\n",
       "    }\n",
       "</style>\n",
       "<table border=\"1\" class=\"dataframe\">\n",
       "  <thead>\n",
       "    <tr style=\"text-align: right;\">\n",
       "      <th></th>\n",
       "      <th>Runtime</th>\n",
       "      <th>IMDB Score</th>\n",
       "      <th>Release Year</th>\n",
       "      <th>Release Month</th>\n",
       "      <th>Release Day</th>\n",
       "    </tr>\n",
       "  </thead>\n",
       "  <tbody>\n",
       "    <tr>\n",
       "      <th>count</th>\n",
       "      <td>584.000000</td>\n",
       "      <td>584.000000</td>\n",
       "      <td>584.000000</td>\n",
       "      <td>584.000000</td>\n",
       "      <td>584.000000</td>\n",
       "    </tr>\n",
       "    <tr>\n",
       "      <th>mean</th>\n",
       "      <td>93.577055</td>\n",
       "      <td>6.271747</td>\n",
       "      <td>2018.936644</td>\n",
       "      <td>6.859589</td>\n",
       "      <td>16.347603</td>\n",
       "    </tr>\n",
       "    <tr>\n",
       "      <th>std</th>\n",
       "      <td>27.761683</td>\n",
       "      <td>0.979256</td>\n",
       "      <td>1.473992</td>\n",
       "      <td>3.466697</td>\n",
       "      <td>8.638979</td>\n",
       "    </tr>\n",
       "    <tr>\n",
       "      <th>min</th>\n",
       "      <td>4.000000</td>\n",
       "      <td>2.500000</td>\n",
       "      <td>2014.000000</td>\n",
       "      <td>1.000000</td>\n",
       "      <td>1.000000</td>\n",
       "    </tr>\n",
       "    <tr>\n",
       "      <th>25%</th>\n",
       "      <td>86.000000</td>\n",
       "      <td>5.700000</td>\n",
       "      <td>2018.000000</td>\n",
       "      <td>4.000000</td>\n",
       "      <td>9.000000</td>\n",
       "    </tr>\n",
       "    <tr>\n",
       "      <th>50%</th>\n",
       "      <td>97.000000</td>\n",
       "      <td>6.350000</td>\n",
       "      <td>2019.000000</td>\n",
       "      <td>7.000000</td>\n",
       "      <td>16.000000</td>\n",
       "    </tr>\n",
       "    <tr>\n",
       "      <th>75%</th>\n",
       "      <td>108.000000</td>\n",
       "      <td>7.000000</td>\n",
       "      <td>2020.000000</td>\n",
       "      <td>10.000000</td>\n",
       "      <td>24.000000</td>\n",
       "    </tr>\n",
       "    <tr>\n",
       "      <th>max</th>\n",
       "      <td>209.000000</td>\n",
       "      <td>9.000000</td>\n",
       "      <td>2021.000000</td>\n",
       "      <td>12.000000</td>\n",
       "      <td>31.000000</td>\n",
       "    </tr>\n",
       "  </tbody>\n",
       "</table>\n",
       "</div>"
      ],
      "text/plain": [
       "          Runtime  IMDB Score  Release Year  Release Month  Release Day\n",
       "count  584.000000  584.000000    584.000000     584.000000   584.000000\n",
       "mean    93.577055    6.271747   2018.936644       6.859589    16.347603\n",
       "std     27.761683    0.979256      1.473992       3.466697     8.638979\n",
       "min      4.000000    2.500000   2014.000000       1.000000     1.000000\n",
       "25%     86.000000    5.700000   2018.000000       4.000000     9.000000\n",
       "50%     97.000000    6.350000   2019.000000       7.000000    16.000000\n",
       "75%    108.000000    7.000000   2020.000000      10.000000    24.000000\n",
       "max    209.000000    9.000000   2021.000000      12.000000    31.000000"
      ]
     },
     "execution_count": 6,
     "metadata": {},
     "output_type": "execute_result"
    }
   ],
   "source": [
    "netflix.describe()"
   ]
  },
  {
   "cell_type": "code",
   "execution_count": 80,
   "metadata": {},
   "outputs": [
    {
     "data": {
      "text/html": [
       "<div>\n",
       "<style scoped>\n",
       "    .dataframe tbody tr th:only-of-type {\n",
       "        vertical-align: middle;\n",
       "    }\n",
       "\n",
       "    .dataframe tbody tr th {\n",
       "        vertical-align: top;\n",
       "    }\n",
       "\n",
       "    .dataframe thead th {\n",
       "        text-align: right;\n",
       "    }\n",
       "</style>\n",
       "<table border=\"1\" class=\"dataframe\">\n",
       "  <thead>\n",
       "    <tr style=\"text-align: right;\">\n",
       "      <th></th>\n",
       "      <th>index</th>\n",
       "      <th>Genre</th>\n",
       "    </tr>\n",
       "  </thead>\n",
       "  <tbody>\n",
       "    <tr>\n",
       "      <th>0</th>\n",
       "      <td>Documentary</td>\n",
       "      <td>159</td>\n",
       "    </tr>\n",
       "    <tr>\n",
       "      <th>1</th>\n",
       "      <td>Drama</td>\n",
       "      <td>77</td>\n",
       "    </tr>\n",
       "    <tr>\n",
       "      <th>2</th>\n",
       "      <td>Comedy</td>\n",
       "      <td>49</td>\n",
       "    </tr>\n",
       "    <tr>\n",
       "      <th>3</th>\n",
       "      <td>Romantic comedy</td>\n",
       "      <td>39</td>\n",
       "    </tr>\n",
       "    <tr>\n",
       "      <th>4</th>\n",
       "      <td>Thriller</td>\n",
       "      <td>33</td>\n",
       "    </tr>\n",
       "    <tr>\n",
       "      <th>5</th>\n",
       "      <td>Comedy-drama</td>\n",
       "      <td>14</td>\n",
       "    </tr>\n",
       "    <tr>\n",
       "      <th>6</th>\n",
       "      <td>Crime drama</td>\n",
       "      <td>11</td>\n",
       "    </tr>\n",
       "    <tr>\n",
       "      <th>7</th>\n",
       "      <td>Biopic</td>\n",
       "      <td>9</td>\n",
       "    </tr>\n",
       "    <tr>\n",
       "      <th>8</th>\n",
       "      <td>Horror</td>\n",
       "      <td>9</td>\n",
       "    </tr>\n",
       "    <tr>\n",
       "      <th>9</th>\n",
       "      <td>Action</td>\n",
       "      <td>7</td>\n",
       "    </tr>\n",
       "  </tbody>\n",
       "</table>\n",
       "</div>"
      ],
      "text/plain": [
       "             index  Genre\n",
       "0      Documentary    159\n",
       "1            Drama     77\n",
       "2           Comedy     49\n",
       "3  Romantic comedy     39\n",
       "4         Thriller     33\n",
       "5     Comedy-drama     14\n",
       "6      Crime drama     11\n",
       "7           Biopic      9\n",
       "8           Horror      9\n",
       "9           Action      7"
      ]
     },
     "execution_count": 80,
     "metadata": {},
     "output_type": "execute_result"
    }
   ],
   "source": [
    "top10_genre = pd.DataFrame(netflix.Genre.value_counts()[:10])\n",
    "top10_genre.reset_index(inplace=True)\n",
    "top10_genre"
   ]
  },
  {
   "cell_type": "code",
   "execution_count": 129,
   "metadata": {},
   "outputs": [
    {
     "data": {
      "application/vnd.plotly.v1+json": {
       "config": {
        "plotlyServerURL": "https://plot.ly"
       },
       "data": [
        {
         "branchvalues": "total",
         "domain": {
          "x": [
           0,
           1
          ],
          "y": [
           0,
           1
          ]
         },
         "hovertemplate": "labels=%{label}<br>Genre=%{value}<br>parent=%{parent}<br>id=%{id}<extra></extra>",
         "ids": [
          "Action",
          "Biopic",
          "Comedy",
          "Comedy-drama",
          "Crime drama",
          "Documentary",
          "Drama",
          "Horror",
          "Romantic comedy",
          "Thriller"
         ],
         "labels": [
          "Action",
          "Biopic",
          "Comedy",
          "Comedy-drama",
          "Crime drama",
          "Documentary",
          "Drama",
          "Horror",
          "Romantic comedy",
          "Thriller"
         ],
         "name": "",
         "parents": [
          "",
          "",
          "",
          "",
          "",
          "",
          "",
          "",
          "",
          ""
         ],
         "textinfo": "label+value+percent parent",
         "type": "treemap",
         "values": [
          7,
          9,
          49,
          14,
          11,
          159,
          77,
          9,
          39,
          33
         ]
        }
       ],
       "layout": {
        "legend": {
         "tracegroupgap": 0
        },
        "margin": {
         "t": 60
        },
        "template": {
         "data": {
          "bar": [
           {
            "error_x": {
             "color": "#2a3f5f"
            },
            "error_y": {
             "color": "#2a3f5f"
            },
            "marker": {
             "line": {
              "color": "#E5ECF6",
              "width": 0.5
             },
             "pattern": {
              "fillmode": "overlay",
              "size": 10,
              "solidity": 0.2
             }
            },
            "type": "bar"
           }
          ],
          "barpolar": [
           {
            "marker": {
             "line": {
              "color": "#E5ECF6",
              "width": 0.5
             },
             "pattern": {
              "fillmode": "overlay",
              "size": 10,
              "solidity": 0.2
             }
            },
            "type": "barpolar"
           }
          ],
          "carpet": [
           {
            "aaxis": {
             "endlinecolor": "#2a3f5f",
             "gridcolor": "white",
             "linecolor": "white",
             "minorgridcolor": "white",
             "startlinecolor": "#2a3f5f"
            },
            "baxis": {
             "endlinecolor": "#2a3f5f",
             "gridcolor": "white",
             "linecolor": "white",
             "minorgridcolor": "white",
             "startlinecolor": "#2a3f5f"
            },
            "type": "carpet"
           }
          ],
          "choropleth": [
           {
            "colorbar": {
             "outlinewidth": 0,
             "ticks": ""
            },
            "type": "choropleth"
           }
          ],
          "contour": [
           {
            "colorbar": {
             "outlinewidth": 0,
             "ticks": ""
            },
            "colorscale": [
             [
              0,
              "#0d0887"
             ],
             [
              0.1111111111111111,
              "#46039f"
             ],
             [
              0.2222222222222222,
              "#7201a8"
             ],
             [
              0.3333333333333333,
              "#9c179e"
             ],
             [
              0.4444444444444444,
              "#bd3786"
             ],
             [
              0.5555555555555556,
              "#d8576b"
             ],
             [
              0.6666666666666666,
              "#ed7953"
             ],
             [
              0.7777777777777778,
              "#fb9f3a"
             ],
             [
              0.8888888888888888,
              "#fdca26"
             ],
             [
              1,
              "#f0f921"
             ]
            ],
            "type": "contour"
           }
          ],
          "contourcarpet": [
           {
            "colorbar": {
             "outlinewidth": 0,
             "ticks": ""
            },
            "type": "contourcarpet"
           }
          ],
          "heatmap": [
           {
            "colorbar": {
             "outlinewidth": 0,
             "ticks": ""
            },
            "colorscale": [
             [
              0,
              "#0d0887"
             ],
             [
              0.1111111111111111,
              "#46039f"
             ],
             [
              0.2222222222222222,
              "#7201a8"
             ],
             [
              0.3333333333333333,
              "#9c179e"
             ],
             [
              0.4444444444444444,
              "#bd3786"
             ],
             [
              0.5555555555555556,
              "#d8576b"
             ],
             [
              0.6666666666666666,
              "#ed7953"
             ],
             [
              0.7777777777777778,
              "#fb9f3a"
             ],
             [
              0.8888888888888888,
              "#fdca26"
             ],
             [
              1,
              "#f0f921"
             ]
            ],
            "type": "heatmap"
           }
          ],
          "heatmapgl": [
           {
            "colorbar": {
             "outlinewidth": 0,
             "ticks": ""
            },
            "colorscale": [
             [
              0,
              "#0d0887"
             ],
             [
              0.1111111111111111,
              "#46039f"
             ],
             [
              0.2222222222222222,
              "#7201a8"
             ],
             [
              0.3333333333333333,
              "#9c179e"
             ],
             [
              0.4444444444444444,
              "#bd3786"
             ],
             [
              0.5555555555555556,
              "#d8576b"
             ],
             [
              0.6666666666666666,
              "#ed7953"
             ],
             [
              0.7777777777777778,
              "#fb9f3a"
             ],
             [
              0.8888888888888888,
              "#fdca26"
             ],
             [
              1,
              "#f0f921"
             ]
            ],
            "type": "heatmapgl"
           }
          ],
          "histogram": [
           {
            "marker": {
             "pattern": {
              "fillmode": "overlay",
              "size": 10,
              "solidity": 0.2
             }
            },
            "type": "histogram"
           }
          ],
          "histogram2d": [
           {
            "colorbar": {
             "outlinewidth": 0,
             "ticks": ""
            },
            "colorscale": [
             [
              0,
              "#0d0887"
             ],
             [
              0.1111111111111111,
              "#46039f"
             ],
             [
              0.2222222222222222,
              "#7201a8"
             ],
             [
              0.3333333333333333,
              "#9c179e"
             ],
             [
              0.4444444444444444,
              "#bd3786"
             ],
             [
              0.5555555555555556,
              "#d8576b"
             ],
             [
              0.6666666666666666,
              "#ed7953"
             ],
             [
              0.7777777777777778,
              "#fb9f3a"
             ],
             [
              0.8888888888888888,
              "#fdca26"
             ],
             [
              1,
              "#f0f921"
             ]
            ],
            "type": "histogram2d"
           }
          ],
          "histogram2dcontour": [
           {
            "colorbar": {
             "outlinewidth": 0,
             "ticks": ""
            },
            "colorscale": [
             [
              0,
              "#0d0887"
             ],
             [
              0.1111111111111111,
              "#46039f"
             ],
             [
              0.2222222222222222,
              "#7201a8"
             ],
             [
              0.3333333333333333,
              "#9c179e"
             ],
             [
              0.4444444444444444,
              "#bd3786"
             ],
             [
              0.5555555555555556,
              "#d8576b"
             ],
             [
              0.6666666666666666,
              "#ed7953"
             ],
             [
              0.7777777777777778,
              "#fb9f3a"
             ],
             [
              0.8888888888888888,
              "#fdca26"
             ],
             [
              1,
              "#f0f921"
             ]
            ],
            "type": "histogram2dcontour"
           }
          ],
          "mesh3d": [
           {
            "colorbar": {
             "outlinewidth": 0,
             "ticks": ""
            },
            "type": "mesh3d"
           }
          ],
          "parcoords": [
           {
            "line": {
             "colorbar": {
              "outlinewidth": 0,
              "ticks": ""
             }
            },
            "type": "parcoords"
           }
          ],
          "pie": [
           {
            "automargin": true,
            "type": "pie"
           }
          ],
          "scatter": [
           {
            "marker": {
             "colorbar": {
              "outlinewidth": 0,
              "ticks": ""
             }
            },
            "type": "scatter"
           }
          ],
          "scatter3d": [
           {
            "line": {
             "colorbar": {
              "outlinewidth": 0,
              "ticks": ""
             }
            },
            "marker": {
             "colorbar": {
              "outlinewidth": 0,
              "ticks": ""
             }
            },
            "type": "scatter3d"
           }
          ],
          "scattercarpet": [
           {
            "marker": {
             "colorbar": {
              "outlinewidth": 0,
              "ticks": ""
             }
            },
            "type": "scattercarpet"
           }
          ],
          "scattergeo": [
           {
            "marker": {
             "colorbar": {
              "outlinewidth": 0,
              "ticks": ""
             }
            },
            "type": "scattergeo"
           }
          ],
          "scattergl": [
           {
            "marker": {
             "colorbar": {
              "outlinewidth": 0,
              "ticks": ""
             }
            },
            "type": "scattergl"
           }
          ],
          "scattermapbox": [
           {
            "marker": {
             "colorbar": {
              "outlinewidth": 0,
              "ticks": ""
             }
            },
            "type": "scattermapbox"
           }
          ],
          "scatterpolar": [
           {
            "marker": {
             "colorbar": {
              "outlinewidth": 0,
              "ticks": ""
             }
            },
            "type": "scatterpolar"
           }
          ],
          "scatterpolargl": [
           {
            "marker": {
             "colorbar": {
              "outlinewidth": 0,
              "ticks": ""
             }
            },
            "type": "scatterpolargl"
           }
          ],
          "scatterternary": [
           {
            "marker": {
             "colorbar": {
              "outlinewidth": 0,
              "ticks": ""
             }
            },
            "type": "scatterternary"
           }
          ],
          "surface": [
           {
            "colorbar": {
             "outlinewidth": 0,
             "ticks": ""
            },
            "colorscale": [
             [
              0,
              "#0d0887"
             ],
             [
              0.1111111111111111,
              "#46039f"
             ],
             [
              0.2222222222222222,
              "#7201a8"
             ],
             [
              0.3333333333333333,
              "#9c179e"
             ],
             [
              0.4444444444444444,
              "#bd3786"
             ],
             [
              0.5555555555555556,
              "#d8576b"
             ],
             [
              0.6666666666666666,
              "#ed7953"
             ],
             [
              0.7777777777777778,
              "#fb9f3a"
             ],
             [
              0.8888888888888888,
              "#fdca26"
             ],
             [
              1,
              "#f0f921"
             ]
            ],
            "type": "surface"
           }
          ],
          "table": [
           {
            "cells": {
             "fill": {
              "color": "#EBF0F8"
             },
             "line": {
              "color": "white"
             }
            },
            "header": {
             "fill": {
              "color": "#C8D4E3"
             },
             "line": {
              "color": "white"
             }
            },
            "type": "table"
           }
          ]
         },
         "layout": {
          "annotationdefaults": {
           "arrowcolor": "#2a3f5f",
           "arrowhead": 0,
           "arrowwidth": 1
          },
          "autotypenumbers": "strict",
          "coloraxis": {
           "colorbar": {
            "outlinewidth": 0,
            "ticks": ""
           }
          },
          "colorscale": {
           "diverging": [
            [
             0,
             "#8e0152"
            ],
            [
             0.1,
             "#c51b7d"
            ],
            [
             0.2,
             "#de77ae"
            ],
            [
             0.3,
             "#f1b6da"
            ],
            [
             0.4,
             "#fde0ef"
            ],
            [
             0.5,
             "#f7f7f7"
            ],
            [
             0.6,
             "#e6f5d0"
            ],
            [
             0.7,
             "#b8e186"
            ],
            [
             0.8,
             "#7fbc41"
            ],
            [
             0.9,
             "#4d9221"
            ],
            [
             1,
             "#276419"
            ]
           ],
           "sequential": [
            [
             0,
             "#0d0887"
            ],
            [
             0.1111111111111111,
             "#46039f"
            ],
            [
             0.2222222222222222,
             "#7201a8"
            ],
            [
             0.3333333333333333,
             "#9c179e"
            ],
            [
             0.4444444444444444,
             "#bd3786"
            ],
            [
             0.5555555555555556,
             "#d8576b"
            ],
            [
             0.6666666666666666,
             "#ed7953"
            ],
            [
             0.7777777777777778,
             "#fb9f3a"
            ],
            [
             0.8888888888888888,
             "#fdca26"
            ],
            [
             1,
             "#f0f921"
            ]
           ],
           "sequentialminus": [
            [
             0,
             "#0d0887"
            ],
            [
             0.1111111111111111,
             "#46039f"
            ],
            [
             0.2222222222222222,
             "#7201a8"
            ],
            [
             0.3333333333333333,
             "#9c179e"
            ],
            [
             0.4444444444444444,
             "#bd3786"
            ],
            [
             0.5555555555555556,
             "#d8576b"
            ],
            [
             0.6666666666666666,
             "#ed7953"
            ],
            [
             0.7777777777777778,
             "#fb9f3a"
            ],
            [
             0.8888888888888888,
             "#fdca26"
            ],
            [
             1,
             "#f0f921"
            ]
           ]
          },
          "colorway": [
           "#636efa",
           "#EF553B",
           "#00cc96",
           "#ab63fa",
           "#FFA15A",
           "#19d3f3",
           "#FF6692",
           "#B6E880",
           "#FF97FF",
           "#FECB52"
          ],
          "font": {
           "color": "#2a3f5f"
          },
          "geo": {
           "bgcolor": "white",
           "lakecolor": "white",
           "landcolor": "#E5ECF6",
           "showlakes": true,
           "showland": true,
           "subunitcolor": "white"
          },
          "hoverlabel": {
           "align": "left"
          },
          "hovermode": "closest",
          "mapbox": {
           "style": "light"
          },
          "paper_bgcolor": "white",
          "plot_bgcolor": "#E5ECF6",
          "polar": {
           "angularaxis": {
            "gridcolor": "white",
            "linecolor": "white",
            "ticks": ""
           },
           "bgcolor": "#E5ECF6",
           "radialaxis": {
            "gridcolor": "white",
            "linecolor": "white",
            "ticks": ""
           }
          },
          "scene": {
           "xaxis": {
            "backgroundcolor": "#E5ECF6",
            "gridcolor": "white",
            "gridwidth": 2,
            "linecolor": "white",
            "showbackground": true,
            "ticks": "",
            "zerolinecolor": "white"
           },
           "yaxis": {
            "backgroundcolor": "#E5ECF6",
            "gridcolor": "white",
            "gridwidth": 2,
            "linecolor": "white",
            "showbackground": true,
            "ticks": "",
            "zerolinecolor": "white"
           },
           "zaxis": {
            "backgroundcolor": "#E5ECF6",
            "gridcolor": "white",
            "gridwidth": 2,
            "linecolor": "white",
            "showbackground": true,
            "ticks": "",
            "zerolinecolor": "white"
           }
          },
          "shapedefaults": {
           "line": {
            "color": "#2a3f5f"
           }
          },
          "ternary": {
           "aaxis": {
            "gridcolor": "white",
            "linecolor": "white",
            "ticks": ""
           },
           "baxis": {
            "gridcolor": "white",
            "linecolor": "white",
            "ticks": ""
           },
           "bgcolor": "#E5ECF6",
           "caxis": {
            "gridcolor": "white",
            "linecolor": "white",
            "ticks": ""
           }
          },
          "title": {
           "x": 0.05
          },
          "xaxis": {
           "automargin": true,
           "gridcolor": "white",
           "linecolor": "white",
           "ticks": "",
           "title": {
            "standoff": 15
           },
           "zerolinecolor": "white",
           "zerolinewidth": 2
          },
          "yaxis": {
           "automargin": true,
           "gridcolor": "white",
           "linecolor": "white",
           "ticks": "",
           "title": {
            "standoff": 15
           },
           "zerolinecolor": "white",
           "zerolinewidth": 2
          }
         }
        },
        "title": {
         "font": {
          "size": 20
         },
         "text": "Top 10 Genres",
         "x": 0.5
        }
       }
      }
     },
     "metadata": {},
     "output_type": "display_data"
    }
   ],
   "source": [
    "fig_genre = px.treemap(top10_genre, path=['index'], values='Genre')\n",
    "fig_genre.update_layout(title_text='Top 10 Genres',\n",
    "                  title_x=0.5, \n",
    "                  title_font=dict(size=20))\n",
    "fig_genre.update_traces(textinfo=\"label+value+percent parent\")\n",
    "fig_genre.show()"
   ]
  },
  {
   "cell_type": "code",
   "execution_count": 78,
   "metadata": {},
   "outputs": [
    {
     "data": {
      "text/html": [
       "<div>\n",
       "<style scoped>\n",
       "    .dataframe tbody tr th:only-of-type {\n",
       "        vertical-align: middle;\n",
       "    }\n",
       "\n",
       "    .dataframe tbody tr th {\n",
       "        vertical-align: top;\n",
       "    }\n",
       "\n",
       "    .dataframe thead th {\n",
       "        text-align: right;\n",
       "    }\n",
       "</style>\n",
       "<table border=\"1\" class=\"dataframe\">\n",
       "  <thead>\n",
       "    <tr style=\"text-align: right;\">\n",
       "      <th></th>\n",
       "      <th>index</th>\n",
       "      <th>Language</th>\n",
       "    </tr>\n",
       "  </thead>\n",
       "  <tbody>\n",
       "    <tr>\n",
       "      <th>0</th>\n",
       "      <td>English</td>\n",
       "      <td>401</td>\n",
       "    </tr>\n",
       "    <tr>\n",
       "      <th>1</th>\n",
       "      <td>Hindi</td>\n",
       "      <td>33</td>\n",
       "    </tr>\n",
       "    <tr>\n",
       "      <th>2</th>\n",
       "      <td>Spanish</td>\n",
       "      <td>31</td>\n",
       "    </tr>\n",
       "    <tr>\n",
       "      <th>3</th>\n",
       "      <td>French</td>\n",
       "      <td>20</td>\n",
       "    </tr>\n",
       "    <tr>\n",
       "      <th>4</th>\n",
       "      <td>Italian</td>\n",
       "      <td>14</td>\n",
       "    </tr>\n",
       "    <tr>\n",
       "      <th>5</th>\n",
       "      <td>Portuguese</td>\n",
       "      <td>12</td>\n",
       "    </tr>\n",
       "    <tr>\n",
       "      <th>6</th>\n",
       "      <td>Indonesian</td>\n",
       "      <td>9</td>\n",
       "    </tr>\n",
       "    <tr>\n",
       "      <th>7</th>\n",
       "      <td>Japanese</td>\n",
       "      <td>6</td>\n",
       "    </tr>\n",
       "    <tr>\n",
       "      <th>8</th>\n",
       "      <td>Korean</td>\n",
       "      <td>6</td>\n",
       "    </tr>\n",
       "    <tr>\n",
       "      <th>9</th>\n",
       "      <td>German</td>\n",
       "      <td>5</td>\n",
       "    </tr>\n",
       "  </tbody>\n",
       "</table>\n",
       "</div>"
      ],
      "text/plain": [
       "        index  Language\n",
       "0     English       401\n",
       "1       Hindi        33\n",
       "2     Spanish        31\n",
       "3      French        20\n",
       "4     Italian        14\n",
       "5  Portuguese        12\n",
       "6  Indonesian         9\n",
       "7    Japanese         6\n",
       "8      Korean         6\n",
       "9      German         5"
      ]
     },
     "execution_count": 78,
     "metadata": {},
     "output_type": "execute_result"
    }
   ],
   "source": [
    "top10_languages = pd.DataFrame(netflix.Language.value_counts()[:10])\n",
    "top10_languages.reset_index(inplace=True)\n",
    "top10_languages\n"
   ]
  },
  {
   "cell_type": "code",
   "execution_count": 128,
   "metadata": {},
   "outputs": [
    {
     "data": {
      "application/vnd.plotly.v1+json": {
       "config": {
        "plotlyServerURL": "https://plot.ly"
       },
       "data": [
        {
         "branchvalues": "total",
         "domain": {
          "x": [
           0,
           1
          ],
          "y": [
           0,
           1
          ]
         },
         "hovertemplate": "labels=%{label}<br>Language=%{value}<br>parent=%{parent}<br>id=%{id}<extra></extra>",
         "ids": [
          "English",
          "French",
          "German",
          "Hindi",
          "Indonesian",
          "Italian",
          "Japanese",
          "Korean",
          "Portuguese",
          "Spanish"
         ],
         "labels": [
          "English",
          "French",
          "German",
          "Hindi",
          "Indonesian",
          "Italian",
          "Japanese",
          "Korean",
          "Portuguese",
          "Spanish"
         ],
         "name": "",
         "parents": [
          "",
          "",
          "",
          "",
          "",
          "",
          "",
          "",
          "",
          ""
         ],
         "textinfo": "label+value+percent parent",
         "type": "treemap",
         "values": [
          401,
          20,
          5,
          33,
          9,
          14,
          6,
          6,
          12,
          31
         ]
        }
       ],
       "layout": {
        "legend": {
         "tracegroupgap": 0
        },
        "margin": {
         "t": 60
        },
        "template": {
         "data": {
          "bar": [
           {
            "error_x": {
             "color": "#2a3f5f"
            },
            "error_y": {
             "color": "#2a3f5f"
            },
            "marker": {
             "line": {
              "color": "#E5ECF6",
              "width": 0.5
             },
             "pattern": {
              "fillmode": "overlay",
              "size": 10,
              "solidity": 0.2
             }
            },
            "type": "bar"
           }
          ],
          "barpolar": [
           {
            "marker": {
             "line": {
              "color": "#E5ECF6",
              "width": 0.5
             },
             "pattern": {
              "fillmode": "overlay",
              "size": 10,
              "solidity": 0.2
             }
            },
            "type": "barpolar"
           }
          ],
          "carpet": [
           {
            "aaxis": {
             "endlinecolor": "#2a3f5f",
             "gridcolor": "white",
             "linecolor": "white",
             "minorgridcolor": "white",
             "startlinecolor": "#2a3f5f"
            },
            "baxis": {
             "endlinecolor": "#2a3f5f",
             "gridcolor": "white",
             "linecolor": "white",
             "minorgridcolor": "white",
             "startlinecolor": "#2a3f5f"
            },
            "type": "carpet"
           }
          ],
          "choropleth": [
           {
            "colorbar": {
             "outlinewidth": 0,
             "ticks": ""
            },
            "type": "choropleth"
           }
          ],
          "contour": [
           {
            "colorbar": {
             "outlinewidth": 0,
             "ticks": ""
            },
            "colorscale": [
             [
              0,
              "#0d0887"
             ],
             [
              0.1111111111111111,
              "#46039f"
             ],
             [
              0.2222222222222222,
              "#7201a8"
             ],
             [
              0.3333333333333333,
              "#9c179e"
             ],
             [
              0.4444444444444444,
              "#bd3786"
             ],
             [
              0.5555555555555556,
              "#d8576b"
             ],
             [
              0.6666666666666666,
              "#ed7953"
             ],
             [
              0.7777777777777778,
              "#fb9f3a"
             ],
             [
              0.8888888888888888,
              "#fdca26"
             ],
             [
              1,
              "#f0f921"
             ]
            ],
            "type": "contour"
           }
          ],
          "contourcarpet": [
           {
            "colorbar": {
             "outlinewidth": 0,
             "ticks": ""
            },
            "type": "contourcarpet"
           }
          ],
          "heatmap": [
           {
            "colorbar": {
             "outlinewidth": 0,
             "ticks": ""
            },
            "colorscale": [
             [
              0,
              "#0d0887"
             ],
             [
              0.1111111111111111,
              "#46039f"
             ],
             [
              0.2222222222222222,
              "#7201a8"
             ],
             [
              0.3333333333333333,
              "#9c179e"
             ],
             [
              0.4444444444444444,
              "#bd3786"
             ],
             [
              0.5555555555555556,
              "#d8576b"
             ],
             [
              0.6666666666666666,
              "#ed7953"
             ],
             [
              0.7777777777777778,
              "#fb9f3a"
             ],
             [
              0.8888888888888888,
              "#fdca26"
             ],
             [
              1,
              "#f0f921"
             ]
            ],
            "type": "heatmap"
           }
          ],
          "heatmapgl": [
           {
            "colorbar": {
             "outlinewidth": 0,
             "ticks": ""
            },
            "colorscale": [
             [
              0,
              "#0d0887"
             ],
             [
              0.1111111111111111,
              "#46039f"
             ],
             [
              0.2222222222222222,
              "#7201a8"
             ],
             [
              0.3333333333333333,
              "#9c179e"
             ],
             [
              0.4444444444444444,
              "#bd3786"
             ],
             [
              0.5555555555555556,
              "#d8576b"
             ],
             [
              0.6666666666666666,
              "#ed7953"
             ],
             [
              0.7777777777777778,
              "#fb9f3a"
             ],
             [
              0.8888888888888888,
              "#fdca26"
             ],
             [
              1,
              "#f0f921"
             ]
            ],
            "type": "heatmapgl"
           }
          ],
          "histogram": [
           {
            "marker": {
             "pattern": {
              "fillmode": "overlay",
              "size": 10,
              "solidity": 0.2
             }
            },
            "type": "histogram"
           }
          ],
          "histogram2d": [
           {
            "colorbar": {
             "outlinewidth": 0,
             "ticks": ""
            },
            "colorscale": [
             [
              0,
              "#0d0887"
             ],
             [
              0.1111111111111111,
              "#46039f"
             ],
             [
              0.2222222222222222,
              "#7201a8"
             ],
             [
              0.3333333333333333,
              "#9c179e"
             ],
             [
              0.4444444444444444,
              "#bd3786"
             ],
             [
              0.5555555555555556,
              "#d8576b"
             ],
             [
              0.6666666666666666,
              "#ed7953"
             ],
             [
              0.7777777777777778,
              "#fb9f3a"
             ],
             [
              0.8888888888888888,
              "#fdca26"
             ],
             [
              1,
              "#f0f921"
             ]
            ],
            "type": "histogram2d"
           }
          ],
          "histogram2dcontour": [
           {
            "colorbar": {
             "outlinewidth": 0,
             "ticks": ""
            },
            "colorscale": [
             [
              0,
              "#0d0887"
             ],
             [
              0.1111111111111111,
              "#46039f"
             ],
             [
              0.2222222222222222,
              "#7201a8"
             ],
             [
              0.3333333333333333,
              "#9c179e"
             ],
             [
              0.4444444444444444,
              "#bd3786"
             ],
             [
              0.5555555555555556,
              "#d8576b"
             ],
             [
              0.6666666666666666,
              "#ed7953"
             ],
             [
              0.7777777777777778,
              "#fb9f3a"
             ],
             [
              0.8888888888888888,
              "#fdca26"
             ],
             [
              1,
              "#f0f921"
             ]
            ],
            "type": "histogram2dcontour"
           }
          ],
          "mesh3d": [
           {
            "colorbar": {
             "outlinewidth": 0,
             "ticks": ""
            },
            "type": "mesh3d"
           }
          ],
          "parcoords": [
           {
            "line": {
             "colorbar": {
              "outlinewidth": 0,
              "ticks": ""
             }
            },
            "type": "parcoords"
           }
          ],
          "pie": [
           {
            "automargin": true,
            "type": "pie"
           }
          ],
          "scatter": [
           {
            "marker": {
             "colorbar": {
              "outlinewidth": 0,
              "ticks": ""
             }
            },
            "type": "scatter"
           }
          ],
          "scatter3d": [
           {
            "line": {
             "colorbar": {
              "outlinewidth": 0,
              "ticks": ""
             }
            },
            "marker": {
             "colorbar": {
              "outlinewidth": 0,
              "ticks": ""
             }
            },
            "type": "scatter3d"
           }
          ],
          "scattercarpet": [
           {
            "marker": {
             "colorbar": {
              "outlinewidth": 0,
              "ticks": ""
             }
            },
            "type": "scattercarpet"
           }
          ],
          "scattergeo": [
           {
            "marker": {
             "colorbar": {
              "outlinewidth": 0,
              "ticks": ""
             }
            },
            "type": "scattergeo"
           }
          ],
          "scattergl": [
           {
            "marker": {
             "colorbar": {
              "outlinewidth": 0,
              "ticks": ""
             }
            },
            "type": "scattergl"
           }
          ],
          "scattermapbox": [
           {
            "marker": {
             "colorbar": {
              "outlinewidth": 0,
              "ticks": ""
             }
            },
            "type": "scattermapbox"
           }
          ],
          "scatterpolar": [
           {
            "marker": {
             "colorbar": {
              "outlinewidth": 0,
              "ticks": ""
             }
            },
            "type": "scatterpolar"
           }
          ],
          "scatterpolargl": [
           {
            "marker": {
             "colorbar": {
              "outlinewidth": 0,
              "ticks": ""
             }
            },
            "type": "scatterpolargl"
           }
          ],
          "scatterternary": [
           {
            "marker": {
             "colorbar": {
              "outlinewidth": 0,
              "ticks": ""
             }
            },
            "type": "scatterternary"
           }
          ],
          "surface": [
           {
            "colorbar": {
             "outlinewidth": 0,
             "ticks": ""
            },
            "colorscale": [
             [
              0,
              "#0d0887"
             ],
             [
              0.1111111111111111,
              "#46039f"
             ],
             [
              0.2222222222222222,
              "#7201a8"
             ],
             [
              0.3333333333333333,
              "#9c179e"
             ],
             [
              0.4444444444444444,
              "#bd3786"
             ],
             [
              0.5555555555555556,
              "#d8576b"
             ],
             [
              0.6666666666666666,
              "#ed7953"
             ],
             [
              0.7777777777777778,
              "#fb9f3a"
             ],
             [
              0.8888888888888888,
              "#fdca26"
             ],
             [
              1,
              "#f0f921"
             ]
            ],
            "type": "surface"
           }
          ],
          "table": [
           {
            "cells": {
             "fill": {
              "color": "#EBF0F8"
             },
             "line": {
              "color": "white"
             }
            },
            "header": {
             "fill": {
              "color": "#C8D4E3"
             },
             "line": {
              "color": "white"
             }
            },
            "type": "table"
           }
          ]
         },
         "layout": {
          "annotationdefaults": {
           "arrowcolor": "#2a3f5f",
           "arrowhead": 0,
           "arrowwidth": 1
          },
          "autotypenumbers": "strict",
          "coloraxis": {
           "colorbar": {
            "outlinewidth": 0,
            "ticks": ""
           }
          },
          "colorscale": {
           "diverging": [
            [
             0,
             "#8e0152"
            ],
            [
             0.1,
             "#c51b7d"
            ],
            [
             0.2,
             "#de77ae"
            ],
            [
             0.3,
             "#f1b6da"
            ],
            [
             0.4,
             "#fde0ef"
            ],
            [
             0.5,
             "#f7f7f7"
            ],
            [
             0.6,
             "#e6f5d0"
            ],
            [
             0.7,
             "#b8e186"
            ],
            [
             0.8,
             "#7fbc41"
            ],
            [
             0.9,
             "#4d9221"
            ],
            [
             1,
             "#276419"
            ]
           ],
           "sequential": [
            [
             0,
             "#0d0887"
            ],
            [
             0.1111111111111111,
             "#46039f"
            ],
            [
             0.2222222222222222,
             "#7201a8"
            ],
            [
             0.3333333333333333,
             "#9c179e"
            ],
            [
             0.4444444444444444,
             "#bd3786"
            ],
            [
             0.5555555555555556,
             "#d8576b"
            ],
            [
             0.6666666666666666,
             "#ed7953"
            ],
            [
             0.7777777777777778,
             "#fb9f3a"
            ],
            [
             0.8888888888888888,
             "#fdca26"
            ],
            [
             1,
             "#f0f921"
            ]
           ],
           "sequentialminus": [
            [
             0,
             "#0d0887"
            ],
            [
             0.1111111111111111,
             "#46039f"
            ],
            [
             0.2222222222222222,
             "#7201a8"
            ],
            [
             0.3333333333333333,
             "#9c179e"
            ],
            [
             0.4444444444444444,
             "#bd3786"
            ],
            [
             0.5555555555555556,
             "#d8576b"
            ],
            [
             0.6666666666666666,
             "#ed7953"
            ],
            [
             0.7777777777777778,
             "#fb9f3a"
            ],
            [
             0.8888888888888888,
             "#fdca26"
            ],
            [
             1,
             "#f0f921"
            ]
           ]
          },
          "colorway": [
           "#636efa",
           "#EF553B",
           "#00cc96",
           "#ab63fa",
           "#FFA15A",
           "#19d3f3",
           "#FF6692",
           "#B6E880",
           "#FF97FF",
           "#FECB52"
          ],
          "font": {
           "color": "#2a3f5f"
          },
          "geo": {
           "bgcolor": "white",
           "lakecolor": "white",
           "landcolor": "#E5ECF6",
           "showlakes": true,
           "showland": true,
           "subunitcolor": "white"
          },
          "hoverlabel": {
           "align": "left"
          },
          "hovermode": "closest",
          "mapbox": {
           "style": "light"
          },
          "paper_bgcolor": "white",
          "plot_bgcolor": "#E5ECF6",
          "polar": {
           "angularaxis": {
            "gridcolor": "white",
            "linecolor": "white",
            "ticks": ""
           },
           "bgcolor": "#E5ECF6",
           "radialaxis": {
            "gridcolor": "white",
            "linecolor": "white",
            "ticks": ""
           }
          },
          "scene": {
           "xaxis": {
            "backgroundcolor": "#E5ECF6",
            "gridcolor": "white",
            "gridwidth": 2,
            "linecolor": "white",
            "showbackground": true,
            "ticks": "",
            "zerolinecolor": "white"
           },
           "yaxis": {
            "backgroundcolor": "#E5ECF6",
            "gridcolor": "white",
            "gridwidth": 2,
            "linecolor": "white",
            "showbackground": true,
            "ticks": "",
            "zerolinecolor": "white"
           },
           "zaxis": {
            "backgroundcolor": "#E5ECF6",
            "gridcolor": "white",
            "gridwidth": 2,
            "linecolor": "white",
            "showbackground": true,
            "ticks": "",
            "zerolinecolor": "white"
           }
          },
          "shapedefaults": {
           "line": {
            "color": "#2a3f5f"
           }
          },
          "ternary": {
           "aaxis": {
            "gridcolor": "white",
            "linecolor": "white",
            "ticks": ""
           },
           "baxis": {
            "gridcolor": "white",
            "linecolor": "white",
            "ticks": ""
           },
           "bgcolor": "#E5ECF6",
           "caxis": {
            "gridcolor": "white",
            "linecolor": "white",
            "ticks": ""
           }
          },
          "title": {
           "x": 0.05
          },
          "xaxis": {
           "automargin": true,
           "gridcolor": "white",
           "linecolor": "white",
           "ticks": "",
           "title": {
            "standoff": 15
           },
           "zerolinecolor": "white",
           "zerolinewidth": 2
          },
          "yaxis": {
           "automargin": true,
           "gridcolor": "white",
           "linecolor": "white",
           "ticks": "",
           "title": {
            "standoff": 15
           },
           "zerolinecolor": "white",
           "zerolinewidth": 2
          }
         }
        },
        "title": {
         "font": {
          "size": 20
         },
         "text": "Top 10 Movie Languages",
         "x": 0.5
        }
       }
      }
     },
     "metadata": {},
     "output_type": "display_data"
    }
   ],
   "source": [
    "fig_lang = px.treemap(top10_languages, path=['index'], values='Language')\n",
    "fig_lang.update_layout(title_text='Top 10 Movie Languages',\n",
    "                  title_x=0.5, \n",
    "                  title_font=dict(size=20))\n",
    "fig_lang.update_traces(textinfo=\"label+value+percent parent\")\n",
    "fig_lang.show()"
   ]
  },
  {
   "cell_type": "code",
   "execution_count": 126,
   "metadata": {},
   "outputs": [
    {
     "data": {
      "text/html": [
       "<div>\n",
       "<style scoped>\n",
       "    .dataframe tbody tr th:only-of-type {\n",
       "        vertical-align: middle;\n",
       "    }\n",
       "\n",
       "    .dataframe tbody tr th {\n",
       "        vertical-align: top;\n",
       "    }\n",
       "\n",
       "    .dataframe thead th {\n",
       "        text-align: right;\n",
       "    }\n",
       "</style>\n",
       "<table border=\"1\" class=\"dataframe\">\n",
       "  <thead>\n",
       "    <tr style=\"text-align: right;\">\n",
       "      <th></th>\n",
       "      <th>index</th>\n",
       "      <th>Release Year</th>\n",
       "    </tr>\n",
       "  </thead>\n",
       "  <tbody>\n",
       "    <tr>\n",
       "      <th>0</th>\n",
       "      <td>2020</td>\n",
       "      <td>183</td>\n",
       "    </tr>\n",
       "    <tr>\n",
       "      <th>1</th>\n",
       "      <td>2019</td>\n",
       "      <td>125</td>\n",
       "    </tr>\n",
       "    <tr>\n",
       "      <th>2</th>\n",
       "      <td>2018</td>\n",
       "      <td>99</td>\n",
       "    </tr>\n",
       "    <tr>\n",
       "      <th>3</th>\n",
       "      <td>2021</td>\n",
       "      <td>71</td>\n",
       "    </tr>\n",
       "    <tr>\n",
       "      <th>4</th>\n",
       "      <td>2017</td>\n",
       "      <td>66</td>\n",
       "    </tr>\n",
       "    <tr>\n",
       "      <th>5</th>\n",
       "      <td>2016</td>\n",
       "      <td>30</td>\n",
       "    </tr>\n",
       "    <tr>\n",
       "      <th>6</th>\n",
       "      <td>2015</td>\n",
       "      <td>9</td>\n",
       "    </tr>\n",
       "    <tr>\n",
       "      <th>7</th>\n",
       "      <td>2014</td>\n",
       "      <td>1</td>\n",
       "    </tr>\n",
       "  </tbody>\n",
       "</table>\n",
       "</div>"
      ],
      "text/plain": [
       "   index  Release Year\n",
       "0   2020           183\n",
       "1   2019           125\n",
       "2   2018            99\n",
       "3   2021            71\n",
       "4   2017            66\n",
       "5   2016            30\n",
       "6   2015             9\n",
       "7   2014             1"
      ]
     },
     "execution_count": 126,
     "metadata": {},
     "output_type": "execute_result"
    }
   ],
   "source": [
    "releasefreq = pd.DataFrame(netflix['Release Year'].value_counts())\n",
    "releasefreq.reset_index(inplace=True)\n",
    "releasefreq"
   ]
  },
  {
   "cell_type": "code",
   "execution_count": 127,
   "metadata": {},
   "outputs": [
    {
     "data": {
      "application/vnd.plotly.v1+json": {
       "config": {
        "plotlyServerURL": "https://plot.ly"
       },
       "data": [
        {
         "branchvalues": "total",
         "domain": {
          "x": [
           0,
           1
          ],
          "y": [
           0,
           1
          ]
         },
         "hovertemplate": "labels=%{label}<br>Release Year=%{value}<br>parent=%{parent}<br>id=%{id}<extra></extra>",
         "ids": [
          "2014",
          "2015",
          "2016",
          "2017",
          "2018",
          "2019",
          "2020",
          "2021"
         ],
         "labels": [
          "2014",
          "2015",
          "2016",
          "2017",
          "2018",
          "2019",
          "2020",
          "2021"
         ],
         "name": "",
         "parents": [
          "",
          "",
          "",
          "",
          "",
          "",
          "",
          ""
         ],
         "textinfo": "label+value+percent parent",
         "type": "treemap",
         "values": [
          1,
          9,
          30,
          66,
          99,
          125,
          183,
          71
         ]
        }
       ],
       "layout": {
        "legend": {
         "tracegroupgap": 0
        },
        "margin": {
         "t": 60
        },
        "template": {
         "data": {
          "bar": [
           {
            "error_x": {
             "color": "#2a3f5f"
            },
            "error_y": {
             "color": "#2a3f5f"
            },
            "marker": {
             "line": {
              "color": "#E5ECF6",
              "width": 0.5
             },
             "pattern": {
              "fillmode": "overlay",
              "size": 10,
              "solidity": 0.2
             }
            },
            "type": "bar"
           }
          ],
          "barpolar": [
           {
            "marker": {
             "line": {
              "color": "#E5ECF6",
              "width": 0.5
             },
             "pattern": {
              "fillmode": "overlay",
              "size": 10,
              "solidity": 0.2
             }
            },
            "type": "barpolar"
           }
          ],
          "carpet": [
           {
            "aaxis": {
             "endlinecolor": "#2a3f5f",
             "gridcolor": "white",
             "linecolor": "white",
             "minorgridcolor": "white",
             "startlinecolor": "#2a3f5f"
            },
            "baxis": {
             "endlinecolor": "#2a3f5f",
             "gridcolor": "white",
             "linecolor": "white",
             "minorgridcolor": "white",
             "startlinecolor": "#2a3f5f"
            },
            "type": "carpet"
           }
          ],
          "choropleth": [
           {
            "colorbar": {
             "outlinewidth": 0,
             "ticks": ""
            },
            "type": "choropleth"
           }
          ],
          "contour": [
           {
            "colorbar": {
             "outlinewidth": 0,
             "ticks": ""
            },
            "colorscale": [
             [
              0,
              "#0d0887"
             ],
             [
              0.1111111111111111,
              "#46039f"
             ],
             [
              0.2222222222222222,
              "#7201a8"
             ],
             [
              0.3333333333333333,
              "#9c179e"
             ],
             [
              0.4444444444444444,
              "#bd3786"
             ],
             [
              0.5555555555555556,
              "#d8576b"
             ],
             [
              0.6666666666666666,
              "#ed7953"
             ],
             [
              0.7777777777777778,
              "#fb9f3a"
             ],
             [
              0.8888888888888888,
              "#fdca26"
             ],
             [
              1,
              "#f0f921"
             ]
            ],
            "type": "contour"
           }
          ],
          "contourcarpet": [
           {
            "colorbar": {
             "outlinewidth": 0,
             "ticks": ""
            },
            "type": "contourcarpet"
           }
          ],
          "heatmap": [
           {
            "colorbar": {
             "outlinewidth": 0,
             "ticks": ""
            },
            "colorscale": [
             [
              0,
              "#0d0887"
             ],
             [
              0.1111111111111111,
              "#46039f"
             ],
             [
              0.2222222222222222,
              "#7201a8"
             ],
             [
              0.3333333333333333,
              "#9c179e"
             ],
             [
              0.4444444444444444,
              "#bd3786"
             ],
             [
              0.5555555555555556,
              "#d8576b"
             ],
             [
              0.6666666666666666,
              "#ed7953"
             ],
             [
              0.7777777777777778,
              "#fb9f3a"
             ],
             [
              0.8888888888888888,
              "#fdca26"
             ],
             [
              1,
              "#f0f921"
             ]
            ],
            "type": "heatmap"
           }
          ],
          "heatmapgl": [
           {
            "colorbar": {
             "outlinewidth": 0,
             "ticks": ""
            },
            "colorscale": [
             [
              0,
              "#0d0887"
             ],
             [
              0.1111111111111111,
              "#46039f"
             ],
             [
              0.2222222222222222,
              "#7201a8"
             ],
             [
              0.3333333333333333,
              "#9c179e"
             ],
             [
              0.4444444444444444,
              "#bd3786"
             ],
             [
              0.5555555555555556,
              "#d8576b"
             ],
             [
              0.6666666666666666,
              "#ed7953"
             ],
             [
              0.7777777777777778,
              "#fb9f3a"
             ],
             [
              0.8888888888888888,
              "#fdca26"
             ],
             [
              1,
              "#f0f921"
             ]
            ],
            "type": "heatmapgl"
           }
          ],
          "histogram": [
           {
            "marker": {
             "pattern": {
              "fillmode": "overlay",
              "size": 10,
              "solidity": 0.2
             }
            },
            "type": "histogram"
           }
          ],
          "histogram2d": [
           {
            "colorbar": {
             "outlinewidth": 0,
             "ticks": ""
            },
            "colorscale": [
             [
              0,
              "#0d0887"
             ],
             [
              0.1111111111111111,
              "#46039f"
             ],
             [
              0.2222222222222222,
              "#7201a8"
             ],
             [
              0.3333333333333333,
              "#9c179e"
             ],
             [
              0.4444444444444444,
              "#bd3786"
             ],
             [
              0.5555555555555556,
              "#d8576b"
             ],
             [
              0.6666666666666666,
              "#ed7953"
             ],
             [
              0.7777777777777778,
              "#fb9f3a"
             ],
             [
              0.8888888888888888,
              "#fdca26"
             ],
             [
              1,
              "#f0f921"
             ]
            ],
            "type": "histogram2d"
           }
          ],
          "histogram2dcontour": [
           {
            "colorbar": {
             "outlinewidth": 0,
             "ticks": ""
            },
            "colorscale": [
             [
              0,
              "#0d0887"
             ],
             [
              0.1111111111111111,
              "#46039f"
             ],
             [
              0.2222222222222222,
              "#7201a8"
             ],
             [
              0.3333333333333333,
              "#9c179e"
             ],
             [
              0.4444444444444444,
              "#bd3786"
             ],
             [
              0.5555555555555556,
              "#d8576b"
             ],
             [
              0.6666666666666666,
              "#ed7953"
             ],
             [
              0.7777777777777778,
              "#fb9f3a"
             ],
             [
              0.8888888888888888,
              "#fdca26"
             ],
             [
              1,
              "#f0f921"
             ]
            ],
            "type": "histogram2dcontour"
           }
          ],
          "mesh3d": [
           {
            "colorbar": {
             "outlinewidth": 0,
             "ticks": ""
            },
            "type": "mesh3d"
           }
          ],
          "parcoords": [
           {
            "line": {
             "colorbar": {
              "outlinewidth": 0,
              "ticks": ""
             }
            },
            "type": "parcoords"
           }
          ],
          "pie": [
           {
            "automargin": true,
            "type": "pie"
           }
          ],
          "scatter": [
           {
            "marker": {
             "colorbar": {
              "outlinewidth": 0,
              "ticks": ""
             }
            },
            "type": "scatter"
           }
          ],
          "scatter3d": [
           {
            "line": {
             "colorbar": {
              "outlinewidth": 0,
              "ticks": ""
             }
            },
            "marker": {
             "colorbar": {
              "outlinewidth": 0,
              "ticks": ""
             }
            },
            "type": "scatter3d"
           }
          ],
          "scattercarpet": [
           {
            "marker": {
             "colorbar": {
              "outlinewidth": 0,
              "ticks": ""
             }
            },
            "type": "scattercarpet"
           }
          ],
          "scattergeo": [
           {
            "marker": {
             "colorbar": {
              "outlinewidth": 0,
              "ticks": ""
             }
            },
            "type": "scattergeo"
           }
          ],
          "scattergl": [
           {
            "marker": {
             "colorbar": {
              "outlinewidth": 0,
              "ticks": ""
             }
            },
            "type": "scattergl"
           }
          ],
          "scattermapbox": [
           {
            "marker": {
             "colorbar": {
              "outlinewidth": 0,
              "ticks": ""
             }
            },
            "type": "scattermapbox"
           }
          ],
          "scatterpolar": [
           {
            "marker": {
             "colorbar": {
              "outlinewidth": 0,
              "ticks": ""
             }
            },
            "type": "scatterpolar"
           }
          ],
          "scatterpolargl": [
           {
            "marker": {
             "colorbar": {
              "outlinewidth": 0,
              "ticks": ""
             }
            },
            "type": "scatterpolargl"
           }
          ],
          "scatterternary": [
           {
            "marker": {
             "colorbar": {
              "outlinewidth": 0,
              "ticks": ""
             }
            },
            "type": "scatterternary"
           }
          ],
          "surface": [
           {
            "colorbar": {
             "outlinewidth": 0,
             "ticks": ""
            },
            "colorscale": [
             [
              0,
              "#0d0887"
             ],
             [
              0.1111111111111111,
              "#46039f"
             ],
             [
              0.2222222222222222,
              "#7201a8"
             ],
             [
              0.3333333333333333,
              "#9c179e"
             ],
             [
              0.4444444444444444,
              "#bd3786"
             ],
             [
              0.5555555555555556,
              "#d8576b"
             ],
             [
              0.6666666666666666,
              "#ed7953"
             ],
             [
              0.7777777777777778,
              "#fb9f3a"
             ],
             [
              0.8888888888888888,
              "#fdca26"
             ],
             [
              1,
              "#f0f921"
             ]
            ],
            "type": "surface"
           }
          ],
          "table": [
           {
            "cells": {
             "fill": {
              "color": "#EBF0F8"
             },
             "line": {
              "color": "white"
             }
            },
            "header": {
             "fill": {
              "color": "#C8D4E3"
             },
             "line": {
              "color": "white"
             }
            },
            "type": "table"
           }
          ]
         },
         "layout": {
          "annotationdefaults": {
           "arrowcolor": "#2a3f5f",
           "arrowhead": 0,
           "arrowwidth": 1
          },
          "autotypenumbers": "strict",
          "coloraxis": {
           "colorbar": {
            "outlinewidth": 0,
            "ticks": ""
           }
          },
          "colorscale": {
           "diverging": [
            [
             0,
             "#8e0152"
            ],
            [
             0.1,
             "#c51b7d"
            ],
            [
             0.2,
             "#de77ae"
            ],
            [
             0.3,
             "#f1b6da"
            ],
            [
             0.4,
             "#fde0ef"
            ],
            [
             0.5,
             "#f7f7f7"
            ],
            [
             0.6,
             "#e6f5d0"
            ],
            [
             0.7,
             "#b8e186"
            ],
            [
             0.8,
             "#7fbc41"
            ],
            [
             0.9,
             "#4d9221"
            ],
            [
             1,
             "#276419"
            ]
           ],
           "sequential": [
            [
             0,
             "#0d0887"
            ],
            [
             0.1111111111111111,
             "#46039f"
            ],
            [
             0.2222222222222222,
             "#7201a8"
            ],
            [
             0.3333333333333333,
             "#9c179e"
            ],
            [
             0.4444444444444444,
             "#bd3786"
            ],
            [
             0.5555555555555556,
             "#d8576b"
            ],
            [
             0.6666666666666666,
             "#ed7953"
            ],
            [
             0.7777777777777778,
             "#fb9f3a"
            ],
            [
             0.8888888888888888,
             "#fdca26"
            ],
            [
             1,
             "#f0f921"
            ]
           ],
           "sequentialminus": [
            [
             0,
             "#0d0887"
            ],
            [
             0.1111111111111111,
             "#46039f"
            ],
            [
             0.2222222222222222,
             "#7201a8"
            ],
            [
             0.3333333333333333,
             "#9c179e"
            ],
            [
             0.4444444444444444,
             "#bd3786"
            ],
            [
             0.5555555555555556,
             "#d8576b"
            ],
            [
             0.6666666666666666,
             "#ed7953"
            ],
            [
             0.7777777777777778,
             "#fb9f3a"
            ],
            [
             0.8888888888888888,
             "#fdca26"
            ],
            [
             1,
             "#f0f921"
            ]
           ]
          },
          "colorway": [
           "#636efa",
           "#EF553B",
           "#00cc96",
           "#ab63fa",
           "#FFA15A",
           "#19d3f3",
           "#FF6692",
           "#B6E880",
           "#FF97FF",
           "#FECB52"
          ],
          "font": {
           "color": "#2a3f5f"
          },
          "geo": {
           "bgcolor": "white",
           "lakecolor": "white",
           "landcolor": "#E5ECF6",
           "showlakes": true,
           "showland": true,
           "subunitcolor": "white"
          },
          "hoverlabel": {
           "align": "left"
          },
          "hovermode": "closest",
          "mapbox": {
           "style": "light"
          },
          "paper_bgcolor": "white",
          "plot_bgcolor": "#E5ECF6",
          "polar": {
           "angularaxis": {
            "gridcolor": "white",
            "linecolor": "white",
            "ticks": ""
           },
           "bgcolor": "#E5ECF6",
           "radialaxis": {
            "gridcolor": "white",
            "linecolor": "white",
            "ticks": ""
           }
          },
          "scene": {
           "xaxis": {
            "backgroundcolor": "#E5ECF6",
            "gridcolor": "white",
            "gridwidth": 2,
            "linecolor": "white",
            "showbackground": true,
            "ticks": "",
            "zerolinecolor": "white"
           },
           "yaxis": {
            "backgroundcolor": "#E5ECF6",
            "gridcolor": "white",
            "gridwidth": 2,
            "linecolor": "white",
            "showbackground": true,
            "ticks": "",
            "zerolinecolor": "white"
           },
           "zaxis": {
            "backgroundcolor": "#E5ECF6",
            "gridcolor": "white",
            "gridwidth": 2,
            "linecolor": "white",
            "showbackground": true,
            "ticks": "",
            "zerolinecolor": "white"
           }
          },
          "shapedefaults": {
           "line": {
            "color": "#2a3f5f"
           }
          },
          "ternary": {
           "aaxis": {
            "gridcolor": "white",
            "linecolor": "white",
            "ticks": ""
           },
           "baxis": {
            "gridcolor": "white",
            "linecolor": "white",
            "ticks": ""
           },
           "bgcolor": "#E5ECF6",
           "caxis": {
            "gridcolor": "white",
            "linecolor": "white",
            "ticks": ""
           }
          },
          "title": {
           "x": 0.05
          },
          "xaxis": {
           "automargin": true,
           "gridcolor": "white",
           "linecolor": "white",
           "ticks": "",
           "title": {
            "standoff": 15
           },
           "zerolinecolor": "white",
           "zerolinewidth": 2
          },
          "yaxis": {
           "automargin": true,
           "gridcolor": "white",
           "linecolor": "white",
           "ticks": "",
           "title": {
            "standoff": 15
           },
           "zerolinecolor": "white",
           "zerolinewidth": 2
          }
         }
        },
        "title": {
         "font": {
          "size": 20
         },
         "text": "Netflix Originals released from 2014 - 2021",
         "x": 0.5
        }
       }
      }
     },
     "metadata": {},
     "output_type": "display_data"
    }
   ],
   "source": [
    "fig_relfreq = px.treemap(releasefreq, path=['index'], values='Release Year')\n",
    "fig_relfreq.update_layout(title_text='Netflix Originals released from 2014 - 2021',\n",
    "                  title_x=0.5, \n",
    "                  title_font=dict(size=20))\n",
    "fig_relfreq.update_traces(textinfo=\"label+value+percent parent\")\n",
    "fig_relfreq.show()"
   ]
  },
  {
   "cell_type": "code",
   "execution_count": 10,
   "metadata": {},
   "outputs": [
    {
     "data": {
      "text/plain": [
       "Above Average Rating    360\n",
       "Mediocre Rating         198\n",
       " Exceptional Rating      17\n",
       "Poor Rating               9\n",
       "Name: Rating Quality, dtype: int64"
      ]
     },
     "execution_count": 10,
     "metadata": {},
     "output_type": "execute_result"
    }
   ],
   "source": [
    "netflix['Rating Quality'].value_counts()[:10]"
   ]
  },
  {
   "cell_type": "code",
   "execution_count": 11,
   "metadata": {},
   "outputs": [
    {
     "data": {
      "text/plain": [
       "Index(['Title', 'Genre', 'Premiere', 'Runtime', 'IMDB Score', 'Language',\n",
       "       'Rating Quality', 'Film Length Group', 'Release Year', 'Release Month',\n",
       "       'Release Day'],\n",
       "      dtype='object')"
      ]
     },
     "execution_count": 11,
     "metadata": {},
     "output_type": "execute_result"
    }
   ],
   "source": [
    "netflix.columns"
   ]
  },
  {
   "cell_type": "code",
   "execution_count": 40,
   "metadata": {},
   "outputs": [
    {
     "data": {
      "text/html": [
       "<div>\n",
       "<style scoped>\n",
       "    .dataframe tbody tr th:only-of-type {\n",
       "        vertical-align: middle;\n",
       "    }\n",
       "\n",
       "    .dataframe tbody tr th {\n",
       "        vertical-align: top;\n",
       "    }\n",
       "\n",
       "    .dataframe thead th {\n",
       "        text-align: right;\n",
       "    }\n",
       "</style>\n",
       "<table border=\"1\" class=\"dataframe\">\n",
       "  <thead>\n",
       "    <tr style=\"text-align: right;\">\n",
       "      <th></th>\n",
       "      <th>Release Year</th>\n",
       "      <th>Average IMDB Score</th>\n",
       "      <th>Average Runtime</th>\n",
       "    </tr>\n",
       "  </thead>\n",
       "  <tbody>\n",
       "    <tr>\n",
       "      <th>0</th>\n",
       "      <td>2014</td>\n",
       "      <td>6.40</td>\n",
       "      <td>81.00</td>\n",
       "    </tr>\n",
       "    <tr>\n",
       "      <th>1</th>\n",
       "      <td>2015</td>\n",
       "      <td>6.88</td>\n",
       "      <td>90.44</td>\n",
       "    </tr>\n",
       "    <tr>\n",
       "      <th>2</th>\n",
       "      <td>2016</td>\n",
       "      <td>6.51</td>\n",
       "      <td>92.20</td>\n",
       "    </tr>\n",
       "    <tr>\n",
       "      <th>3</th>\n",
       "      <td>2017</td>\n",
       "      <td>6.42</td>\n",
       "      <td>92.86</td>\n",
       "    </tr>\n",
       "    <tr>\n",
       "      <th>4</th>\n",
       "      <td>2018</td>\n",
       "      <td>6.36</td>\n",
       "      <td>95.00</td>\n",
       "    </tr>\n",
       "    <tr>\n",
       "      <th>5</th>\n",
       "      <td>2019</td>\n",
       "      <td>6.26</td>\n",
       "      <td>86.85</td>\n",
       "    </tr>\n",
       "    <tr>\n",
       "      <th>6</th>\n",
       "      <td>2020</td>\n",
       "      <td>6.20</td>\n",
       "      <td>94.99</td>\n",
       "    </tr>\n",
       "    <tr>\n",
       "      <th>7</th>\n",
       "      <td>2021</td>\n",
       "      <td>6.05</td>\n",
       "      <td>101.61</td>\n",
       "    </tr>\n",
       "  </tbody>\n",
       "</table>\n",
       "</div>"
      ],
      "text/plain": [
       "   Release Year  Average IMDB Score  Average Runtime\n",
       "0          2014                6.40            81.00\n",
       "1          2015                6.88            90.44\n",
       "2          2016                6.51            92.20\n",
       "3          2017                6.42            92.86\n",
       "4          2018                6.36            95.00\n",
       "5          2019                6.26            86.85\n",
       "6          2020                6.20            94.99\n",
       "7          2021                6.05           101.61"
      ]
     },
     "execution_count": 40,
     "metadata": {},
     "output_type": "execute_result"
    }
   ],
   "source": [
    "avgrating = pd.DataFrame(round(netflix.groupby('Release Year')['IMDB Score'].mean(),2))\n",
    "avgrating.reset_index(inplace=True)\n",
    "avgruntime = pd.DataFrame(round(netflix.groupby('Release Year')['Runtime'].mean(),2))\n",
    "avgruntime.reset_index(inplace=True)\n",
    "rVSrt = avgrating.merge(avgruntime,how='left', on='Release Year')\n",
    "rVSrt.rename(columns = {'Runtime': 'Average Runtime','IMDB Score':'Average IMDB Score'},inplace = True)\n",
    "rVSrt"
   ]
  },
  {
   "cell_type": "code",
   "execution_count": 45,
   "metadata": {},
   "outputs": [
    {
     "data": {
      "application/vnd.plotly.v1+json": {
       "config": {
        "plotlyServerURL": "https://plot.ly"
       },
       "data": [
        {
         "alignmentgroup": "True",
         "customdata": [
          [
           81
          ],
          [
           90.44
          ],
          [
           92.2
          ],
          [
           92.86
          ],
          [
           95
          ],
          [
           86.85
          ],
          [
           94.99
          ],
          [
           101.61
          ]
         ],
         "hovertemplate": "Release Year=%{x}<br>Average IMDB Score=%{y}<br>Average Runtime=%{marker.color}<extra></extra>",
         "legendgroup": "",
         "marker": {
          "color": [
           81,
           90.44,
           92.2,
           92.86,
           95,
           86.85,
           94.99,
           101.61
          ],
          "coloraxis": "coloraxis",
          "line": {
           "color": "#000000",
           "width": 2
          },
          "pattern": {
           "shape": ""
          }
         },
         "name": "",
         "offsetgroup": "",
         "orientation": "v",
         "showlegend": false,
         "textposition": "auto",
         "type": "bar",
         "x": [
          2014,
          2015,
          2016,
          2017,
          2018,
          2019,
          2020,
          2021
         ],
         "xaxis": "x",
         "y": [
          6.4,
          6.88,
          6.51,
          6.42,
          6.36,
          6.26,
          6.2,
          6.05
         ],
         "yaxis": "y"
        }
       ],
       "layout": {
        "barmode": "relative",
        "coloraxis": {
         "colorbar": {
          "title": {
           "text": "Average Runtime"
          }
         },
         "colorscale": [
          [
           0,
           "#0d0887"
          ],
          [
           0.1111111111111111,
           "#46039f"
          ],
          [
           0.2222222222222222,
           "#7201a8"
          ],
          [
           0.3333333333333333,
           "#9c179e"
          ],
          [
           0.4444444444444444,
           "#bd3786"
          ],
          [
           0.5555555555555556,
           "#d8576b"
          ],
          [
           0.6666666666666666,
           "#ed7953"
          ],
          [
           0.7777777777777778,
           "#fb9f3a"
          ],
          [
           0.8888888888888888,
           "#fdca26"
          ],
          [
           1,
           "#f0f921"
          ]
         ]
        },
        "height": 400,
        "legend": {
         "tracegroupgap": 0
        },
        "margin": {
         "t": 60
        },
        "plot_bgcolor": "white",
        "template": {
         "data": {
          "bar": [
           {
            "error_x": {
             "color": "#2a3f5f"
            },
            "error_y": {
             "color": "#2a3f5f"
            },
            "marker": {
             "line": {
              "color": "#E5ECF6",
              "width": 0.5
             },
             "pattern": {
              "fillmode": "overlay",
              "size": 10,
              "solidity": 0.2
             }
            },
            "type": "bar"
           }
          ],
          "barpolar": [
           {
            "marker": {
             "line": {
              "color": "#E5ECF6",
              "width": 0.5
             },
             "pattern": {
              "fillmode": "overlay",
              "size": 10,
              "solidity": 0.2
             }
            },
            "type": "barpolar"
           }
          ],
          "carpet": [
           {
            "aaxis": {
             "endlinecolor": "#2a3f5f",
             "gridcolor": "white",
             "linecolor": "white",
             "minorgridcolor": "white",
             "startlinecolor": "#2a3f5f"
            },
            "baxis": {
             "endlinecolor": "#2a3f5f",
             "gridcolor": "white",
             "linecolor": "white",
             "minorgridcolor": "white",
             "startlinecolor": "#2a3f5f"
            },
            "type": "carpet"
           }
          ],
          "choropleth": [
           {
            "colorbar": {
             "outlinewidth": 0,
             "ticks": ""
            },
            "type": "choropleth"
           }
          ],
          "contour": [
           {
            "colorbar": {
             "outlinewidth": 0,
             "ticks": ""
            },
            "colorscale": [
             [
              0,
              "#0d0887"
             ],
             [
              0.1111111111111111,
              "#46039f"
             ],
             [
              0.2222222222222222,
              "#7201a8"
             ],
             [
              0.3333333333333333,
              "#9c179e"
             ],
             [
              0.4444444444444444,
              "#bd3786"
             ],
             [
              0.5555555555555556,
              "#d8576b"
             ],
             [
              0.6666666666666666,
              "#ed7953"
             ],
             [
              0.7777777777777778,
              "#fb9f3a"
             ],
             [
              0.8888888888888888,
              "#fdca26"
             ],
             [
              1,
              "#f0f921"
             ]
            ],
            "type": "contour"
           }
          ],
          "contourcarpet": [
           {
            "colorbar": {
             "outlinewidth": 0,
             "ticks": ""
            },
            "type": "contourcarpet"
           }
          ],
          "heatmap": [
           {
            "colorbar": {
             "outlinewidth": 0,
             "ticks": ""
            },
            "colorscale": [
             [
              0,
              "#0d0887"
             ],
             [
              0.1111111111111111,
              "#46039f"
             ],
             [
              0.2222222222222222,
              "#7201a8"
             ],
             [
              0.3333333333333333,
              "#9c179e"
             ],
             [
              0.4444444444444444,
              "#bd3786"
             ],
             [
              0.5555555555555556,
              "#d8576b"
             ],
             [
              0.6666666666666666,
              "#ed7953"
             ],
             [
              0.7777777777777778,
              "#fb9f3a"
             ],
             [
              0.8888888888888888,
              "#fdca26"
             ],
             [
              1,
              "#f0f921"
             ]
            ],
            "type": "heatmap"
           }
          ],
          "heatmapgl": [
           {
            "colorbar": {
             "outlinewidth": 0,
             "ticks": ""
            },
            "colorscale": [
             [
              0,
              "#0d0887"
             ],
             [
              0.1111111111111111,
              "#46039f"
             ],
             [
              0.2222222222222222,
              "#7201a8"
             ],
             [
              0.3333333333333333,
              "#9c179e"
             ],
             [
              0.4444444444444444,
              "#bd3786"
             ],
             [
              0.5555555555555556,
              "#d8576b"
             ],
             [
              0.6666666666666666,
              "#ed7953"
             ],
             [
              0.7777777777777778,
              "#fb9f3a"
             ],
             [
              0.8888888888888888,
              "#fdca26"
             ],
             [
              1,
              "#f0f921"
             ]
            ],
            "type": "heatmapgl"
           }
          ],
          "histogram": [
           {
            "marker": {
             "pattern": {
              "fillmode": "overlay",
              "size": 10,
              "solidity": 0.2
             }
            },
            "type": "histogram"
           }
          ],
          "histogram2d": [
           {
            "colorbar": {
             "outlinewidth": 0,
             "ticks": ""
            },
            "colorscale": [
             [
              0,
              "#0d0887"
             ],
             [
              0.1111111111111111,
              "#46039f"
             ],
             [
              0.2222222222222222,
              "#7201a8"
             ],
             [
              0.3333333333333333,
              "#9c179e"
             ],
             [
              0.4444444444444444,
              "#bd3786"
             ],
             [
              0.5555555555555556,
              "#d8576b"
             ],
             [
              0.6666666666666666,
              "#ed7953"
             ],
             [
              0.7777777777777778,
              "#fb9f3a"
             ],
             [
              0.8888888888888888,
              "#fdca26"
             ],
             [
              1,
              "#f0f921"
             ]
            ],
            "type": "histogram2d"
           }
          ],
          "histogram2dcontour": [
           {
            "colorbar": {
             "outlinewidth": 0,
             "ticks": ""
            },
            "colorscale": [
             [
              0,
              "#0d0887"
             ],
             [
              0.1111111111111111,
              "#46039f"
             ],
             [
              0.2222222222222222,
              "#7201a8"
             ],
             [
              0.3333333333333333,
              "#9c179e"
             ],
             [
              0.4444444444444444,
              "#bd3786"
             ],
             [
              0.5555555555555556,
              "#d8576b"
             ],
             [
              0.6666666666666666,
              "#ed7953"
             ],
             [
              0.7777777777777778,
              "#fb9f3a"
             ],
             [
              0.8888888888888888,
              "#fdca26"
             ],
             [
              1,
              "#f0f921"
             ]
            ],
            "type": "histogram2dcontour"
           }
          ],
          "mesh3d": [
           {
            "colorbar": {
             "outlinewidth": 0,
             "ticks": ""
            },
            "type": "mesh3d"
           }
          ],
          "parcoords": [
           {
            "line": {
             "colorbar": {
              "outlinewidth": 0,
              "ticks": ""
             }
            },
            "type": "parcoords"
           }
          ],
          "pie": [
           {
            "automargin": true,
            "type": "pie"
           }
          ],
          "scatter": [
           {
            "marker": {
             "colorbar": {
              "outlinewidth": 0,
              "ticks": ""
             }
            },
            "type": "scatter"
           }
          ],
          "scatter3d": [
           {
            "line": {
             "colorbar": {
              "outlinewidth": 0,
              "ticks": ""
             }
            },
            "marker": {
             "colorbar": {
              "outlinewidth": 0,
              "ticks": ""
             }
            },
            "type": "scatter3d"
           }
          ],
          "scattercarpet": [
           {
            "marker": {
             "colorbar": {
              "outlinewidth": 0,
              "ticks": ""
             }
            },
            "type": "scattercarpet"
           }
          ],
          "scattergeo": [
           {
            "marker": {
             "colorbar": {
              "outlinewidth": 0,
              "ticks": ""
             }
            },
            "type": "scattergeo"
           }
          ],
          "scattergl": [
           {
            "marker": {
             "colorbar": {
              "outlinewidth": 0,
              "ticks": ""
             }
            },
            "type": "scattergl"
           }
          ],
          "scattermapbox": [
           {
            "marker": {
             "colorbar": {
              "outlinewidth": 0,
              "ticks": ""
             }
            },
            "type": "scattermapbox"
           }
          ],
          "scatterpolar": [
           {
            "marker": {
             "colorbar": {
              "outlinewidth": 0,
              "ticks": ""
             }
            },
            "type": "scatterpolar"
           }
          ],
          "scatterpolargl": [
           {
            "marker": {
             "colorbar": {
              "outlinewidth": 0,
              "ticks": ""
             }
            },
            "type": "scatterpolargl"
           }
          ],
          "scatterternary": [
           {
            "marker": {
             "colorbar": {
              "outlinewidth": 0,
              "ticks": ""
             }
            },
            "type": "scatterternary"
           }
          ],
          "surface": [
           {
            "colorbar": {
             "outlinewidth": 0,
             "ticks": ""
            },
            "colorscale": [
             [
              0,
              "#0d0887"
             ],
             [
              0.1111111111111111,
              "#46039f"
             ],
             [
              0.2222222222222222,
              "#7201a8"
             ],
             [
              0.3333333333333333,
              "#9c179e"
             ],
             [
              0.4444444444444444,
              "#bd3786"
             ],
             [
              0.5555555555555556,
              "#d8576b"
             ],
             [
              0.6666666666666666,
              "#ed7953"
             ],
             [
              0.7777777777777778,
              "#fb9f3a"
             ],
             [
              0.8888888888888888,
              "#fdca26"
             ],
             [
              1,
              "#f0f921"
             ]
            ],
            "type": "surface"
           }
          ],
          "table": [
           {
            "cells": {
             "fill": {
              "color": "#EBF0F8"
             },
             "line": {
              "color": "white"
             }
            },
            "header": {
             "fill": {
              "color": "#C8D4E3"
             },
             "line": {
              "color": "white"
             }
            },
            "type": "table"
           }
          ]
         },
         "layout": {
          "annotationdefaults": {
           "arrowcolor": "#2a3f5f",
           "arrowhead": 0,
           "arrowwidth": 1
          },
          "autotypenumbers": "strict",
          "coloraxis": {
           "colorbar": {
            "outlinewidth": 0,
            "ticks": ""
           }
          },
          "colorscale": {
           "diverging": [
            [
             0,
             "#8e0152"
            ],
            [
             0.1,
             "#c51b7d"
            ],
            [
             0.2,
             "#de77ae"
            ],
            [
             0.3,
             "#f1b6da"
            ],
            [
             0.4,
             "#fde0ef"
            ],
            [
             0.5,
             "#f7f7f7"
            ],
            [
             0.6,
             "#e6f5d0"
            ],
            [
             0.7,
             "#b8e186"
            ],
            [
             0.8,
             "#7fbc41"
            ],
            [
             0.9,
             "#4d9221"
            ],
            [
             1,
             "#276419"
            ]
           ],
           "sequential": [
            [
             0,
             "#0d0887"
            ],
            [
             0.1111111111111111,
             "#46039f"
            ],
            [
             0.2222222222222222,
             "#7201a8"
            ],
            [
             0.3333333333333333,
             "#9c179e"
            ],
            [
             0.4444444444444444,
             "#bd3786"
            ],
            [
             0.5555555555555556,
             "#d8576b"
            ],
            [
             0.6666666666666666,
             "#ed7953"
            ],
            [
             0.7777777777777778,
             "#fb9f3a"
            ],
            [
             0.8888888888888888,
             "#fdca26"
            ],
            [
             1,
             "#f0f921"
            ]
           ],
           "sequentialminus": [
            [
             0,
             "#0d0887"
            ],
            [
             0.1111111111111111,
             "#46039f"
            ],
            [
             0.2222222222222222,
             "#7201a8"
            ],
            [
             0.3333333333333333,
             "#9c179e"
            ],
            [
             0.4444444444444444,
             "#bd3786"
            ],
            [
             0.5555555555555556,
             "#d8576b"
            ],
            [
             0.6666666666666666,
             "#ed7953"
            ],
            [
             0.7777777777777778,
             "#fb9f3a"
            ],
            [
             0.8888888888888888,
             "#fdca26"
            ],
            [
             1,
             "#f0f921"
            ]
           ]
          },
          "colorway": [
           "#636efa",
           "#EF553B",
           "#00cc96",
           "#ab63fa",
           "#FFA15A",
           "#19d3f3",
           "#FF6692",
           "#B6E880",
           "#FF97FF",
           "#FECB52"
          ],
          "font": {
           "color": "#2a3f5f"
          },
          "geo": {
           "bgcolor": "white",
           "lakecolor": "white",
           "landcolor": "#E5ECF6",
           "showlakes": true,
           "showland": true,
           "subunitcolor": "white"
          },
          "hoverlabel": {
           "align": "left"
          },
          "hovermode": "closest",
          "mapbox": {
           "style": "light"
          },
          "paper_bgcolor": "white",
          "plot_bgcolor": "#E5ECF6",
          "polar": {
           "angularaxis": {
            "gridcolor": "white",
            "linecolor": "white",
            "ticks": ""
           },
           "bgcolor": "#E5ECF6",
           "radialaxis": {
            "gridcolor": "white",
            "linecolor": "white",
            "ticks": ""
           }
          },
          "scene": {
           "xaxis": {
            "backgroundcolor": "#E5ECF6",
            "gridcolor": "white",
            "gridwidth": 2,
            "linecolor": "white",
            "showbackground": true,
            "ticks": "",
            "zerolinecolor": "white"
           },
           "yaxis": {
            "backgroundcolor": "#E5ECF6",
            "gridcolor": "white",
            "gridwidth": 2,
            "linecolor": "white",
            "showbackground": true,
            "ticks": "",
            "zerolinecolor": "white"
           },
           "zaxis": {
            "backgroundcolor": "#E5ECF6",
            "gridcolor": "white",
            "gridwidth": 2,
            "linecolor": "white",
            "showbackground": true,
            "ticks": "",
            "zerolinecolor": "white"
           }
          },
          "shapedefaults": {
           "line": {
            "color": "#2a3f5f"
           }
          },
          "ternary": {
           "aaxis": {
            "gridcolor": "white",
            "linecolor": "white",
            "ticks": ""
           },
           "baxis": {
            "gridcolor": "white",
            "linecolor": "white",
            "ticks": ""
           },
           "bgcolor": "#E5ECF6",
           "caxis": {
            "gridcolor": "white",
            "linecolor": "white",
            "ticks": ""
           }
          },
          "title": {
           "x": 0.05
          },
          "xaxis": {
           "automargin": true,
           "gridcolor": "white",
           "linecolor": "white",
           "ticks": "",
           "title": {
            "standoff": 15
           },
           "zerolinecolor": "white",
           "zerolinewidth": 2
          },
          "yaxis": {
           "automargin": true,
           "gridcolor": "white",
           "linecolor": "white",
           "ticks": "",
           "title": {
            "standoff": 15
           },
           "zerolinecolor": "white",
           "zerolinewidth": 2
          }
         }
        },
        "title": {
         "font": {
          "size": 20
         },
         "text": "Average IMDB Rating of Netflix Originals from 2014 - 2021",
         "x": 0.5
        },
        "xaxis": {
         "anchor": "y",
         "domain": [
          0,
          1
         ],
         "title": {
          "text": ""
         }
        },
        "yaxis": {
         "anchor": "x",
         "domain": [
          0,
          1
         ],
         "title": {
          "text": "Average IMDB Score"
         }
        }
       }
      }
     },
     "metadata": {},
     "output_type": "display_data"
    }
   ],
   "source": [
    "rvsrt_fig = px.bar(rVSrt, x='Release Year', y='Average IMDB Score',\n",
    "             hover_data=['Average IMDB Score', 'Average Runtime'], color='Average Runtime', height=400)\n",
    "rvsrt_fig.update_layout(title_text='Average IMDB Rating of Netflix Originals from 2014 - 2021',\n",
    "                  title_x=0.5, \n",
    "                  title_font=dict(size=20),\n",
    "                  plot_bgcolor = 'white',\n",
    "                  xaxis_title = '')\n",
    "rvsrt_fig.update_traces(marker=dict(line=dict(color='#000000', width=2)))\n",
    "rvsrt_fig.show()"
   ]
  },
  {
   "cell_type": "code",
   "execution_count": 66,
   "metadata": {},
   "outputs": [
    {
     "data": {
      "application/vnd.plotly.v1+json": {
       "config": {
        "plotlyServerURL": "https://plot.ly"
       },
       "data": [
        {
         "customdata": [
          [
           "Enter the Anime",
           "Documentary",
           58
          ],
          [
           "Searching for Sheela",
           "Documentary",
           58
          ],
          [
           "After the Raid",
           "Documentary",
           25
          ],
          [
           "After Maria",
           "Documentary",
           37
          ],
          [
           "Porta dos Fundos: The First Temptation of Christ",
           "Comedy",
           46
          ],
          [
           "Sol Levante",
           "Anime / Short",
           4
          ],
          [
           "American Factory: A Conversation with the Obamas ",
           "Aftershow / Interview",
           10
          ],
          [
           "A Very Murray Christmas",
           "Comedy / Musical",
           56
          ],
          [
           "Ghosts of Sugar Land",
           "Documentary",
           21
          ],
          [
           "Sarah Cooper: Everything's Fine",
           "Variety show",
           49
          ],
          [
           "Out of Many, One",
           "Documentary",
           34
          ],
          [
           "Rodney King",
           "One-man show",
           52
          ],
          [
           "Frankenstein's Monster's Monster, Frankenstein",
           "Mockumentary",
           32
          ],
          [
           "Notes from Dunblane: Lesson from a School Shooting",
           "Documentary",
           23
          ],
          [
           "The Minimalists: Less Is Now",
           "Documentary",
           53
          ],
          [
           "Alien Xmas",
           "Stop Motion",
           42
          ],
          [
           "A Tale of Two Kitchens",
           "Documentary",
           30
          ],
          [
           "Porta dos Fundos: The Last Hangover",
           "Comedy",
           44
          ],
          [
           "Birders",
           "Documentary",
           37
          ],
          [
           "John Was Trying to Contact Aliens",
           "Documentary",
           16
          ],
          [
           "Sturgill Simpson Presents: Sound & Fury",
           "Animation / Musicial",
           41
          ],
          [
           "A 3 Minute Hug",
           "Documentary",
           28
          ],
          [
           "Canvas ",
           "Animation / Short",
           9
          ],
          [
           "Chadwick Boseman: Portrait of an Artist",
           "Documentary",
           21
          ],
          [
           "Dolly Parton: A MusiCares Tribute",
           "Documentary",
           55
          ],
          [
           "Life Overtakes Me",
           "Documentary",
           40
          ],
          [
           "What Did Jack Do?",
           "Drama / Short",
           17
          ],
          [
           "ReMastered: Who Killed Jam Master Jay?",
           "Documentary",
           58
          ],
          [
           "What Would Sophia Loren Do?",
           "Documentary",
           32
          ],
          [
           "Little Miss Sumo",
           "Documentary",
           19
          ],
          [
           "Michael Bolton's Big, Sexy, Valentine's Day Special",
           "Variety Show",
           54
          ],
          [
           "A Love Song for Latasha",
           "Documentary",
           19
          ],
          [
           "All in My Family",
           "Documentary",
           39
          ],
          [
           "Heroin(e) ",
           "Documentary",
           39
          ],
          [
           "The Boys in the Band: Something Personal",
           "Aftershow / Interview",
           28
          ],
          [
           "The Trader",
           "Documentary",
           23
          ],
          [
           "Cops and Robbers",
           "Animation / Short",
           7
          ],
          [
           "ReMastered: Who Shot the Sheriff?",
           "Documentary",
           57
          ],
          [
           "The Claudia Kishi Club",
           "Documentary",
           17
          ],
          [
           "The Lonely Island Presents: The Unauthorized Bash Brothers Experience",
           "Comedy / Musical",
           30
          ],
          [
           "I'm No Longer Here: A Discussion with Guillermo del Toro and Alfonso Cuaron",
           "Aftershow / Interview",
           14
          ],
          [
           "Lorena, Light-Footed Woman",
           "Documentary",
           28
          ],
          [
           "Ma Rainey's Black Bottom: A Legacy Brought to Screen",
           "Aftershow / Interview",
           31
          ],
          [
           "ReMastered: Devil at the Crossroads",
           "Documentary",
           48
          ],
          [
           "Resurface",
           "Documentary",
           27
          ],
          [
           "Rocko's Modern Life: Static Cling",
           "Animation / Comedy",
           45
          ],
          [
           "13th: A Conversation with Oprah Winfrey & Ava DuVernay",
           "Aftershow / Interview",
           36
          ],
          [
           "Angela's Christmas",
           "Animation",
           30
          ],
          [
           "Angela's Christmas Wish",
           "Animation",
           47
          ],
          [
           "Derren Brown: Sacrifice",
           "Mentalism special",
           49
          ],
          [
           "End Game",
           "Documentary",
           40
          ],
          [
           "Ram Dass, Going Home",
           "Documentary",
           31
          ],
          [
           "ReMastered: Tricky Dick & the Man in Black",
           "Documentary",
           58
          ],
          [
           "Rooting for Roona",
           "Documentary",
           41
          ],
          [
           "Ladies First",
           "Documentary",
           39
          ],
          [
           "The Road to El Camino: A Breaking Bad Movie",
           "Making-of",
           13
          ],
          [
           "Zion ",
           "Documentary",
           11
          ],
          [
           "Extremis",
           "Documentary",
           24
          ],
          [
           "Octonauts & the Great Barrier Reef",
           "Animation",
           47
          ],
          [
           "Sitara: Let Girls Dream",
           "Animation / Short",
           15
          ],
          [
           "Fire in Paradise",
           "Documentary",
           39
          ],
          [
           "Long Shot",
           "Documentary",
           40
          ],
          [
           "Period. End of Sentence.",
           "Documentary",
           26
          ],
          [
           "The Irishman: In Conversation",
           "Aftershow / Interview",
           23
          ],
          [
           "The Speed Cubers",
           "Documentary",
           40
          ],
          [
           "The White Helmets",
           "Documentary",
           40
          ],
          [
           "Anima",
           "Musical / Short",
           15
          ],
          [
           "If Anything Happens I Love You",
           "Animation / Short",
           12
          ],
          [
           "Dancing with the Birds",
           "Documentary",
           51
          ]
         ],
         "hovertemplate": "Film Length Group=Short Film<br>Premiere=%{x}<br>IMDB Score=%{y}<br>Title=%{customdata[0]}<br>Genre=%{customdata[1]}<br>Runtime=%{customdata[2]}<extra></extra>",
         "legendgroup": "Short Film",
         "marker": {
          "color": "#636efa",
          "size": 10,
          "symbol": "circle"
         },
         "mode": "markers",
         "name": "Short Film",
         "orientation": "v",
         "showlegend": true,
         "type": "scatter",
         "x": [
          "2019-08-05T00:00:00",
          "2021-04-22T00:00:00",
          "2019-12-19T00:00:00",
          "2019-05-24T00:00:00",
          "2019-12-03T00:00:00",
          "2020-04-02T00:00:00",
          "2019-08-21T00:00:00",
          "2015-12-04T00:00:00",
          "2019-10-16T00:00:00",
          "2020-10-27T00:00:00",
          "2018-12-12T00:00:00",
          "2017-04-28T00:00:00",
          "2019-07-16T00:00:00",
          "2018-09-28T00:00:00",
          "2021-01-01T00:00:00",
          "2020-11-20T00:00:00",
          "2019-05-22T00:00:00",
          "2018-12-21T00:00:00",
          "2019-09-25T00:00:00",
          "2020-08-20T00:00:00",
          "2019-09-27T00:00:00",
          "2019-10-28T00:00:00",
          "2020-12-11T00:00:00",
          "2021-04-17T00:00:00",
          "2021-04-07T00:00:00",
          "2019-06-14T00:00:00",
          "2020-01-20T00:00:00",
          "2018-12-07T00:00:00",
          "2021-01-15T00:00:00",
          "2019-10-28T00:00:00",
          "2017-02-07T00:00:00",
          "2020-09-21T00:00:00",
          "2019-05-03T00:00:00",
          "2017-09-12T00:00:00",
          "2020-09-30T00:00:00",
          "2018-02-09T00:00:00",
          "2020-12-28T00:00:00",
          "2018-10-12T00:00:00",
          "2020-07-10T00:00:00",
          "2019-05-23T00:00:00",
          "2020-11-03T00:00:00",
          "2019-11-20T00:00:00",
          "2020-12-18T00:00:00",
          "2019-04-26T00:00:00",
          "2017-09-01T00:00:00",
          "2019-08-09T00:00:00",
          "2017-01-26T00:00:00",
          "2018-11-30T00:00:00",
          "2020-12-01T00:00:00",
          "2018-10-19T00:00:00",
          "2018-05-04T00:00:00",
          "2018-04-06T00:00:00",
          "2018-11-02T00:00:00",
          "2020-10-15T00:00:00",
          "2018-03-08T00:00:00",
          "2019-10-29T00:00:00",
          "2018-08-10T00:00:00",
          "2016-09-13T00:00:00",
          "2020-10-13T00:00:00",
          "2020-03-08T00:00:00",
          "2019-11-01T00:00:00",
          "2017-09-29T00:00:00",
          "2019-02-12T00:00:00",
          "2019-11-27T00:00:00",
          "2020-07-29T00:00:00",
          "2016-09-16T00:00:00",
          "2019-06-27T00:00:00",
          "2020-11-20T00:00:00",
          "2019-10-23T00:00:00"
         ],
         "xaxis": "x",
         "y": [
          2.5,
          4.1,
          4.3,
          4.6,
          4.6,
          4.7,
          5.2,
          5.5,
          5.5,
          5.6,
          5.7,
          5.8,
          5.9,
          5.9,
          5.9,
          6.2,
          6.3,
          6.3,
          6.4,
          6.4,
          6.4,
          6.5,
          6.5,
          6.5,
          6.5,
          6.5,
          6.5,
          6.6,
          6.6,
          6.7,
          6.7,
          6.8,
          6.8,
          6.8,
          6.8,
          6.8,
          6.9,
          6.9,
          6.9,
          6.9,
          7,
          7,
          7,
          7,
          7,
          7,
          7.1,
          7.1,
          7.1,
          7.1,
          7.1,
          7.1,
          7.1,
          7.1,
          7.2,
          7.2,
          7.2,
          7.3,
          7.3,
          7.3,
          7.4,
          7.4,
          7.4,
          7.4,
          7.4,
          7.5,
          7.7,
          7.8,
          8.3
         ],
         "yaxis": "y"
        },
        {
         "customdata": [
          [
           "Dark Forces",
           "Thriller",
           81
          ],
          [
           "The App",
           "Science fiction/Drama",
           79
          ],
          [
           "The Open House",
           "Horror thriller",
           94
          ],
          [
           "Kaali Khuhi",
           "Mystery",
           90
          ],
          [
           "Leyla Everlasting",
           "Comedy",
           112
          ],
          [
           "Paradox",
           "Musical/Western/Fantasy",
           73
          ],
          [
           "The Call",
           "Drama",
           112
          ],
          [
           "Whipped",
           "Romantic comedy",
           97
          ],
          [
           "All Because of You",
           "Action comedy",
           101
          ],
          [
           "Mercy",
           "Thriller",
           90
          ],
          [
           "The Last Thing He Wanted",
           "Political thriller",
           115
          ],
          [
           "What Happened to Mr. Cha?",
           "Comedy",
           102
          ],
          [
           "Death Note",
           "Horror thriller",
           100
          ],
          [
           "Hello Privilege. It's Me, Chelsea",
           "Documentary",
           64
          ],
          [
           "Secret Obsession",
           "Thriller",
           97
          ],
          [
           "Sextuplets",
           "Comedy",
           99
          ],
          [
           "Thunder Force",
           "Superhero-Comedy",
           105
          ],
          [
           "Fatal Affair",
           "Thriller",
           89
          ],
          [
           "Just Say Yes",
           "Romantic comedy",
           97
          ],
          [
           "Seriously Single",
           "Comedy",
           107
          ],
          [
           "The Misadventures of Hedi and Cokeman",
           "Comedy",
           99
          ],
          [
           "5 Star Christmas",
           "Comedy",
           95
          ],
          [
           "I Am the Pretty Thing That Lives in the House",
           "Horror",
           89
          ],
          [
           "Paris Is Us",
           "Romance drama",
           83
          ],
          [
           "Rattlesnake",
           "Horror",
           85
          ],
          [
           "The Players",
           "Comedy",
           88
          ],
          [
           "We Are One",
           "Documentary",
           86
          ],
          [
           "Finding Agnes",
           "Drama",
           105
          ],
          [
           "IO",
           "Science fiction/Drama",
           95
          ],
          [
           "Sentinelle",
           "Action",
           80
          ],
          [
           "The Binding",
           "Drama",
           93
          ],
          [
           "We Can Be Heroes",
           "Superhero",
           100
          ],
          [
           "Christmas Crossfire",
           "Thriller",
           106
          ],
          [
           "Coin Heist",
           "Heist",
           97
          ],
          [
           "Mrs. Serial Killer",
           "Thriller",
           106
          ],
          [
           "Nobody Sleeps in the Woods Tonight",
           "Horror",
           103
          ],
          [
           "Take the 10",
           "Comedy",
           80
          ],
          [
           "The Main Event",
           "Comedy",
           101
          ],
          [
           "The Ridiculous 6",
           "Western",
           119
          ],
          [
           "Earth and Blood",
           "Action",
           80
          ],
          [
           "Fearless",
           "Animation/Superhero",
           89
          ],
          [
           "Holiday Rush",
           "Family film",
           94
          ],
          [
           "The Day of the Lord",
           "Drama",
           93
          ],
          [
           "Airplane Mode",
           "Comedy",
           96
          ],
          [
           "How It Ends",
           "Action-thriller",
           113
          ],
          [
           "Love Like the Falling Rain",
           "Drama",
           86
          ],
          [
           "Rebirth",
           "Thriller",
           100
          ],
          [
           "Squared Love",
           "Romantic comedy",
           102
          ],
          [
           "Cadaver",
           "Horror",
           86
          ],
          [
           "Clinical",
           "Thriller",
           104
          ],
          [
           "Coffee & Kareem",
           "Action comedy",
           88
          ],
          [
           "Dude",
           "Teen comedy-drama",
           97
          ],
          [
           "Geez & Ann",
           "Romantic drama",
           105
          ],
          [
           "The Larva Island Movie",
           "Animation",
           90
          ],
          [
           "#REALITYHIGH",
           "Comedy",
           99
          ],
          [
           "Desperados",
           "Romantic comedy",
           106
          ],
          [
           "Dolly Parton's Christmas on the Square",
           "Christmas musical",
           98
          ],
          [
           "Father of the Year",
           "Comedy",
           94
          ],
          [
           "Firebrand",
           "Drama",
           112
          ],
          [
           "Ghost Lab",
           "Horror",
           117
          ],
          [
           "Girlfriend's Day",
           "Comedy",
           70
          ],
          [
           "Handsome: A Netflix Mystery Movie",
           "Comedy",
           81
          ],
          [
           "Hubie Halloween",
           "Comedy",
           103
          ],
          [
           "Ibiza",
           "Comedy",
           94
          ],
          [
           "Rim of the World",
           "Science fiction adventure",
           98
          ],
          [
           "See You Yesterday",
           "Science fiction",
           87
          ],
          [
           "Still Laugh-In: The Stars Celebrate",
           "Variety show",
           60
          ],
          [
           "Strip Down, Rise Up",
           "Documentary",
           112
          ],
          [
           "Tall Girl",
           "Comedy-drama",
           102
          ],
          [
           "The Beast",
           "Drama",
           99
          ],
          [
           "The Week Of",
           "Comedy",
           116
          ],
          [
           "A Christmas Prince: The Royal Wedding",
           "Romantic comedy",
           92
          ],
          [
           "Back to School",
           "Comedy",
           83
          ],
          [
           "Dangerous Lies",
           "Thriller",
           97
          ],
          [
           "Gunjan Saxena: The Kargil Girl",
           "Drama",
           112
          ],
          [
           "Intuition",
           "Thriller",
           116
          ],
          [
           "The Most Assassinated Woman in the World",
           "Thriller",
           102
          ],
          [
           "To Each, Her Own",
           "Romantic comedy",
           95
          ],
          [
           "Who Would You Take to a Deserted Island?",
           "Drama",
           93
          ],
          [
           "XOXO",
           "Drama",
           92
          ],
          [
           "A Babysitter's Guide to Monster Hunting",
           "Comedy/Fantasy/Family",
           98
          ],
          [
           "A Christmas Prince: The Royal Baby",
           "Romantic comedy",
           85
          ],
          [
           "Despite Everything",
           "Comedy",
           78
          ],
          [
           "Freaks: You're One of Us",
           "Supernatural drama",
           92
          ],
          [
           "Game Over, Man!",
           "Action/Comedy",
           101
          ],
          [
           "Guilty",
           "Thriller",
           119
          ],
          [
           "In the Tall Grass",
           "Horror",
           101
          ],
          [
           "Madame Claude",
           "Drama",
           112
          ],
          [
           "Naked",
           "Comedy",
           96
          ],
          [
           "Outside the Wire",
           "Action/Science fiction",
           114
          ],
          [
           "The Princess Switch: Switched Again",
           "Romantic comedy",
           97
          ],
          [
           "Under the Riccione Sun",
           "Romantic teenage drama",
           101
          ],
          [
           "Been So Long",
           "Musical",
           100
          ],
          [
           "Dead Kids",
           "Thriller",
           94
          ],
          [
           "Get the Grift",
           "Comedy",
           94
          ],
          [
           "House Arrest",
           "Comedy",
           104
          ],
          [
           "Kevin Hart's Guide to Black History",
           "Variety show",
           63
          ],
          [
           "Love Wedding Repeat",
           "Romantic comedy",
           100
          ],
          [
           "Òlòt?ré",
           "Crime drama",
           106
          ],
          [
           "Red Dot",
           "Thriller",
           86
          ],
          [
           "Step Sisters",
           "Comedy",
           108
          ],
          [
           "The Cloverfield Paradox",
           "Science fiction",
           102
          ],
          [
           "The Knight Before Christmas",
           "Romantic comedy",
           92
          ],
          [
           "The Legacy of a Whitetail Deer Hunter",
           "Adventure/Comedy",
           83
          ],
          [
           "The Package",
           "Black comedy",
           94
          ],
          [
           "Unicorn Store",
           "Comedy",
           92
          ],
          [
           "Wine Country",
           "Comedy",
           103
          ],
          [
           "Bomb Scared",
           "Black comedy",
           89
          ],
          [
           "Brahman Naman",
           "Comedy",
           95
          ],
          [
           "Double Dad",
           "Comedy-drama",
           103
          ],
          [
           "Falling Inn Love",
           "Romantic comedy",
           97
          ],
          [
           "Love, Guaranteed",
           "Romantic comedy",
           91
          ],
          [
           "One-Way to Tomorrow",
           "Romance",
           90
          ],
          [
           "The Last Laugh",
           "Comedy-drama",
           98
          ],
          [
           "The Last Paradiso",
           "Romantic drama",
           107
          ],
          [
           "The Midnight Sky",
           "Science fiction",
           118
          ],
          [
           "The Paramedic",
           "Thriller",
           94
          ],
          [
           "The Sleepover",
           "Comedy",
           103
          ],
          [
           "Vampires vs. the Bronx",
           "Horror comedy",
           86
          ],
          [
           "Why Did You Kill Me?",
           "Documentary",
           83
          ],
          [
           "A Week Away",
           "Christian musical",
           97
          ],
          [
           "Caught by a Wave",
           "Romantic teen drama",
           99
          ],
          [
           "Christmas Inheritance",
           "Romantic drama",
           104
          ],
          [
           "Dad Wanted",
           "Family",
           102
          ],
          [
           "El Camino Christmas",
           "Dark comedy",
           89
          ],
          [
           "Eli",
           "Horror",
           98
          ],
          [
           "Good Sam",
           "Drama",
           89
          ],
          [
           "Lionheart",
           "Comedy",
           94
          ],
          [
           "Little Evil",
           "Comedy horror",
           94
          ],
          [
           "One Take",
           "Documentary",
           85
          ],
          [
           "Point Blank",
           "Action",
           86
          ],
          [
           "Prime Time",
           "Thriller",
           91
          ],
          [
           "The Do-Over",
           "Action comedy",
           108
          ],
          [
           "The Holiday Calendar",
           "Romantic comedy",
           95
          ],
          [
           "The Woman in the Window",
           "Psychological thriller",
           100
          ],
          [
           "The Wrong Missy",
           "Comedy",
           90
          ],
          [
           "Velvet Buzzsaw",
           "Thriller",
           112
          ],
          [
           "Yes Day",
           "Comedy",
           86
          ],
          [
           "A California Christmas",
           "Romantic comedy",
           107
          ],
          [
           "A Christmas Prince",
           "Romantic comedy",
           92
          ],
          [
           "American Son",
           "Drama",
           90
          ],
          [
           "Barry",
           "Biopic",
           104
          ],
          [
           "Candy Jar",
           "Comedy",
           92
          ],
          [
           "Choked: Paisa Bolta Hai",
           "Drama",
           114
          ],
          [
           "Class of '83",
           "Drama",
           98
          ],
          [
           "Extinction",
           "Science fiction/Thriller",
           95
          ],
          [
           "Happy Anniversary",
           "Romantic comedy",
           78
          ],
          [
           "I Am All Girls",
           "Thriller",
           107
          ],
          [
           "Let It Snow",
           "Romantic comedy",
           92
          ],
          [
           "Mascots",
           "Mockumentary",
           95
          ],
          [
           "Operation Christmas Drop",
           "Romantic comedy",
           96
          ],
          [
           "Rajma Chawal",
           "Comedy-drama",
           118
          ],
          [
           "Rich in Love",
           "Romantic comedy",
           105
          ],
          [
           "Rising High",
           "Satire",
           94
          ],
          [
           "Sierra Burgess Is a Loser",
           "Romantic comedy-drama",
           105
          ],
          [
           "Small Crimes",
           "Dark comedy",
           95
          ],
          [
           "Special Correspondents",
           "Satire",
           100
          ],
          [
           "TAU",
           "Science fiction/Thriller",
           97
          ],
          [
           "The After Party",
           "Comedy",
           89
          ],
          [
           "The Babysitter: Killer Queen",
           "Comedy/Horror",
           102
          ],
          [
           "The Claus Family",
           "Fantasy",
           96
          ],
          [
           "The Perfect Date",
           "Romantic comedy",
           89
          ],
          [
           "What We Wanted",
           "Drama",
           93
          ],
          [
           "You've Got This",
           "Romantic comedy",
           111
          ],
          [
           "6 Balloons",
           "Drama",
           75
          ],
          [
           "Amateur",
           "Sports-drama",
           96
          ],
          [
           "Cam",
           "Psychological horror",
           94
          ],
          [
           "Earthquake Bird",
           "Mystery",
           107
          ],
          [
           "Horse Girl",
           "Drama",
           104
          ],
          [
           "Maska",
           "Romantic comedy",
           111
          ],
          [
           "The Decline",
           "Thriller",
           83
          ],
          [
           "The Polka King",
           "Comedy-drama",
           95
          ],
          [
           "True Memoirs of an International Assassin",
           "Action comedy",
           98
          ],
          [
           "Ultras",
           "Sports film",
           108
          ],
          [
           "Come Sunday",
           "Biopic",
           106
          ],
          [
           "Forgive Us Our Debts",
           "Drama",
           104
          ],
          [
           "iBoy",
           "Science fiction/Thriller",
           90
          ],
          [
           "Lovefucked",
           "Drama",
           106
          ],
          [
           "Juanita",
           "Drama",
           90
          ],
          [
           "Murder Mystery",
           "Comedy mystery",
           97
          ],
          [
           "Project Power",
           "Superhero",
           113
          ],
          [
           "The Christmas Chronicles: Part Two",
           "Christmas comedy",
           115
          ],
          [
           "The Kissing Booth",
           "Romantic comedy",
           105
          ],
          [
           "The Princess Switch",
           "Romantic comedy",
           101
          ],
          [
           "To All the Boys: P.S. I Still Love You",
           "Romantic comedy",
           102
          ],
          [
           "Between Two Ferns: The Movie",
           "Comedy",
           82
          ],
          [
           "Burning Sands",
           "Drama",
           102
          ],
          [
           "Casting JonBenet",
           "Documentary",
           80
          ],
          [
           "Deidra & Laney Rob a Train",
           "Drama",
           94
          ],
          [
           "Holidate",
           "Romantic comedy/Holiday",
           104
          ],
          [
           "Holiday in the Wild",
           "Adventure-romance",
           85
          ],
          [
           "Hot Girls Wanted",
           "Documentary",
           84
          ],
          [
           "Like Father",
           "Comedy",
           103
          ],
          [
           "Lost Girls",
           "Crime drama",
           95
          ],
          [
           "Otherhood",
           "Comedy",
           100
          ],
          [
           "Pee-wee's Big Holiday",
           "Adventure",
           89
          ],
          [
           "Rogue City",
           "Crime drama",
           116
          ],
          [
           "Sergio",
           "Biopic",
           118
          ],
          [
           "Stuck Apart",
           "Drama",
           96
          ],
          [
           "Tersanjung the Movie",
           "Drama",
           114
          ],
          [
           "The Killer",
           "Western",
           99
          ],
          [
           "The Lovebirds",
           "Romantic comedy",
           87
          ],
          [
           "The Most Hated Woman in America",
           "Biopic",
           92
          ],
          [
           "The Perfection",
           "Horror-thriller",
           90
          ],
          [
           "Tribhanga  Tedhi Medhi Crazy",
           "Drama",
           95
          ],
          [
           "Unknown Origins",
           "Thriller",
           96
          ],
          [
           "Work It",
           "Dance comedy",
           93
          ],
          [
           "Baggio: The Divine Ponytail",
           "Biopic",
           92
          ],
          [
           "Below Zero",
           "Drama",
           106
          ],
          [
           "Crazy Awesome Teachers",
           "Comedy-drama",
           101
          ],
          [
           "Have You Ever Seen Fireflies?",
           "Comedy",
           114
          ],
          [
           "High Flying Bird",
           "Sports-drama",
           90
          ],
          [
           "In the Shadow of the Moon",
           "Thriller",
           115
          ],
          [
           "Lost Bullet",
           "Thriller",
           92
          ],
          [
           "Octonauts & the Caves of Sac Actun",
           "Animation",
           72
          ],
          [
           "Roxanne Roxanne",
           "Biopic",
           98
          ],
          [
           "Someone Great",
           "Romantic comedy",
           92
          ],
          [
           "Spenser Confidential",
           "Action comedy",
           111
          ],
          [
           "The Land of Steady Habits",
           "Drama",
           98
          ],
          [
           "The Rachel Divide",
           "Documentary",
           104
          ],
          [
           "Voyuer ",
           "Documentary",
           95
          ],
          [
           "Win It All",
           "Comedy",
           88
          ],
          [
           "1922",
           "Horror/Crime drama",
           102
          ],
          [
           "Alex Strangelove",
           "Romantic comedy",
           99
          ],
          [
           "Benji",
           "Family film",
           87
          ],
          [
           "Bright",
           "Urban fantasy",
           117
          ],
          [
           "Cargo",
           "Drama/Horror",
           104
          ],
          [
           "Concrete Cowboy",
           "Drama",
           111
          ],
          [
           "Feel the Beat",
           "Family/Comedy-drama",
           107
          ],
          [
           "Get the Goat",
           "Comedy",
           97
          ],
          [
           "I Am Not an Easy Man",
           "Romantic comedy",
           98
          ],
          [
           "June & Kopi",
           "Drama",
           90
          ],
          [
           "Music Teacher",
           "Drama",
           101
          ],
          [
           "Nail Bomber: Manhunt",
           "Documentary",
           72
          ],
          [
           "Notes for My Son",
           "Drama",
           83
          ],
          [
           "Polar",
           "Action",
           118
          ],
          [
           "Sand Castle",
           "War",
           113
          ],
          [
           "Shimmer Lake",
           "Crime thriller",
           86
          ],
          [
           "Spectral",
           "Science fiction/Action",
           108
          ],
          [
           "The Babysitter",
           "Teen comedy horror",
           85
          ],
          [
           "The Discovery",
           "Science fiction/Drama",
           102
          ],
          [
           "The Laundromat",
           "Comedy-drama",
           98
          ],
          [
           "The Legend of Cocaine Island",
           "Documentary",
           87
          ],
          [
           "To All the Boys: Always and Forever",
           "Romantic comedy",
           109
          ],
          [
           "Travis Scott: Look Mom I Can Fly",
           "Documentary",
           85
          ],
          [
           "Uncorked",
           "Drama",
           103
          ],
          [
           "Anelka: Misunderstood",
           "Documentary",
           94
          ],
          [
           "Ariana Grande: Excuse Me, I Love You",
           "Concert Film",
           97
          ],
          [
           "ARQ",
           "Science fiction/Thriller",
           88
          ],
          [
           "Como Caído del Cielo",
           "Musical comedy",
           112
          ],
          [
           "First Match",
           "Sports-drama",
           102
          ],
          [
           "Fractured",
           "Thriller",
           100
          ],
          [
           "Irreplaceable You",
           "Drama",
           96
          ],
          [
           "Isi & Ossi",
           "Romantic comedy",
           113
          ],
          [
           "Layla Majnun",
           "Romantic drama",
           119
          ],
          [
           "Murder to Mercy: The Cyntoia Brown Story",
           "Documentary",
           97
          ],
          [
           "My Own Man",
           "Documentary",
           81
          ],
          [
           "Nappily Ever After",
           "Comedy-drama",
           98
          ],
          [
           "Over the Moon",
           "Animation/Musical/Adventure",
           95
          ],
          [
           "Street Flow",
           "Drama",
           96
          ],
          [
           "Strong Island",
           "Documentary",
           107
          ],
          [
           "Take Your Pills",
           "Documentary",
           87
          ],
          [
           "The Heartbreak Club",
           "Comedy-drama",
           101
          ],
          [
           "The Mars Generation",
           "Documentary",
           97
          ],
          [
           "The Occupant",
           "Thriller",
           103
          ],
          [
           "The Willoughbys",
           "Animation/Comedy/Adventure",
           90
          ],
          [
           "Two Catalonias",
           "Documentary",
           116
          ],
          [
           "Walk. Ride. Rodeo.",
           "Drama",
           99
          ],
          [
           "Wheelman",
           "Action thriller",
           82
          ],
          [
           "When We First Met",
           "Romantic comedy",
           97
          ],
          [
           "All the Bright Places",
           "Romance",
           108
          ],
          [
           "All Together Now",
           "Drama",
           93
          ],
          [
           "Altered Carbon: Resleeved",
           "Anime/Science fiction",
           74
          ],
          [
           "Antoine Griezmann: The Making of a Legend",
           "Documentary",
           60
          ],
          [
           "Chopsticks",
           "Comedy",
           100
          ],
          [
           "Gerald's Game",
           "Horror thriller",
           103
          ],
          [
           "His House",
           "Thriller",
           93
          ],
          [
           "Jingle Jangle: A Christmas Journey",
           "Family/Christmas musical",
           119
          ],
          [
           "Monster",
           "Drama",
           98
          ],
          [
           "Mowgli: Legend of the Jungle",
           "Adventure",
           104
          ],
          [
           "Nobody Knows I'm Here",
           "Drama",
           91
          ],
          [
           "Nobody Speak: Trials of the Free Press",
           "Documentary",
           95
          ],
          [
           "Oxygen",
           "Science fiction thriller",
           101
          ],
          [
           "Set It Up",
           "Romantic comedy",
           105
          ],
          [
           "The Incredible Jessica James",
           "Comedy",
           83
          ],
          [
           "Tigertail",
           "Drama",
           91
          ],
          [
           "Tramps",
           "Romance",
           83
          ],
          [
           "Bad Trip",
           "Hidden-camera prank comedy",
           86
          ],
          [
           "Bulbbul",
           "Horror",
           94
          ],
          [
           "Crazy About Her",
           "Romantic comedy",
           102
          ],
          [
           "Elisa & Marcela",
           "Romance",
           118
          ],
          [
           "I'll Sleep When I'm Dead",
           "Documentary",
           79
          ],
          [
           "Milestone",
           "Drama",
           98
          ],
          [
           "Recovery Boys",
           "Documentary",
           89
          ],
          [
           "Shawn Mendes: In Wonder",
           "Documentary",
           83
          ],
          [
           "The American Meme",
           "Documentary",
           98
          ],
          [
           "The Angel",
           "Spy thriller",
           114
          ],
          [
           "The Crimes That Bind",
           "Crime drama",
           99
          ],
          [
           "A Whisker Away",
           "Anime/Fantasy",
           104
          ],
          [
           "Arlo the Alligator Boy",
           "Animated musical comedy",
           92
          ],
          [
           "Bikram: Yogi, Guru, Predator",
           "Documentary",
           86
          ],
          [
           "Blame!",
           "Anime/Science fiction",
           106
          ],
          [
           "Blue Miracle",
           "Drama",
           95
          ],
          [
           "CounterPunch ",
           "Documentary",
           91
          ],
          [
           "Crack: Cocaine, Corruption & Conspiracy",
           "Documentary",
           89
          ],
          [
           "Extraction",
           "Action",
           117
          ],
          [
           "Giving Voice",
           "Documentary",
           90
          ],
          [
           "Hillbilly Elegy",
           "Drama",
           117
          ],
          [
           "Hope Frozen: A Quest to Live Twice",
           "Documentary",
           80
          ],
          [
           "Imperial Dreams",
           "Drama",
           87
          ],
          [
           "Just Another Christmas",
           "Comedy",
           101
          ],
          [
           "Malcolm & Marie",
           "Romantic drama",
           106
          ],
          [
           "Moxie",
           "Drama",
           111
          ],
          [
           "Paper Lives",
           "Drama",
           97
          ],
          [
           "Parchis: The Documentary",
           "Documentary",
           106
          ],
          [
           "Tallulah",
           "Comedy-drama",
           111
          ],
          [
           "Tony Robbins: I Am Not Your Guru",
           "Documentary",
           116
          ],
          [
           "Upstarts",
           "Drama",
           112
          ],
          [
           "7 años",
           "Drama",
           76
          ],
          [
           "A Futile and Stupid Gesture",
           "Biographical/Comedy",
           101
          ],
          [
           "A Life of Speed: The Juan Manuel Fangio Story",
           "Documentary",
           92
          ],
          [
           "Always Be My Maybe",
           "Romantic comedy",
           102
          ],
          [
           "Becoming",
           "Documentary",
           89
          ],
          [
           "Long Live Brij Mohan",
           "Comedy",
           105
          ],
          [
           "Calibre",
           "Thriller",
           101
          ],
          [
           "Death to 2020",
           "Comedy",
           70
          ],
          [
           "GIMS: On the Record",
           "Documentary",
           96
          ],
          [
           "Have a Good Trip: Adventures in Psychedelics",
           "Documentary",
           85
          ],
          [
           "Mercury 13",
           "Documentary",
           79
          ],
          [
           "Saving Capitalism",
           "Documentary",
           73
          ],
          [
           "Serious Men",
           "Drama",
           114
          ],
          [
           "The Life Ahead",
           "Drama",
           95
          ],
          [
           "To the Bone",
           "Drama",
           107
          ],
          [
           "Tony Parker: The Final Shot",
           "Documentary",
           98
          ],
          [
           "AK vs AK",
           "Thriller",
           108
          ],
          [
           "Amanda Knox",
           "Documentary",
           92
          ],
          [
           "Bigflo & Oil: Hip Hop Frenzy",
           "Documentary",
           100
          ],
          [
           "Biggie: I Got a Story to Tell",
           "Documentary",
           97
          ],
          [
           "I Don't Feel at Home in This World Anymore",
           "Drama",
           96
          ],
          [
           "Laerte-se",
           "Documentary",
           100
          ],
          [
           "Our Souls at Night",
           "Romance",
           103
          ],
          [
           "Pagglait",
           "Comedy-drama",
           114
          ],
          [
           "Seeing Allred",
           "Documentary",
           95
          ],
          [
           "Spelling the Dream",
           "Documentary",
           83
          ],
          [
           "The Half of It",
           "Romance",
           105
          ],
          [
           "The Meyerowitz Stories (New and Selected)",
           "Comedy-drama",
           112
          ],
          [
           "Feminists: What Were They Thinking?",
           "Documentary",
           86
          ],
          [
           "Gaga: Five Foot Two",
           "Documentary",
           100
          ],
          [
           "Kingdom of Us",
           "Documentary",
           109
          ],
          [
           "Los Tigres del Norte at Folsom Prison",
           "Documentary",
           64
          ],
          [
           "Ma Rainey's Black Bottom",
           "Drama",
           94
          ],
          [
           "Operation Varsity Blues: The College Admissions Scandal",
           "Documentary",
           99
          ],
          [
           "Pele",
           "Documentary",
           108
          ],
          [
           "ReMastered: The Lion's Share",
           "Documentary",
           84
          ],
          [
           "ReMastered: The Miami Showband Massacre",
           "Documentary",
           70
          ],
          [
           "Rose Island",
           "Comedy",
           117
          ],
          [
           "The Christmas Chronicles",
           "Christmas/Fantasy/Adventure/Comedy",
           104
          ],
          [
           "The Dirt",
           "Biopic",
           108
          ],
          [
           "Beats",
           "Drama",
           110
          ],
          [
           "Circus of Books",
           "Documentary",
           92
          ],
          [
           "Dance Dreams: Hot Chocolate Nutcracker",
           "Documentary",
           80
          ],
          [
           "El Pepe: A Supreme Life",
           "Documentary",
           73
          ],
          [
           "Evelyn",
           "Documentary",
           96
          ],
          [
           "Ferry",
           "Crime drama",
           106
          ],
          [
           "Grass Is Greener",
           "Documentary",
           97
          ],
          [
           "Guillermo Vilas: Settling the Score",
           "Documentary",
           94
          ],
          [
           "Joshua: Teenager vs. Superpower",
           "Documentary",
           78
          ],
          [
           "Keith Richards: Under the Influence",
           "Documentary",
           81
          ],
          [
           "Knock Down the House",
           "Documentary",
           87
          ],
          [
           "Loudon Wainwright III: Surviving Twin",
           "One-man show",
           91
          ],
          [
           "My Beautiful Broken Brain",
           "Documentary",
           91
          ],
          [
           "One of Us",
           "Documentary",
           95
          ],
          [
           "The Dig",
           "Drama",
           112
          ],
          [
           "The Great Hack",
           "Documentary",
           114
          ],
          [
           "To All the Boys I've Loved Before",
           "Romantic comedy",
           99
          ],
          [
           "American Murder: The Family Next Door",
           "Documentary",
           82
          ],
          [
           "Audrie & Daisy",
           "Documentary",
           98
          ],
          [
           "Fyre: The Greatest Party That Never Happened",
           "Documentary",
           97
          ],
          [
           "Into the Inferno",
           "Documentary",
           107
          ],
          [
           "LA Originals",
           "Documentary",
           92
          ],
          [
           "Paddleton",
           "Drama-Comedy",
           89
          ],
          [
           "Seventeen",
           "Coming-of-age comedy-drama",
           99
          ],
          [
           "Sometimes",
           "Drama",
           101
          ],
          [
           "Soni",
           "Crime drama",
           97
          ],
          [
           "The Siege of Jadotville",
           "War",
           108
          ],
          [
           "Dolemite Is My Name",
           "Biopic",
           118
          ],
          [
           "Father Soldier Son",
           "Documentary",
           100
          ],
          [
           "Get Me Roger Stone",
           "Documentary",
           101
          ],
          [
           "I'm No Longer Here",
           "Drama",
           105
          ],
          [
           "Mucho Mucho Amor: The Legend of Walter Mercado ",
           "Documentary",
           96
          ],
          [
           "On My Skin",
           "Crime drama",
           100
          ],
          [
           "ReMastered: Massacre at the Stadium",
           "Documentary",
           64
          ],
          [
           "ReMastered: The Two Killings of Sam Cooke",
           "Documentary",
           64
          ],
          [
           "Secrets of the Saqqara Tomb",
           "Documentary",
           114
          ],
          [
           "Sky Ladder: The Art of Cai Guo-Qiang",
           "Documentary",
           79
          ],
          [
           "Team Foxcatcher",
           "Documentary",
           90
          ],
          [
           "The Death and Life of Marsha P. Johnson",
           "Documentary",
           105
          ],
          [
           "The Fundamentals of Caring",
           "Comedy-drama",
           97
          ],
          [
           "The Other One: The Long Strange Trip of Bob Weir",
           "Documentary",
           83
          ],
          [
           "American Factory",
           "Documentary",
           110
          ],
          [
           "Miss Americana",
           "Documentary",
           85
          ],
          [
           "Shawn Mendes: Live in Concert",
           "Concert Film",
           87
          ],
          [
           "Shirkers",
           "Documentary",
           97
          ],
          [
           "The Black Godfather",
           "Documentary",
           118
          ],
          [
           "They'll Love Me When I'm Dead",
           "Documentary",
           98
          ],
          [
           "Tig",
           "Documentary",
           80
          ],
          [
           "Barbra: The Music, The Mem'ries, The Magic!",
           "Concert Film",
           108
          ],
          [
           "Blackpink: Light Up the Sky",
           "Documentary",
           79
          ],
          [
           "City of Joy",
           "Documentary",
           74
          ],
          [
           "Dick Johnson Is Dead",
           "Documentary",
           90
          ],
          [
           "Invader Zim: Enter the Florpus",
           "Animation / Science Fiction",
           71
          ],
          [
           "Joan Didion: The Center Will Not Hold",
           "Documentary",
           98
          ],
          [
           "John Mulaney & the Sack Lunch Bunch",
           "Variety show",
           70
          ],
          [
           "Reversing Roe",
           "Documentary",
           99
          ],
          [
           "Athlete A",
           "Documentary",
           104
          ],
          [
           "Tell Me Who I Am",
           "Documentary",
           85
          ],
          [
           "The Bleeding Edge",
           "Documentary",
           100
          ],
          [
           "The Social Dilemma",
           "Documentary",
           94
          ],
          [
           "What Happened, Miss Simone?",
           "Documentary",
           84
          ],
          [
           "Yeh Ballet",
           "Drama",
           117
          ],
          [
           "Brene Brown: The Call to Courage",
           "Documentary",
           76
          ],
          [
           "Crip Camp: A Disability Revolution",
           "Documentary",
           108
          ],
          [
           "Jim & Andy: The Great Beyond - Featuring a Very Special, Contractually Obligated Mention of Tony Cliffton ",
           "Documentary",
           94
          ],
          [
           "Justin Timberlake + The Tennessee Kids",
           "Concert Film",
           90
          ],
          [
           "Road to Roma",
           "Making-of",
           72
          ],
          [
           "A Secret Love",
           "Documentary",
           82
          ],
          [
           "The Ivory Game",
           "Documentary",
           112
          ],
          [
           "Struggle: The Life and Lost Art of Szukaiski",
           "Documentary",
           105
          ],
          [
           "Chasing Coral ",
           "Documentary",
           89
          ],
          [
           "My Octopus Teacher",
           "Documentary",
           85
          ],
          [
           "Rising Phoenix",
           "Documentary",
           106
          ],
          [
           "13th",
           "Documentary",
           100
          ],
          [
           "Disclosure: Trans Lives on Screen",
           "Documentary",
           107
          ],
          [
           "Klaus",
           "Animation/Christmas/Comedy/Adventure",
           97
          ],
          [
           "Seaspiracy",
           "Documentary",
           89
          ],
          [
           "The Three Deaths of Marisela Escobedo",
           "Documentary",
           109
          ],
          [
           "Cuba and the Cameraman ",
           "Documentary",
           114
          ],
          [
           "Ben Platt: Live from Radio City Music Hall",
           "Concert Film",
           85
          ],
          [
           "Winter on Fire: Ukraine's Fight for Freedom",
           "Documentary",
           91
          ],
          [
           "Emicida: AmarElo - It's All For Yesterday",
           "Documentary",
           89
          ],
          [
           "David Attenborough: A Life on Our Planet",
           "Documentary",
           83
          ]
         ],
         "hovertemplate": "Film Length Group=Medium Length Film<br>Premiere=%{x}<br>IMDB Score=%{y}<br>Title=%{customdata[0]}<br>Genre=%{customdata[1]}<br>Runtime=%{customdata[2]}<extra></extra>",
         "legendgroup": "Medium Length Film",
         "marker": {
          "color": "#EF553B",
          "size": 10,
          "symbol": "circle"
         },
         "mode": "markers",
         "name": "Medium Length Film",
         "orientation": "v",
         "showlegend": true,
         "type": "scatter",
         "x": [
          "2020-08-21T00:00:00",
          "2019-12-26T00:00:00",
          "2018-01-19T00:00:00",
          "2020-10-30T00:00:00",
          "2020-12-04T00:00:00",
          "2018-03-23T00:00:00",
          "2020-11-27T00:00:00",
          "2020-09-18T00:00:00",
          "2020-10-01T00:00:00",
          "2016-11-22T00:00:00",
          "2020-02-21T00:00:00",
          "2021-01-01T00:00:00",
          "2017-08-25T00:00:00",
          "2019-09-13T00:00:00",
          "2019-07-18T00:00:00",
          "2019-08-16T00:00:00",
          "2021-04-09T00:00:00",
          "2020-07-16T00:00:00",
          "2021-04-02T00:00:00",
          "2020-07-31T00:00:00",
          "2021-02-10T00:00:00",
          "2018-12-07T00:00:00",
          "2016-10-28T00:00:00",
          "2019-02-22T00:00:00",
          "2019-10-25T00:00:00",
          "2020-07-15T00:00:00",
          "2020-07-14T00:00:00",
          "2020-11-30T00:00:00",
          "2019-01-18T00:00:00",
          "2021-03-05T00:00:00",
          "2020-10-02T00:00:00",
          "2020-12-25T00:00:00",
          "2020-12-04T00:00:00",
          "2017-01-06T00:00:00",
          "2020-05-01T00:00:00",
          "2020-10-28T00:00:00",
          "2017-01-20T00:00:00",
          "2020-04-10T00:00:00",
          "2015-12-11T00:00:00",
          "2020-04-17T00:00:00",
          "2020-08-14T00:00:00",
          "2019-11-28T00:00:00",
          "2020-10-30T00:00:00",
          "2020-01-23T00:00:00",
          "2018-07-13T00:00:00",
          "2020-10-15T00:00:00",
          "2016-07-15T00:00:00",
          "2021-02-11T00:00:00",
          "2020-10-22T00:00:00",
          "2017-01-13T00:00:00",
          "2020-04-03T00:00:00",
          "2018-04-20T00:00:00",
          "2021-02-25T00:00:00",
          "2020-07-23T00:00:00",
          "2017-09-08T00:00:00",
          "2020-07-03T00:00:00",
          "2020-11-22T00:00:00",
          "2018-07-20T00:00:00",
          "2019-02-22T00:00:00",
          "2021-05-26T00:00:00",
          "2017-02-14T00:00:00",
          "2017-05-05T00:00:00",
          "2020-10-07T00:00:00",
          "2018-05-25T00:00:00",
          "2019-05-24T00:00:00",
          "2019-05-17T00:00:00",
          "2019-05-14T00:00:00",
          "2021-02-05T00:00:00",
          "2019-09-13T00:00:00",
          "2020-11-27T00:00:00",
          "2018-04-27T00:00:00",
          "2018-11-30T00:00:00",
          "2019-08-30T00:00:00",
          "2020-04-30T00:00:00",
          "2020-08-12T00:00:00",
          "2020-05-28T00:00:00",
          "2018-09-07T00:00:00",
          "2018-06-24T00:00:00",
          "2019-04-12T00:00:00",
          "2016-08-26T00:00:00",
          "2020-10-15T00:00:00",
          "2019-12-05T00:00:00",
          "2019-05-03T00:00:00",
          "2020-09-02T00:00:00",
          "2018-03-23T00:00:00",
          "2020-03-06T00:00:00",
          "2019-10-04T00:00:00",
          "2021-04-02T00:00:00",
          "2017-08-11T00:00:00",
          "2021-01-15T00:00:00",
          "2020-11-19T00:00:00",
          "2020-07-01T00:00:00",
          "2018-10-26T00:00:00",
          "2019-12-01T00:00:00",
          "2021-04-28T00:00:00",
          "2019-11-15T00:00:00",
          "2019-02-08T00:00:00",
          "2020-04-10T00:00:00",
          "2020-10-02T00:00:00",
          "2021-02-11T00:00:00",
          "2018-01-19T00:00:00",
          "2018-02-04T00:00:00",
          "2019-11-21T00:00:00",
          "2018-07-06T00:00:00",
          "2018-08-10T00:00:00",
          "2019-04-05T00:00:00",
          "2019-05-10T00:00:00",
          "2017-10-12T00:00:00",
          "2016-07-07T00:00:00",
          "2021-01-15T00:00:00",
          "2019-08-29T00:00:00",
          "2020-09-03T00:00:00",
          "2020-06-19T00:00:00",
          "2019-01-11T00:00:00",
          "2021-02-05T00:00:00",
          "2020-12-23T00:00:00",
          "2020-09-16T00:00:00",
          "2020-08-21T00:00:00",
          "2020-10-02T00:00:00",
          "2021-04-14T00:00:00",
          "2021-03-26T00:00:00",
          "2021-03-25T00:00:00",
          "2017-12-15T00:00:00",
          "2020-09-11T00:00:00",
          "2017-12-08T00:00:00",
          "2019-10-18T00:00:00",
          "2019-05-16T00:00:00",
          "2019-01-04T00:00:00",
          "2017-09-01T00:00:00",
          "2020-06-18T00:00:00",
          "2019-07-12T00:00:00",
          "2021-04-14T00:00:00",
          "2016-05-27T00:00:00",
          "2018-11-02T00:00:00",
          "2021-05-14T00:00:00",
          "2020-05-13T00:00:00",
          "2019-02-01T00:00:00",
          "2021-03-12T00:00:00",
          "2020-12-14T00:00:00",
          "2017-11-17T00:00:00",
          "2019-11-01T00:00:00",
          "2016-12-16T00:00:00",
          "2018-04-27T00:00:00",
          "2020-06-05T00:00:00",
          "2020-08-21T00:00:00",
          "2018-07-27T00:00:00",
          "2018-03-30T00:00:00",
          "2021-05-14T00:00:00",
          "2019-11-08T00:00:00",
          "2016-10-13T00:00:00",
          "2020-11-05T00:00:00",
          "2018-11-30T00:00:00",
          "2020-04-30T00:00:00",
          "2020-04-17T00:00:00",
          "2018-09-07T00:00:00",
          "2017-04-28T00:00:00",
          "2016-04-29T00:00:00",
          "2018-06-29T00:00:00",
          "2018-08-24T00:00:00",
          "2020-09-10T00:00:00",
          "2020-12-07T00:00:00",
          "2019-04-12T00:00:00",
          "2020-11-11T00:00:00",
          "2020-10-02T00:00:00",
          "2018-04-06T00:00:00",
          "2018-04-06T00:00:00",
          "2018-11-16T00:00:00",
          "2019-11-15T00:00:00",
          "2020-02-07T00:00:00",
          "2020-03-27T00:00:00",
          "2020-03-27T00:00:00",
          "2018-01-12T00:00:00",
          "2016-11-11T00:00:00",
          "2020-03-20T00:00:00",
          "2018-04-13T00:00:00",
          "2018-05-04T00:00:00",
          "2017-01-27T00:00:00",
          "2019-08-09T00:00:00",
          "2019-03-08T00:00:00",
          "2019-06-14T00:00:00",
          "2020-08-14T00:00:00",
          "2020-11-25T00:00:00",
          "2018-05-11T00:00:00",
          "2018-11-16T00:00:00",
          "2020-02-12T00:00:00",
          "2019-09-20T00:00:00",
          "2017-03-10T00:00:00",
          "2017-04-28T00:00:00",
          "2017-03-17T00:00:00",
          "2020-10-28T00:00:00",
          "2019-11-01T00:00:00",
          "2015-05-29T00:00:00",
          "2018-08-03T00:00:00",
          "2020-03-13T00:00:00",
          "2019-08-02T00:00:00",
          "2016-03-18T00:00:00",
          "2020-10-30T00:00:00",
          "2020-04-17T00:00:00",
          "2021-01-08T00:00:00",
          "2021-04-01T00:00:00",
          "2017-11-10T00:00:00",
          "2020-05-22T00:00:00",
          "2017-03-24T00:00:00",
          "2019-05-24T00:00:00",
          "2021-01-15T00:00:00",
          "2020-08-28T00:00:00",
          "2020-08-07T00:00:00",
          "2021-05-26T00:00:00",
          "2021-01-29T00:00:00",
          "2020-08-17T00:00:00",
          "2021-04-09T00:00:00",
          "2019-02-08T00:00:00",
          "2019-09-27T00:00:00",
          "2020-06-19T00:00:00",
          "2020-08-14T00:00:00",
          "2018-03-23T00:00:00",
          "2019-04-19T00:00:00",
          "2020-03-06T00:00:00",
          "2018-09-14T00:00:00",
          "2018-04-27T00:00:00",
          "2017-12-01T00:00:00",
          "2017-04-07T00:00:00",
          "2017-10-20T00:00:00",
          "2018-06-08T00:00:00",
          "2018-03-16T00:00:00",
          "2017-12-22T00:00:00",
          "2018-05-18T00:00:00",
          "2021-04-02T00:00:00",
          "2020-06-19T00:00:00",
          "2021-03-18T00:00:00",
          "2018-04-13T00:00:00",
          "2021-01-28T00:00:00",
          "2019-04-19T00:00:00",
          "2021-05-26T00:00:00",
          "2020-11-24T00:00:00",
          "2019-01-25T00:00:00",
          "2017-04-21T00:00:00",
          "2017-06-09T00:00:00",
          "2016-12-09T00:00:00",
          "2017-10-13T00:00:00",
          "2017-03-31T00:00:00",
          "2019-10-18T00:00:00",
          "2019-03-29T00:00:00",
          "2021-02-12T00:00:00",
          "2019-08-28T00:00:00",
          "2020-03-27T00:00:00",
          "2020-08-05T00:00:00",
          "2020-12-21T00:00:00",
          "2016-09-16T00:00:00",
          "2019-12-24T00:00:00",
          "2018-03-30T00:00:00",
          "2019-10-11T00:00:00",
          "2018-02-16T00:00:00",
          "2020-02-14T00:00:00",
          "2021-02-11T00:00:00",
          "2020-04-29T00:00:00",
          "2014-12-13T00:00:00",
          "2018-09-21T00:00:00",
          "2020-10-23T00:00:00",
          "2019-10-12T00:00:00",
          "2017-09-15T00:00:00",
          "2018-03-16T00:00:00",
          "2021-01-14T00:00:00",
          "2017-05-05T00:00:00",
          "2020-03-25T00:00:00",
          "2020-04-22T00:00:00",
          "2018-09-28T00:00:00",
          "2019-03-08T00:00:00",
          "2017-10-20T00:00:00",
          "2018-02-09T00:00:00",
          "2020-02-28T00:00:00",
          "2020-08-28T00:00:00",
          "2020-03-19T00:00:00",
          "2019-03-21T00:00:00",
          "2019-05-31T00:00:00",
          "2017-09-29T00:00:00",
          "2020-10-30T00:00:00",
          "2020-11-13T00:00:00",
          "2021-05-07T00:00:00",
          "2018-12-07T00:00:00",
          "2020-06-24T00:00:00",
          "2017-06-23T00:00:00",
          "2021-05-12T00:00:00",
          "2018-06-15T00:00:00",
          "2017-07-28T00:00:00",
          "2020-04-10T00:00:00",
          "2017-04-21T00:00:00",
          "2021-03-26T00:00:00",
          "2020-06-24T00:00:00",
          "2021-02-26T00:00:00",
          "2019-06-07T00:00:00",
          "2016-08-19T00:00:00",
          "2021-05-07T00:00:00",
          "2018-06-29T00:00:00",
          "2020-11-23T00:00:00",
          "2018-12-07T00:00:00",
          "2018-09-14T00:00:00",
          "2020-08-20T00:00:00",
          "2020-06-18T00:00:00",
          "2021-04-16T00:00:00",
          "2019-11-20T00:00:00",
          "2017-05-20T00:00:00",
          "2021-05-27T00:00:00",
          "2017-06-16T00:00:00",
          "2021-01-11T00:00:00",
          "2020-04-24T00:00:00",
          "2020-12-11T00:00:00",
          "2020-11-24T00:00:00",
          "2020-09-15T00:00:00",
          "2017-02-03T00:00:00",
          "2020-12-03T00:00:00",
          "2021-02-05T00:00:00",
          "2021-03-03T00:00:00",
          "2021-03-12T00:00:00",
          "2019-07-10T00:00:00",
          "2016-07-29T00:00:00",
          "2016-07-15T00:00:00",
          "2019-10-18T00:00:00",
          "2016-10-28T00:00:00",
          "2018-01-26T00:00:00",
          "2020-03-20T00:00:00",
          "2019-05-31T00:00:00",
          "2020-05-06T00:00:00",
          "2018-08-03T00:00:00",
          "2018-06-29T00:00:00",
          "2020-12-27T00:00:00",
          "2020-09-17T00:00:00",
          "2020-05-11T00:00:00",
          "2018-04-20T00:00:00",
          "2017-11-21T00:00:00",
          "2020-10-02T00:00:00",
          "2020-11-13T00:00:00",
          "2017-07-14T00:00:00",
          "2021-01-06T00:00:00",
          "2020-12-24T00:00:00",
          "2016-09-30T00:00:00",
          "2020-10-08T00:00:00",
          "2021-03-01T00:00:00",
          "2017-02-24T00:00:00",
          "2017-05-19T00:00:00",
          "2017-09-29T00:00:00",
          "2021-03-26T00:00:00",
          "2018-02-09T00:00:00",
          "2020-06-03T00:00:00",
          "2020-05-01T00:00:00",
          "2017-10-13T00:00:00",
          "2018-10-12T00:00:00",
          "2017-09-22T00:00:00",
          "2017-10-13T00:00:00",
          "2019-09-15T00:00:00",
          "2020-12-18T00:00:00",
          "2021-03-17T00:00:00",
          "2021-02-23T00:00:00",
          "2019-05-17T00:00:00",
          "2019-03-22T00:00:00",
          "2020-12-09T00:00:00",
          "2018-11-22T00:00:00",
          "2019-03-22T00:00:00",
          "2019-06-19T00:00:00",
          "2020-04-22T00:00:00",
          "2020-11-27T00:00:00",
          "2019-12-27T00:00:00",
          "2019-09-10T00:00:00",
          "2021-05-14T00:00:00",
          "2019-04-20T00:00:00",
          "2020-10-27T00:00:00",
          "2017-05-26T00:00:00",
          "2015-09-18T00:00:00",
          "2019-05-01T00:00:00",
          "2018-11-13T00:00:00",
          "2016-03-18T00:00:00",
          "2017-10-20T00:00:00",
          "2021-01-29T00:00:00",
          "2019-07-24T00:00:00",
          "2018-08-17T00:00:00",
          "2020-09-30T00:00:00",
          "2016-09-23T00:00:00",
          "2019-01-18T00:00:00",
          "2016-10-28T00:00:00",
          "2020-04-10T00:00:00",
          "2019-02-22T00:00:00",
          "2019-10-18T00:00:00",
          "2018-05-01T00:00:00",
          "2019-01-18T00:00:00",
          "2016-10-07T00:00:00",
          "2019-10-25T00:00:00",
          "2020-07-17T00:00:00",
          "2017-05-12T00:00:00",
          "2020-05-27T00:00:00",
          "2020-07-08T00:00:00",
          "2018-09-12T00:00:00",
          "2019-01-11T00:00:00",
          "2019-02-08T00:00:00",
          "2020-10-28T00:00:00",
          "2016-10-14T00:00:00",
          "2016-04-29T00:00:00",
          "2017-10-06T00:00:00",
          "2016-06-24T00:00:00",
          "2015-05-22T00:00:00",
          "2019-08-21T00:00:00",
          "2020-01-31T00:00:00",
          "2020-11-25T00:00:00",
          "2018-10-26T00:00:00",
          "2019-06-07T00:00:00",
          "2018-11-02T00:00:00",
          "2015-07-17T00:00:00",
          "2017-11-22T00:00:00",
          "2020-10-14T00:00:00",
          "2018-09-07T00:00:00",
          "2020-10-02T00:00:00",
          "2019-08-16T00:00:00",
          "2017-10-27T00:00:00",
          "2019-12-24T00:00:00",
          "2018-09-13T00:00:00",
          "2020-06-24T00:00:00",
          "2019-10-18T00:00:00",
          "2018-07-27T00:00:00",
          "2020-09-09T00:00:00",
          "2015-06-26T00:00:00",
          "2020-02-21T00:00:00",
          "2019-04-19T00:00:00",
          "2020-03-25T00:00:00",
          "2017-11-17T00:00:00",
          "2016-10-12T00:00:00",
          "2020-02-11T00:00:00",
          "2020-04-29T00:00:00",
          "2016-11-04T00:00:00",
          "2018-12-21T00:00:00",
          "2017-07-14T00:00:00",
          "2020-09-07T00:00:00",
          "2020-08-26T00:00:00",
          "2016-10-07T00:00:00",
          "2020-06-19T00:00:00",
          "2019-11-15T00:00:00",
          "2021-03-24T00:00:00",
          "2020-10-14T00:00:00",
          "2017-11-24T00:00:00",
          "2020-05-20T00:00:00",
          "2015-10-09T00:00:00",
          "2020-12-08T00:00:00",
          "2020-10-04T00:00:00"
         ],
         "xaxis": "x",
         "y": [
          2.6,
          2.6,
          3.2,
          3.4,
          3.7,
          3.9,
          4.1,
          4.1,
          4.2,
          4.2,
          4.3,
          4.3,
          4.4,
          4.4,
          4.4,
          4.4,
          4.4,
          4.5,
          4.5,
          4.5,
          4.5,
          4.6,
          4.6,
          4.6,
          4.6,
          4.6,
          4.6,
          4.7,
          4.7,
          4.7,
          4.7,
          4.7,
          4.8,
          4.8,
          4.8,
          4.8,
          4.8,
          4.8,
          4.8,
          4.9,
          4.9,
          4.9,
          4.9,
          5,
          5,
          5,
          5,
          5,
          5.1,
          5.1,
          5.1,
          5.1,
          5.1,
          5.1,
          5.2,
          5.2,
          5.2,
          5.2,
          5.2,
          5.2,
          5.2,
          5.2,
          5.2,
          5.2,
          5.2,
          5.2,
          5.2,
          5.2,
          5.2,
          5.2,
          5.2,
          5.3,
          5.3,
          5.3,
          5.3,
          5.3,
          5.3,
          5.3,
          5.3,
          5.3,
          5.4,
          5.4,
          5.4,
          5.4,
          5.4,
          5.4,
          5.4,
          5.4,
          5.4,
          5.4,
          5.4,
          5.4,
          5.5,
          5.5,
          5.5,
          5.5,
          5.5,
          5.5,
          5.5,
          5.5,
          5.5,
          5.5,
          5.5,
          5.5,
          5.5,
          5.5,
          5.5,
          5.6,
          5.6,
          5.6,
          5.6,
          5.6,
          5.6,
          5.6,
          5.6,
          5.6,
          5.6,
          5.6,
          5.6,
          5.6,
          5.7,
          5.7,
          5.7,
          5.7,
          5.7,
          5.7,
          5.7,
          5.7,
          5.7,
          5.7,
          5.7,
          5.7,
          5.7,
          5.7,
          5.7,
          5.7,
          5.7,
          5.7,
          5.8,
          5.8,
          5.8,
          5.8,
          5.8,
          5.8,
          5.8,
          5.8,
          5.8,
          5.8,
          5.8,
          5.8,
          5.8,
          5.8,
          5.8,
          5.8,
          5.8,
          5.8,
          5.8,
          5.8,
          5.8,
          5.8,
          5.8,
          5.8,
          5.8,
          5.8,
          5.9,
          5.9,
          5.9,
          5.9,
          5.9,
          5.9,
          5.9,
          5.9,
          5.9,
          5.9,
          6,
          6,
          6,
          6,
          6,
          6,
          6,
          6,
          6,
          6,
          6,
          6.1,
          6.1,
          6.1,
          6.1,
          6.1,
          6.1,
          6.1,
          6.1,
          6.1,
          6.1,
          6.1,
          6.1,
          6.1,
          6.1,
          6.1,
          6.1,
          6.1,
          6.1,
          6.1,
          6.1,
          6.1,
          6.1,
          6.2,
          6.2,
          6.2,
          6.2,
          6.2,
          6.2,
          6.2,
          6.2,
          6.2,
          6.2,
          6.2,
          6.2,
          6.2,
          6.2,
          6.2,
          6.3,
          6.3,
          6.3,
          6.3,
          6.3,
          6.3,
          6.3,
          6.3,
          6.3,
          6.3,
          6.3,
          6.3,
          6.3,
          6.3,
          6.3,
          6.3,
          6.3,
          6.3,
          6.3,
          6.3,
          6.3,
          6.3,
          6.3,
          6.3,
          6.4,
          6.4,
          6.4,
          6.4,
          6.4,
          6.4,
          6.4,
          6.4,
          6.4,
          6.4,
          6.4,
          6.4,
          6.4,
          6.4,
          6.4,
          6.4,
          6.4,
          6.4,
          6.4,
          6.4,
          6.4,
          6.4,
          6.4,
          6.4,
          6.5,
          6.5,
          6.5,
          6.5,
          6.5,
          6.5,
          6.5,
          6.5,
          6.5,
          6.5,
          6.5,
          6.5,
          6.5,
          6.5,
          6.5,
          6.5,
          6.5,
          6.6,
          6.6,
          6.6,
          6.6,
          6.6,
          6.6,
          6.6,
          6.6,
          6.6,
          6.6,
          6.6,
          6.7,
          6.7,
          6.7,
          6.7,
          6.7,
          6.7,
          6.7,
          6.7,
          6.7,
          6.7,
          6.7,
          6.7,
          6.7,
          6.7,
          6.7,
          6.7,
          6.7,
          6.7,
          6.7,
          6.7,
          6.8,
          6.8,
          6.8,
          6.8,
          6.8,
          6.8,
          6.8,
          6.8,
          6.8,
          6.8,
          6.8,
          6.8,
          6.8,
          6.8,
          6.8,
          6.8,
          6.9,
          6.9,
          6.9,
          6.9,
          6.9,
          6.9,
          6.9,
          6.9,
          6.9,
          6.9,
          6.9,
          6.9,
          7,
          7,
          7,
          7,
          7,
          7,
          7,
          7,
          7,
          7,
          7,
          7,
          7.1,
          7.1,
          7.1,
          7.1,
          7.1,
          7.1,
          7.1,
          7.1,
          7.1,
          7.1,
          7.1,
          7.1,
          7.1,
          7.1,
          7.1,
          7.1,
          7.1,
          7.2,
          7.2,
          7.2,
          7.2,
          7.2,
          7.2,
          7.2,
          7.2,
          7.2,
          7.2,
          7.3,
          7.3,
          7.3,
          7.3,
          7.3,
          7.3,
          7.3,
          7.3,
          7.3,
          7.3,
          7.3,
          7.3,
          7.3,
          7.3,
          7.4,
          7.4,
          7.4,
          7.4,
          7.4,
          7.4,
          7.4,
          7.5,
          7.5,
          7.5,
          7.5,
          7.5,
          7.5,
          7.5,
          7.5,
          7.6,
          7.6,
          7.6,
          7.6,
          7.6,
          7.6,
          7.7,
          7.7,
          7.7,
          7.7,
          7.7,
          7.9,
          7.9,
          8,
          8.1,
          8.1,
          8.1,
          8.2,
          8.2,
          8.2,
          8.2,
          8.2,
          8.3,
          8.4,
          8.4,
          8.6,
          9
         ],
         "yaxis": "y"
        },
        {
         "customdata": [
          [
           "Drive",
           "Action",
           147
          ],
          [
           "The Last Days of American Crime",
           "Heist film/Thriller",
           149
          ],
          [
           "Sardar Ka Grandson",
           "Comedy",
           139
          ],
          [
           "Ghost Stories",
           "Horror anthology",
           144
          ],
          [
           "The Girl on the Train",
           "Thriller",
           120
          ],
          [
           "Sandy Wexler",
           "Comedy",
           131
          ],
          [
           "Things Heard & Seen",
           "Horror",
           121
          ],
          [
           "Dolly Kitty and Those Twinkling Stars",
           "Drama",
           120
          ],
          [
           "Mute",
           "Science fiction/Mystery",
           126
          ],
          [
           "Ride or Die",
           "Psychological thriller drama",
           142
          ],
          [
           "Hold the Dark",
           "Thriller",
           125
          ],
          [
           "Ginny Weds Sunny",
           "Romantic comedy",
           125
          ],
          [
           "15 August",
           "Comedy-drama",
           124
          ],
          [
           "All Day and a Night",
           "Drama",
           121
          ],
          [
           "The Kissing Booth 2",
           "Romantic comedy",
           131
          ],
          [
           "A Fall from Grace",
           "Thriller",
           120
          ],
          [
           "Army of the Dead",
           "Zombie/Heist",
           148
          ],
          [
           "The Prom",
           "Musical",
           132
          ],
          [
           "Rebecca",
           "Romantic thriller",
           123
          ],
          [
           "War Machine",
           "War-Comedy",
           122
          ],
          [
           "6 Underground",
           "Action",
           128
          ],
          [
           "Finding 'Ohana",
           "Family",
           123
          ],
          [
           "Citation",
           "Drama",
           151
          ],
          [
           "Offering to the Storm",
           "Thriller",
           139
          ],
          [
           "Apostle",
           "Horror-thriller",
           129
          ],
          [
           "The Forest of Love",
           "Drama",
           151
          ],
          [
           "The Outsider",
           "Crime drama",
           120
          ],
          [
           "Time to Hunt",
           "Thriller",
           134
          ],
          [
           "Triple Frontier",
           "Action-thriller",
           125
          ],
          [
           "Da 5 Bloods",
           "War drama",
           155
          ],
          [
           "Eurovision Song Contest: The Story of Fire Saga",
           "Musical comedy",
           123
          ],
          [
           "Lust Stories",
           "Drama",
           120
          ],
          [
           "Bird Box",
           "Psychological thriller",
           124
          ],
          [
           "I'm Thinking of Ending Things",
           "Psychological thriller",
           134
          ],
          [
           "It Takes a Lunatic",
           "Documentary",
           126
          ],
          [
           "Space Sweepers",
           "Science fiction",
           136
          ],
          [
           "The Red Sea Diving Resort",
           "Spy thriller",
           130
          ],
          [
           "Ajeeb Daastaans",
           "Drama",
           142
          ],
          [
           "Night in Paradise",
           "Drama",
           132
          ],
          [
           "The Old Guard",
           "Superhero/Action",
           124
          ],
          [
           "22 July",
           "Drama",
           144
          ],
          [
           "The Boys in the Band",
           "Drama",
           121
          ],
          [
           "The Other Side of the Wind",
           "Drama",
           122
          ],
          [
           "Mank",
           "Biopic",
           132
          ],
          [
           "Outlaw King",
           "Historical-epic",
           121
          ],
          [
           "The Highwaymen",
           "Crime drama",
           131
          ],
          [
           "The Night Comes for Us",
           "Action-thriller",
           121
          ],
          [
           "Pieces of a Woman",
           "Drama",
           126
          ],
          [
           "The Devil All the Time",
           "Psychological thriller",
           138
          ],
          [
           "The White Tiger",
           "Drama",
           125
          ],
          [
           "First They Killed My Father",
           "Drama",
           136
          ],
          [
           "Love per Square Foot",
           "Romantic comedy",
           133
          ],
          [
           "Private Life",
           "Drama",
           124
          ],
          [
           "The 40-Year-Old Version",
           "Comedy",
           124
          ],
          [
           "The Disciple",
           "Drama",
           129
          ],
          [
           "The Edge of Democracy",
           "Documentary",
           121
          ],
          [
           "The King",
           "Historical drama",
           140
          ],
          [
           "El Camino: A Breaking Bad Movie",
           "Crime drama",
           121
          ],
          [
           "Okja",
           "Action-adventure",
           121
          ],
          [
           "Raat Akeli Hai",
           "Thriller",
           149
          ],
          [
           "The Ballad of Buster Scruggs",
           "Western",
           132
          ],
          [
           "Homecoming: A Film by Beyonce ",
           "Documentary",
           137
          ],
          [
           "Ludo",
           "Anthology/Dark comedy",
           149
          ],
          [
           "Quincy",
           "Documentary",
           124
          ],
          [
           "Rolling Thunder Revue: A bob Dylan Story by Martin Scorsere",
           "Documentary",
           144
          ],
          [
           "The Two Popes",
           "Drama",
           125
          ],
          [
           "Beasts of No Nation",
           "War drama",
           136
          ],
          [
           "Roma",
           "Drama",
           135
          ],
          [
           "The Irishman",
           "Crime drama",
           209
          ],
          [
           "The Trial of the Chicago 7",
           "Drama",
           130
          ],
          [
           "Icarus",
           "Documentary",
           120
          ],
          [
           "Marriage Story",
           "Drama",
           136
          ],
          [
           "Taylor Swift: Reputation Stadium Tour",
           "Concert Film",
           125
          ],
          [
           "Springsteen on Broadway",
           "One-man show",
           153
          ]
         ],
         "hovertemplate": "Film Length Group=Long Film<br>Premiere=%{x}<br>IMDB Score=%{y}<br>Title=%{customdata[0]}<br>Genre=%{customdata[1]}<br>Runtime=%{customdata[2]}<extra></extra>",
         "legendgroup": "Long Film",
         "marker": {
          "color": "#00cc96",
          "size": 10,
          "symbol": "circle"
         },
         "mode": "markers",
         "name": "Long Film",
         "orientation": "v",
         "showlegend": true,
         "type": "scatter",
         "x": [
          "2019-11-01T00:00:00",
          "2020-06-05T00:00:00",
          "2021-05-18T00:00:00",
          "2020-01-01T00:00:00",
          "2021-02-26T00:00:00",
          "2017-04-14T00:00:00",
          "2021-04-29T00:00:00",
          "2020-09-18T00:00:00",
          "2018-02-23T00:00:00",
          "2021-04-15T00:00:00",
          "2018-09-28T00:00:00",
          "2020-10-09T00:00:00",
          "2019-03-29T00:00:00",
          "2020-05-01T00:00:00",
          "2020-07-24T00:00:00",
          "2020-01-17T00:00:00",
          "2021-05-21T00:00:00",
          "2020-12-11T00:00:00",
          "2020-10-21T00:00:00",
          "2017-05-26T00:00:00",
          "2019-12-13T00:00:00",
          "2021-01-29T00:00:00",
          "2020-11-06T00:00:00",
          "2020-07-24T00:00:00",
          "2018-10-12T00:00:00",
          "2019-10-11T00:00:00",
          "2018-03-09T00:00:00",
          "2020-04-23T00:00:00",
          "2019-03-13T00:00:00",
          "2020-06-12T00:00:00",
          "2020-06-26T00:00:00",
          "2018-06-15T00:00:00",
          "2018-12-21T00:00:00",
          "2020-09-04T00:00:00",
          "2019-10-25T00:00:00",
          "2021-02-05T00:00:00",
          "2019-07-31T00:00:00",
          "2021-04-16T00:00:00",
          "2021-04-09T00:00:00",
          "2020-07-10T00:00:00",
          "2018-10-10T00:00:00",
          "2020-09-30T00:00:00",
          "2018-11-02T00:00:00",
          "2020-12-04T00:00:00",
          "2018-11-09T00:00:00",
          "2019-03-29T00:00:00",
          "2018-10-19T00:00:00",
          "2021-01-07T00:00:00",
          "2020-09-16T00:00:00",
          "2021-01-22T00:00:00",
          "2017-09-15T00:00:00",
          "2018-02-14T00:00:00",
          "2018-10-05T00:00:00",
          "2020-10-09T00:00:00",
          "2021-04-30T00:00:00",
          "2019-06-19T00:00:00",
          "2019-11-01T00:00:00",
          "2019-10-11T00:00:00",
          "2017-06-28T00:00:00",
          "2020-07-31T00:00:00",
          "2018-11-16T00:00:00",
          "2019-04-17T00:00:00",
          "2020-11-12T00:00:00",
          "2018-09-21T00:00:00",
          "2019-06-12T00:00:00",
          "2019-12-20T00:00:00",
          "2015-10-16T00:00:00",
          "2018-12-14T00:00:00",
          "2019-11-27T00:00:00",
          "2020-10-16T00:00:00",
          "2017-08-04T00:00:00",
          "2019-12-06T00:00:00",
          "2018-12-31T00:00:00",
          "2018-12-16T00:00:00"
         ],
         "xaxis": "x",
         "y": [
          3.5,
          3.7,
          4.1,
          4.3,
          4.4,
          5.2,
          5.3,
          5.4,
          5.5,
          5.5,
          5.6,
          5.7,
          5.8,
          5.8,
          5.8,
          5.9,
          5.9,
          5.9,
          6,
          6,
          6.1,
          6.1,
          6.2,
          6.2,
          6.3,
          6.3,
          6.3,
          6.3,
          6.4,
          6.5,
          6.5,
          6.5,
          6.6,
          6.6,
          6.6,
          6.6,
          6.6,
          6.7,
          6.7,
          6.7,
          6.8,
          6.8,
          6.8,
          6.9,
          6.9,
          6.9,
          7,
          7.1,
          7.1,
          7.1,
          7.2,
          7.2,
          7.2,
          7.2,
          7.2,
          7.2,
          7.2,
          7.3,
          7.3,
          7.3,
          7.3,
          7.5,
          7.6,
          7.6,
          7.6,
          7.6,
          7.7,
          7.7,
          7.8,
          7.8,
          7.9,
          7.9,
          8.4,
          8.5
         ],
         "yaxis": "y"
        }
       ],
       "layout": {
        "height": 800,
        "hovermode": "closest",
        "legend": {
         "bgcolor": "white",
         "bordercolor": "white",
         "borderwidth": 0,
         "font": {
          "size": 10
         },
         "title": {
          "text": "Film Length Group"
         },
         "tracegroupgap": 0,
         "xanchor": "right",
         "yanchor": "top"
        },
        "margin": {
         "b": 70,
         "l": 140,
         "r": 60,
         "t": 100
        },
        "paper_bgcolor": "white",
        "plot_bgcolor": "white",
        "template": {
         "data": {
          "bar": [
           {
            "error_x": {
             "color": "#2a3f5f"
            },
            "error_y": {
             "color": "#2a3f5f"
            },
            "marker": {
             "line": {
              "color": "#E5ECF6",
              "width": 0.5
             },
             "pattern": {
              "fillmode": "overlay",
              "size": 10,
              "solidity": 0.2
             }
            },
            "type": "bar"
           }
          ],
          "barpolar": [
           {
            "marker": {
             "line": {
              "color": "#E5ECF6",
              "width": 0.5
             },
             "pattern": {
              "fillmode": "overlay",
              "size": 10,
              "solidity": 0.2
             }
            },
            "type": "barpolar"
           }
          ],
          "carpet": [
           {
            "aaxis": {
             "endlinecolor": "#2a3f5f",
             "gridcolor": "white",
             "linecolor": "white",
             "minorgridcolor": "white",
             "startlinecolor": "#2a3f5f"
            },
            "baxis": {
             "endlinecolor": "#2a3f5f",
             "gridcolor": "white",
             "linecolor": "white",
             "minorgridcolor": "white",
             "startlinecolor": "#2a3f5f"
            },
            "type": "carpet"
           }
          ],
          "choropleth": [
           {
            "colorbar": {
             "outlinewidth": 0,
             "ticks": ""
            },
            "type": "choropleth"
           }
          ],
          "contour": [
           {
            "colorbar": {
             "outlinewidth": 0,
             "ticks": ""
            },
            "colorscale": [
             [
              0,
              "#0d0887"
             ],
             [
              0.1111111111111111,
              "#46039f"
             ],
             [
              0.2222222222222222,
              "#7201a8"
             ],
             [
              0.3333333333333333,
              "#9c179e"
             ],
             [
              0.4444444444444444,
              "#bd3786"
             ],
             [
              0.5555555555555556,
              "#d8576b"
             ],
             [
              0.6666666666666666,
              "#ed7953"
             ],
             [
              0.7777777777777778,
              "#fb9f3a"
             ],
             [
              0.8888888888888888,
              "#fdca26"
             ],
             [
              1,
              "#f0f921"
             ]
            ],
            "type": "contour"
           }
          ],
          "contourcarpet": [
           {
            "colorbar": {
             "outlinewidth": 0,
             "ticks": ""
            },
            "type": "contourcarpet"
           }
          ],
          "heatmap": [
           {
            "colorbar": {
             "outlinewidth": 0,
             "ticks": ""
            },
            "colorscale": [
             [
              0,
              "#0d0887"
             ],
             [
              0.1111111111111111,
              "#46039f"
             ],
             [
              0.2222222222222222,
              "#7201a8"
             ],
             [
              0.3333333333333333,
              "#9c179e"
             ],
             [
              0.4444444444444444,
              "#bd3786"
             ],
             [
              0.5555555555555556,
              "#d8576b"
             ],
             [
              0.6666666666666666,
              "#ed7953"
             ],
             [
              0.7777777777777778,
              "#fb9f3a"
             ],
             [
              0.8888888888888888,
              "#fdca26"
             ],
             [
              1,
              "#f0f921"
             ]
            ],
            "type": "heatmap"
           }
          ],
          "heatmapgl": [
           {
            "colorbar": {
             "outlinewidth": 0,
             "ticks": ""
            },
            "colorscale": [
             [
              0,
              "#0d0887"
             ],
             [
              0.1111111111111111,
              "#46039f"
             ],
             [
              0.2222222222222222,
              "#7201a8"
             ],
             [
              0.3333333333333333,
              "#9c179e"
             ],
             [
              0.4444444444444444,
              "#bd3786"
             ],
             [
              0.5555555555555556,
              "#d8576b"
             ],
             [
              0.6666666666666666,
              "#ed7953"
             ],
             [
              0.7777777777777778,
              "#fb9f3a"
             ],
             [
              0.8888888888888888,
              "#fdca26"
             ],
             [
              1,
              "#f0f921"
             ]
            ],
            "type": "heatmapgl"
           }
          ],
          "histogram": [
           {
            "marker": {
             "pattern": {
              "fillmode": "overlay",
              "size": 10,
              "solidity": 0.2
             }
            },
            "type": "histogram"
           }
          ],
          "histogram2d": [
           {
            "colorbar": {
             "outlinewidth": 0,
             "ticks": ""
            },
            "colorscale": [
             [
              0,
              "#0d0887"
             ],
             [
              0.1111111111111111,
              "#46039f"
             ],
             [
              0.2222222222222222,
              "#7201a8"
             ],
             [
              0.3333333333333333,
              "#9c179e"
             ],
             [
              0.4444444444444444,
              "#bd3786"
             ],
             [
              0.5555555555555556,
              "#d8576b"
             ],
             [
              0.6666666666666666,
              "#ed7953"
             ],
             [
              0.7777777777777778,
              "#fb9f3a"
             ],
             [
              0.8888888888888888,
              "#fdca26"
             ],
             [
              1,
              "#f0f921"
             ]
            ],
            "type": "histogram2d"
           }
          ],
          "histogram2dcontour": [
           {
            "colorbar": {
             "outlinewidth": 0,
             "ticks": ""
            },
            "colorscale": [
             [
              0,
              "#0d0887"
             ],
             [
              0.1111111111111111,
              "#46039f"
             ],
             [
              0.2222222222222222,
              "#7201a8"
             ],
             [
              0.3333333333333333,
              "#9c179e"
             ],
             [
              0.4444444444444444,
              "#bd3786"
             ],
             [
              0.5555555555555556,
              "#d8576b"
             ],
             [
              0.6666666666666666,
              "#ed7953"
             ],
             [
              0.7777777777777778,
              "#fb9f3a"
             ],
             [
              0.8888888888888888,
              "#fdca26"
             ],
             [
              1,
              "#f0f921"
             ]
            ],
            "type": "histogram2dcontour"
           }
          ],
          "mesh3d": [
           {
            "colorbar": {
             "outlinewidth": 0,
             "ticks": ""
            },
            "type": "mesh3d"
           }
          ],
          "parcoords": [
           {
            "line": {
             "colorbar": {
              "outlinewidth": 0,
              "ticks": ""
             }
            },
            "type": "parcoords"
           }
          ],
          "pie": [
           {
            "automargin": true,
            "type": "pie"
           }
          ],
          "scatter": [
           {
            "marker": {
             "colorbar": {
              "outlinewidth": 0,
              "ticks": ""
             }
            },
            "type": "scatter"
           }
          ],
          "scatter3d": [
           {
            "line": {
             "colorbar": {
              "outlinewidth": 0,
              "ticks": ""
             }
            },
            "marker": {
             "colorbar": {
              "outlinewidth": 0,
              "ticks": ""
             }
            },
            "type": "scatter3d"
           }
          ],
          "scattercarpet": [
           {
            "marker": {
             "colorbar": {
              "outlinewidth": 0,
              "ticks": ""
             }
            },
            "type": "scattercarpet"
           }
          ],
          "scattergeo": [
           {
            "marker": {
             "colorbar": {
              "outlinewidth": 0,
              "ticks": ""
             }
            },
            "type": "scattergeo"
           }
          ],
          "scattergl": [
           {
            "marker": {
             "colorbar": {
              "outlinewidth": 0,
              "ticks": ""
             }
            },
            "type": "scattergl"
           }
          ],
          "scattermapbox": [
           {
            "marker": {
             "colorbar": {
              "outlinewidth": 0,
              "ticks": ""
             }
            },
            "type": "scattermapbox"
           }
          ],
          "scatterpolar": [
           {
            "marker": {
             "colorbar": {
              "outlinewidth": 0,
              "ticks": ""
             }
            },
            "type": "scatterpolar"
           }
          ],
          "scatterpolargl": [
           {
            "marker": {
             "colorbar": {
              "outlinewidth": 0,
              "ticks": ""
             }
            },
            "type": "scatterpolargl"
           }
          ],
          "scatterternary": [
           {
            "marker": {
             "colorbar": {
              "outlinewidth": 0,
              "ticks": ""
             }
            },
            "type": "scatterternary"
           }
          ],
          "surface": [
           {
            "colorbar": {
             "outlinewidth": 0,
             "ticks": ""
            },
            "colorscale": [
             [
              0,
              "#0d0887"
             ],
             [
              0.1111111111111111,
              "#46039f"
             ],
             [
              0.2222222222222222,
              "#7201a8"
             ],
             [
              0.3333333333333333,
              "#9c179e"
             ],
             [
              0.4444444444444444,
              "#bd3786"
             ],
             [
              0.5555555555555556,
              "#d8576b"
             ],
             [
              0.6666666666666666,
              "#ed7953"
             ],
             [
              0.7777777777777778,
              "#fb9f3a"
             ],
             [
              0.8888888888888888,
              "#fdca26"
             ],
             [
              1,
              "#f0f921"
             ]
            ],
            "type": "surface"
           }
          ],
          "table": [
           {
            "cells": {
             "fill": {
              "color": "#EBF0F8"
             },
             "line": {
              "color": "white"
             }
            },
            "header": {
             "fill": {
              "color": "#C8D4E3"
             },
             "line": {
              "color": "white"
             }
            },
            "type": "table"
           }
          ]
         },
         "layout": {
          "annotationdefaults": {
           "arrowcolor": "#2a3f5f",
           "arrowhead": 0,
           "arrowwidth": 1
          },
          "autotypenumbers": "strict",
          "coloraxis": {
           "colorbar": {
            "outlinewidth": 0,
            "ticks": ""
           }
          },
          "colorscale": {
           "diverging": [
            [
             0,
             "#8e0152"
            ],
            [
             0.1,
             "#c51b7d"
            ],
            [
             0.2,
             "#de77ae"
            ],
            [
             0.3,
             "#f1b6da"
            ],
            [
             0.4,
             "#fde0ef"
            ],
            [
             0.5,
             "#f7f7f7"
            ],
            [
             0.6,
             "#e6f5d0"
            ],
            [
             0.7,
             "#b8e186"
            ],
            [
             0.8,
             "#7fbc41"
            ],
            [
             0.9,
             "#4d9221"
            ],
            [
             1,
             "#276419"
            ]
           ],
           "sequential": [
            [
             0,
             "#0d0887"
            ],
            [
             0.1111111111111111,
             "#46039f"
            ],
            [
             0.2222222222222222,
             "#7201a8"
            ],
            [
             0.3333333333333333,
             "#9c179e"
            ],
            [
             0.4444444444444444,
             "#bd3786"
            ],
            [
             0.5555555555555556,
             "#d8576b"
            ],
            [
             0.6666666666666666,
             "#ed7953"
            ],
            [
             0.7777777777777778,
             "#fb9f3a"
            ],
            [
             0.8888888888888888,
             "#fdca26"
            ],
            [
             1,
             "#f0f921"
            ]
           ],
           "sequentialminus": [
            [
             0,
             "#0d0887"
            ],
            [
             0.1111111111111111,
             "#46039f"
            ],
            [
             0.2222222222222222,
             "#7201a8"
            ],
            [
             0.3333333333333333,
             "#9c179e"
            ],
            [
             0.4444444444444444,
             "#bd3786"
            ],
            [
             0.5555555555555556,
             "#d8576b"
            ],
            [
             0.6666666666666666,
             "#ed7953"
            ],
            [
             0.7777777777777778,
             "#fb9f3a"
            ],
            [
             0.8888888888888888,
             "#fdca26"
            ],
            [
             1,
             "#f0f921"
            ]
           ]
          },
          "colorway": [
           "#636efa",
           "#EF553B",
           "#00cc96",
           "#ab63fa",
           "#FFA15A",
           "#19d3f3",
           "#FF6692",
           "#B6E880",
           "#FF97FF",
           "#FECB52"
          ],
          "font": {
           "color": "#2a3f5f"
          },
          "geo": {
           "bgcolor": "white",
           "lakecolor": "white",
           "landcolor": "#E5ECF6",
           "showlakes": true,
           "showland": true,
           "subunitcolor": "white"
          },
          "hoverlabel": {
           "align": "left"
          },
          "hovermode": "closest",
          "mapbox": {
           "style": "light"
          },
          "paper_bgcolor": "white",
          "plot_bgcolor": "#E5ECF6",
          "polar": {
           "angularaxis": {
            "gridcolor": "white",
            "linecolor": "white",
            "ticks": ""
           },
           "bgcolor": "#E5ECF6",
           "radialaxis": {
            "gridcolor": "white",
            "linecolor": "white",
            "ticks": ""
           }
          },
          "scene": {
           "xaxis": {
            "backgroundcolor": "#E5ECF6",
            "gridcolor": "white",
            "gridwidth": 2,
            "linecolor": "white",
            "showbackground": true,
            "ticks": "",
            "zerolinecolor": "white"
           },
           "yaxis": {
            "backgroundcolor": "#E5ECF6",
            "gridcolor": "white",
            "gridwidth": 2,
            "linecolor": "white",
            "showbackground": true,
            "ticks": "",
            "zerolinecolor": "white"
           },
           "zaxis": {
            "backgroundcolor": "#E5ECF6",
            "gridcolor": "white",
            "gridwidth": 2,
            "linecolor": "white",
            "showbackground": true,
            "ticks": "",
            "zerolinecolor": "white"
           }
          },
          "shapedefaults": {
           "line": {
            "color": "#2a3f5f"
           }
          },
          "ternary": {
           "aaxis": {
            "gridcolor": "white",
            "linecolor": "white",
            "ticks": ""
           },
           "baxis": {
            "gridcolor": "white",
            "linecolor": "white",
            "ticks": ""
           },
           "bgcolor": "#E5ECF6",
           "caxis": {
            "gridcolor": "white",
            "linecolor": "white",
            "ticks": ""
           }
          },
          "title": {
           "x": 0.05
          },
          "xaxis": {
           "automargin": true,
           "gridcolor": "white",
           "linecolor": "white",
           "ticks": "",
           "title": {
            "standoff": 15
           },
           "zerolinecolor": "white",
           "zerolinewidth": 2
          },
          "yaxis": {
           "automargin": true,
           "gridcolor": "white",
           "linecolor": "white",
           "ticks": "",
           "title": {
            "standoff": 15
           },
           "zerolinecolor": "white",
           "zerolinewidth": 2
          }
         }
        },
        "title": {
         "text": "IMDB Score for All Netflix Originals Released from 2014-2020"
        },
        "width": 1300,
        "xaxis": {
         "anchor": "y",
         "domain": [
          0,
          1
         ],
         "linecolor": "rgb(102, 102, 102)",
         "showgrid": false,
         "showline": true,
         "showticklabels": true,
         "tickcolor": "rgb(102, 102, 102)",
         "tickfont": {
          "color": "rgb(102, 102, 102)"
         },
         "ticks": "outside",
         "title": {
          "text": "Premiere"
         }
        },
        "yaxis": {
         "anchor": "x",
         "domain": [
          0,
          1
         ],
         "title": {
          "text": "IMDB Score"
         }
        }
       }
      }
     },
     "metadata": {},
     "output_type": "display_data"
    }
   ],
   "source": [
    "fig_arVsrt = px.scatter(netflix, \n",
    "                        x=\"Premiere\", \n",
    "                        y=\"IMDB Score\", \n",
    "                        color=\"Film Length Group\",\n",
    "                        hover_data=['Title',\"Genre\",'IMDB Score','Runtime'])\n",
    "fig_arVsrt.update_traces(marker_size=6)\n",
    "fig_arVsrt.update_layout(\n",
    "    title=\"IMDB Score for All Netflix Originals Released from 2014-2020\",\n",
    "    xaxis=dict(\n",
    "        showgrid=False,\n",
    "        showline=True,\n",
    "        linecolor='rgb(102, 102, 102)',\n",
    "        tickfont_color='rgb(102, 102, 102)',\n",
    "        showticklabels=True,\n",
    "        ticks='outside', # ticks pointing outside\n",
    "        tickcolor='rgb(102, 102, 102)',\n",
    "    ),\n",
    "    margin=dict(l=140, r=60, b=70, t=100), # lenght of left, right, bottom, and top margins\n",
    "    \n",
    "    # legends have an anchor point set to a point within the legend\n",
    "    legend=dict(\n",
    "        font_size=10,\n",
    "        yanchor='top',\n",
    "        xanchor='right',\n",
    "        bgcolor = 'white', \n",
    "        bordercolor  = 'white',\n",
    "        borderwidth = 0\n",
    "    ),\n",
    "    width=1300,\n",
    "    height=800,\n",
    "    paper_bgcolor='white',\n",
    "    plot_bgcolor='white',\n",
    "    hovermode='closest',\n",
    ")\n",
    "\n",
    "fig_arVsrt.update_traces(marker_size=10)\n",
    "fig_arVsrt.show()"
   ]
  },
  {
   "cell_type": "markdown",
   "metadata": {},
   "source": [
    "- Plot a scatter plot with lines and annotations and highlight area that encapsulates lowly rated movies"
   ]
  },
  {
   "cell_type": "code",
   "execution_count": 48,
   "metadata": {},
   "outputs": [
    {
     "data": {
      "text/plain": [
       "Text(0, 0.5, 'Movie Runtime')"
      ]
     },
     "execution_count": 48,
     "metadata": {},
     "output_type": "execute_result"
    },
    {
     "data": {
      "image/png": "[encoded data removed]",
      "text/plain": [
       "<Figure size 576x432 with 1 Axes>"
      ]
     },
     "metadata": {
      "needs_background": "light"
     },
     "output_type": "display_data"
    }
   ],
   "source": [
    "x_vals = netflix['IMDB Score']\n",
    "y_vals = netflix['Runtime']\n",
    "x_avg = x_vals.mean()\n",
    "\n",
    "y_avg = y_vals.mean()\n",
    "x_avg = x_vals.mean()\n",
    "\n",
    "plt.figure(figsize=[8,6])\n",
    "plt.scatter(x_vals, y_vals)\n",
    "\n",
    "plt.axhline(y=y_avg,linestyle='dashed',color='blue')\n",
    "plt.axvline(x=x_avg,linestyle='dashed',color='blue')\n",
    "\n",
    "plt.axvspan(3,5,color='red',alpha=0.2)\n",
    "plt.axvspan(8,10,color='green',alpha=0.2)\n",
    "\n",
    "plt.gca().spines['right'].set_visible(False)\n",
    "plt.gca().spines['top'].set_visible(False)\n",
    "\n",
    "\n",
    "\n",
    "plt.title('Runtime Vs. IMDB Rating', fontsize = 20, loc='right', pad = 20, color = 'black',)\n",
    "plt.xlabel('Movie IMDB Score')\n",
    "plt.ylabel('Movie Runtime')"
   ]
  },
  {
   "cell_type": "code",
   "execution_count": 100,
   "metadata": {},
   "outputs": [
    {
     "data": {
      "text/html": [
       "<div>\n",
       "<style scoped>\n",
       "    .dataframe tbody tr th:only-of-type {\n",
       "        vertical-align: middle;\n",
       "    }\n",
       "\n",
       "    .dataframe tbody tr th {\n",
       "        vertical-align: top;\n",
       "    }\n",
       "\n",
       "    .dataframe thead th {\n",
       "        text-align: right;\n",
       "    }\n",
       "</style>\n",
       "<table border=\"1\" class=\"dataframe\">\n",
       "  <thead>\n",
       "    <tr style=\"text-align: right;\">\n",
       "      <th>Release Month</th>\n",
       "      <th>1</th>\n",
       "      <th>2</th>\n",
       "      <th>3</th>\n",
       "      <th>4</th>\n",
       "      <th>5</th>\n",
       "      <th>6</th>\n",
       "      <th>7</th>\n",
       "      <th>8</th>\n",
       "      <th>9</th>\n",
       "      <th>10</th>\n",
       "      <th>11</th>\n",
       "      <th>12</th>\n",
       "    </tr>\n",
       "    <tr>\n",
       "      <th>Release Year</th>\n",
       "      <th></th>\n",
       "      <th></th>\n",
       "      <th></th>\n",
       "      <th></th>\n",
       "      <th></th>\n",
       "      <th></th>\n",
       "      <th></th>\n",
       "      <th></th>\n",
       "      <th></th>\n",
       "      <th></th>\n",
       "      <th></th>\n",
       "      <th></th>\n",
       "    </tr>\n",
       "  </thead>\n",
       "  <tbody>\n",
       "    <tr>\n",
       "      <th>2014</th>\n",
       "      <td>0.0</td>\n",
       "      <td>0.0</td>\n",
       "      <td>0.0</td>\n",
       "      <td>0.0</td>\n",
       "      <td>0.0</td>\n",
       "      <td>0.0</td>\n",
       "      <td>0.0</td>\n",
       "      <td>0.0</td>\n",
       "      <td>0.0</td>\n",
       "      <td>0.0</td>\n",
       "      <td>0.0</td>\n",
       "      <td>1.0</td>\n",
       "    </tr>\n",
       "    <tr>\n",
       "      <th>2015</th>\n",
       "      <td>0.0</td>\n",
       "      <td>0.0</td>\n",
       "      <td>0.0</td>\n",
       "      <td>0.0</td>\n",
       "      <td>2.0</td>\n",
       "      <td>1.0</td>\n",
       "      <td>1.0</td>\n",
       "      <td>0.0</td>\n",
       "      <td>1.0</td>\n",
       "      <td>2.0</td>\n",
       "      <td>0.0</td>\n",
       "      <td>2.0</td>\n",
       "    </tr>\n",
       "    <tr>\n",
       "      <th>2016</th>\n",
       "      <td>0.0</td>\n",
       "      <td>0.0</td>\n",
       "      <td>2.0</td>\n",
       "      <td>2.0</td>\n",
       "      <td>1.0</td>\n",
       "      <td>1.0</td>\n",
       "      <td>4.0</td>\n",
       "      <td>2.0</td>\n",
       "      <td>5.0</td>\n",
       "      <td>8.0</td>\n",
       "      <td>3.0</td>\n",
       "      <td>2.0</td>\n",
       "    </tr>\n",
       "    <tr>\n",
       "      <th>2017</th>\n",
       "      <td>5.0</td>\n",
       "      <td>4.0</td>\n",
       "      <td>4.0</td>\n",
       "      <td>7.0</td>\n",
       "      <td>7.0</td>\n",
       "      <td>4.0</td>\n",
       "      <td>3.0</td>\n",
       "      <td>3.0</td>\n",
       "      <td>10.0</td>\n",
       "      <td>9.0</td>\n",
       "      <td>6.0</td>\n",
       "      <td>4.0</td>\n",
       "    </tr>\n",
       "    <tr>\n",
       "      <th>2018</th>\n",
       "      <td>4.0</td>\n",
       "      <td>7.0</td>\n",
       "      <td>9.0</td>\n",
       "      <td>10.0</td>\n",
       "      <td>6.0</td>\n",
       "      <td>7.0</td>\n",
       "      <td>5.0</td>\n",
       "      <td>6.0</td>\n",
       "      <td>12.0</td>\n",
       "      <td>9.0</td>\n",
       "      <td>13.0</td>\n",
       "      <td>11.0</td>\n",
       "    </tr>\n",
       "    <tr>\n",
       "      <th>2019</th>\n",
       "      <td>7.0</td>\n",
       "      <td>8.0</td>\n",
       "      <td>9.0</td>\n",
       "      <td>9.0</td>\n",
       "      <td>15.0</td>\n",
       "      <td>8.0</td>\n",
       "      <td>6.0</td>\n",
       "      <td>11.0</td>\n",
       "      <td>8.0</td>\n",
       "      <td>18.0</td>\n",
       "      <td>15.0</td>\n",
       "      <td>11.0</td>\n",
       "    </tr>\n",
       "    <tr>\n",
       "      <th>2020</th>\n",
       "      <td>5.0</td>\n",
       "      <td>7.0</td>\n",
       "      <td>12.0</td>\n",
       "      <td>17.0</td>\n",
       "      <td>10.0</td>\n",
       "      <td>14.0</td>\n",
       "      <td>15.0</td>\n",
       "      <td>15.0</td>\n",
       "      <td>17.0</td>\n",
       "      <td>31.0</td>\n",
       "      <td>20.0</td>\n",
       "      <td>20.0</td>\n",
       "    </tr>\n",
       "    <tr>\n",
       "      <th>2021</th>\n",
       "      <td>16.0</td>\n",
       "      <td>13.0</td>\n",
       "      <td>12.0</td>\n",
       "      <td>18.0</td>\n",
       "      <td>12.0</td>\n",
       "      <td>0.0</td>\n",
       "      <td>0.0</td>\n",
       "      <td>0.0</td>\n",
       "      <td>0.0</td>\n",
       "      <td>0.0</td>\n",
       "      <td>0.0</td>\n",
       "      <td>0.0</td>\n",
       "    </tr>\n",
       "  </tbody>\n",
       "</table>\n",
       "</div>"
      ],
      "text/plain": [
       "Release Month    1     2     3     4     5     6     7     8     9     10  \\\n",
       "Release Year                                                                \n",
       "2014            0.0   0.0   0.0   0.0   0.0   0.0   0.0   0.0   0.0   0.0   \n",
       "2015            0.0   0.0   0.0   0.0   2.0   1.0   1.0   0.0   1.0   2.0   \n",
       "2016            0.0   0.0   2.0   2.0   1.0   1.0   4.0   2.0   5.0   8.0   \n",
       "2017            5.0   4.0   4.0   7.0   7.0   4.0   3.0   3.0  10.0   9.0   \n",
       "2018            4.0   7.0   9.0  10.0   6.0   7.0   5.0   6.0  12.0   9.0   \n",
       "2019            7.0   8.0   9.0   9.0  15.0   8.0   6.0  11.0   8.0  18.0   \n",
       "2020            5.0   7.0  12.0  17.0  10.0  14.0  15.0  15.0  17.0  31.0   \n",
       "2021           16.0  13.0  12.0  18.0  12.0   0.0   0.0   0.0   0.0   0.0   \n",
       "\n",
       "Release Month    11    12  \n",
       "Release Year               \n",
       "2014            0.0   1.0  \n",
       "2015            0.0   2.0  \n",
       "2016            3.0   2.0  \n",
       "2017            6.0   4.0  \n",
       "2018           13.0  11.0  \n",
       "2019           15.0  11.0  \n",
       "2020           20.0  20.0  \n",
       "2021            0.0   0.0  "
      ]
     },
     "execution_count": 100,
     "metadata": {},
     "output_type": "execute_result"
    }
   ],
   "source": [
    "# x = netflix.loc[(netflix['Release Year']> 2016) & (netflix['Release Year']< 2021),'Release Month']\n",
    "# y = netflix.loc[(netflix['Release Year']> 2016) & (netflix['Release Year']< 2021),'Release Year']\n",
    "# z = netflix.loc[(netflix['Release Year']> 2016) & (netflix['Release Year']< 2021),'Title']\n",
    "\n",
    "x = netflix.loc[:,'Release Month']\n",
    "y = netflix.loc[:,'Release Year']\n",
    "z = netflix.loc[:,'Title']\n",
    "\n",
    "df = pd.crosstab(index=y,columns=x,values=z,aggfunc='count')\n",
    "df.fillna(0,inplace=True)\n",
    "df"
   ]
  },
  {
   "cell_type": "code",
   "execution_count": 101,
   "metadata": {},
   "outputs": [
    {
     "data": {
      "text/plain": [
       "Int64Index([1, 2, 3, 4, 5, 6, 7, 8, 9, 10, 11, 12], dtype='int64', name='Release Month')"
      ]
     },
     "execution_count": 101,
     "metadata": {},
     "output_type": "execute_result"
    }
   ],
   "source": [
    "df.columns"
   ]
  },
  {
   "cell_type": "code",
   "execution_count": 106,
   "metadata": {},
   "outputs": [
    {
     "data": {
      "application/vnd.plotly.v1+json": {
       "config": {
        "plotlyServerURL": "https://plot.ly"
       },
       "data": [
        {
         "colorscale": [
          [
           0,
           "rgb(165,0,38)"
          ],
          [
           0.1,
           "rgb(215,48,39)"
          ],
          [
           0.2,
           "rgb(244,109,67)"
          ],
          [
           0.3,
           "rgb(253,174,97)"
          ],
          [
           0.4,
           "rgb(254,224,139)"
          ],
          [
           0.5,
           "rgb(255,255,191)"
          ],
          [
           0.6,
           "rgb(217,239,139)"
          ],
          [
           0.7,
           "rgb(166,217,106)"
          ],
          [
           0.8,
           "rgb(102,189,99)"
          ],
          [
           0.9,
           "rgb(26,152,80)"
          ],
          [
           1,
           "rgb(0,104,55)"
          ]
         ],
         "hovertemplate": "Movies Released:%{z}",
         "name": "",
         "type": "heatmap",
         "x": [
          1,
          2,
          3,
          4,
          5,
          6,
          7,
          8,
          9,
          10,
          11,
          12
         ],
         "y": [
          2014,
          2015,
          2016,
          2017,
          2018,
          2019,
          2020,
          2021
         ],
         "z": [
          [
           0,
           0,
           0,
           0,
           0,
           0,
           0,
           0,
           0,
           0,
           0,
           1
          ],
          [
           0,
           0,
           0,
           0,
           2,
           1,
           1,
           0,
           1,
           2,
           0,
           2
          ],
          [
           0,
           0,
           2,
           2,
           1,
           1,
           4,
           2,
           5,
           8,
           3,
           2
          ],
          [
           5,
           4,
           4,
           7,
           7,
           4,
           3,
           3,
           10,
           9,
           6,
           4
          ],
          [
           4,
           7,
           9,
           10,
           6,
           7,
           5,
           6,
           12,
           9,
           13,
           11
          ],
          [
           7,
           8,
           9,
           9,
           15,
           8,
           6,
           11,
           8,
           18,
           15,
           11
          ],
          [
           5,
           7,
           12,
           17,
           10,
           14,
           15,
           15,
           17,
           31,
           20,
           20
          ],
          [
           16,
           13,
           12,
           18,
           12,
           0,
           0,
           0,
           0,
           0,
           0,
           0
          ]
         ]
        }
       ],
       "layout": {
        "height": 600,
        "plot_bgcolor": "rgba(0,0,0,0)",
        "template": {
         "data": {
          "bar": [
           {
            "error_x": {
             "color": "#2a3f5f"
            },
            "error_y": {
             "color": "#2a3f5f"
            },
            "marker": {
             "line": {
              "color": "#E5ECF6",
              "width": 0.5
             },
             "pattern": {
              "fillmode": "overlay",
              "size": 10,
              "solidity": 0.2
             }
            },
            "type": "bar"
           }
          ],
          "barpolar": [
           {
            "marker": {
             "line": {
              "color": "#E5ECF6",
              "width": 0.5
             },
             "pattern": {
              "fillmode": "overlay",
              "size": 10,
              "solidity": 0.2
             }
            },
            "type": "barpolar"
           }
          ],
          "carpet": [
           {
            "aaxis": {
             "endlinecolor": "#2a3f5f",
             "gridcolor": "white",
             "linecolor": "white",
             "minorgridcolor": "white",
             "startlinecolor": "#2a3f5f"
            },
            "baxis": {
             "endlinecolor": "#2a3f5f",
             "gridcolor": "white",
             "linecolor": "white",
             "minorgridcolor": "white",
             "startlinecolor": "#2a3f5f"
            },
            "type": "carpet"
           }
          ],
          "choropleth": [
           {
            "colorbar": {
             "outlinewidth": 0,
             "ticks": ""
            },
            "type": "choropleth"
           }
          ],
          "contour": [
           {
            "colorbar": {
             "outlinewidth": 0,
             "ticks": ""
            },
            "colorscale": [
             [
              0,
              "#0d0887"
             ],
             [
              0.1111111111111111,
              "#46039f"
             ],
             [
              0.2222222222222222,
              "#7201a8"
             ],
             [
              0.3333333333333333,
              "#9c179e"
             ],
             [
              0.4444444444444444,
              "#bd3786"
             ],
             [
              0.5555555555555556,
              "#d8576b"
             ],
             [
              0.6666666666666666,
              "#ed7953"
             ],
             [
              0.7777777777777778,
              "#fb9f3a"
             ],
             [
              0.8888888888888888,
              "#fdca26"
             ],
             [
              1,
              "#f0f921"
             ]
            ],
            "type": "contour"
           }
          ],
          "contourcarpet": [
           {
            "colorbar": {
             "outlinewidth": 0,
             "ticks": ""
            },
            "type": "contourcarpet"
           }
          ],
          "heatmap": [
           {
            "colorbar": {
             "outlinewidth": 0,
             "ticks": ""
            },
            "colorscale": [
             [
              0,
              "#0d0887"
             ],
             [
              0.1111111111111111,
              "#46039f"
             ],
             [
              0.2222222222222222,
              "#7201a8"
             ],
             [
              0.3333333333333333,
              "#9c179e"
             ],
             [
              0.4444444444444444,
              "#bd3786"
             ],
             [
              0.5555555555555556,
              "#d8576b"
             ],
             [
              0.6666666666666666,
              "#ed7953"
             ],
             [
              0.7777777777777778,
              "#fb9f3a"
             ],
             [
              0.8888888888888888,
              "#fdca26"
             ],
             [
              1,
              "#f0f921"
             ]
            ],
            "type": "heatmap"
           }
          ],
          "heatmapgl": [
           {
            "colorbar": {
             "outlinewidth": 0,
             "ticks": ""
            },
            "colorscale": [
             [
              0,
              "#0d0887"
             ],
             [
              0.1111111111111111,
              "#46039f"
             ],
             [
              0.2222222222222222,
              "#7201a8"
             ],
             [
              0.3333333333333333,
              "#9c179e"
             ],
             [
              0.4444444444444444,
              "#bd3786"
             ],
             [
              0.5555555555555556,
              "#d8576b"
             ],
             [
              0.6666666666666666,
              "#ed7953"
             ],
             [
              0.7777777777777778,
              "#fb9f3a"
             ],
             [
              0.8888888888888888,
              "#fdca26"
             ],
             [
              1,
              "#f0f921"
             ]
            ],
            "type": "heatmapgl"
           }
          ],
          "histogram": [
           {
            "marker": {
             "pattern": {
              "fillmode": "overlay",
              "size": 10,
              "solidity": 0.2
             }
            },
            "type": "histogram"
           }
          ],
          "histogram2d": [
           {
            "colorbar": {
             "outlinewidth": 0,
             "ticks": ""
            },
            "colorscale": [
             [
              0,
              "#0d0887"
             ],
             [
              0.1111111111111111,
              "#46039f"
             ],
             [
              0.2222222222222222,
              "#7201a8"
             ],
             [
              0.3333333333333333,
              "#9c179e"
             ],
             [
              0.4444444444444444,
              "#bd3786"
             ],
             [
              0.5555555555555556,
              "#d8576b"
             ],
             [
              0.6666666666666666,
              "#ed7953"
             ],
             [
              0.7777777777777778,
              "#fb9f3a"
             ],
             [
              0.8888888888888888,
              "#fdca26"
             ],
             [
              1,
              "#f0f921"
             ]
            ],
            "type": "histogram2d"
           }
          ],
          "histogram2dcontour": [
           {
            "colorbar": {
             "outlinewidth": 0,
             "ticks": ""
            },
            "colorscale": [
             [
              0,
              "#0d0887"
             ],
             [
              0.1111111111111111,
              "#46039f"
             ],
             [
              0.2222222222222222,
              "#7201a8"
             ],
             [
              0.3333333333333333,
              "#9c179e"
             ],
             [
              0.4444444444444444,
              "#bd3786"
             ],
             [
              0.5555555555555556,
              "#d8576b"
             ],
             [
              0.6666666666666666,
              "#ed7953"
             ],
             [
              0.7777777777777778,
              "#fb9f3a"
             ],
             [
              0.8888888888888888,
              "#fdca26"
             ],
             [
              1,
              "#f0f921"
             ]
            ],
            "type": "histogram2dcontour"
           }
          ],
          "mesh3d": [
           {
            "colorbar": {
             "outlinewidth": 0,
             "ticks": ""
            },
            "type": "mesh3d"
           }
          ],
          "parcoords": [
           {
            "line": {
             "colorbar": {
              "outlinewidth": 0,
              "ticks": ""
             }
            },
            "type": "parcoords"
           }
          ],
          "pie": [
           {
            "automargin": true,
            "type": "pie"
           }
          ],
          "scatter": [
           {
            "marker": {
             "colorbar": {
              "outlinewidth": 0,
              "ticks": ""
             }
            },
            "type": "scatter"
           }
          ],
          "scatter3d": [
           {
            "line": {
             "colorbar": {
              "outlinewidth": 0,
              "ticks": ""
             }
            },
            "marker": {
             "colorbar": {
              "outlinewidth": 0,
              "ticks": ""
             }
            },
            "type": "scatter3d"
           }
          ],
          "scattercarpet": [
           {
            "marker": {
             "colorbar": {
              "outlinewidth": 0,
              "ticks": ""
             }
            },
            "type": "scattercarpet"
           }
          ],
          "scattergeo": [
           {
            "marker": {
             "colorbar": {
              "outlinewidth": 0,
              "ticks": ""
             }
            },
            "type": "scattergeo"
           }
          ],
          "scattergl": [
           {
            "marker": {
             "colorbar": {
              "outlinewidth": 0,
              "ticks": ""
             }
            },
            "type": "scattergl"
           }
          ],
          "scattermapbox": [
           {
            "marker": {
             "colorbar": {
              "outlinewidth": 0,
              "ticks": ""
             }
            },
            "type": "scattermapbox"
           }
          ],
          "scatterpolar": [
           {
            "marker": {
             "colorbar": {
              "outlinewidth": 0,
              "ticks": ""
             }
            },
            "type": "scatterpolar"
           }
          ],
          "scatterpolargl": [
           {
            "marker": {
             "colorbar": {
              "outlinewidth": 0,
              "ticks": ""
             }
            },
            "type": "scatterpolargl"
           }
          ],
          "scatterternary": [
           {
            "marker": {
             "colorbar": {
              "outlinewidth": 0,
              "ticks": ""
             }
            },
            "type": "scatterternary"
           }
          ],
          "surface": [
           {
            "colorbar": {
             "outlinewidth": 0,
             "ticks": ""
            },
            "colorscale": [
             [
              0,
              "#0d0887"
             ],
             [
              0.1111111111111111,
              "#46039f"
             ],
             [
              0.2222222222222222,
              "#7201a8"
             ],
             [
              0.3333333333333333,
              "#9c179e"
             ],
             [
              0.4444444444444444,
              "#bd3786"
             ],
             [
              0.5555555555555556,
              "#d8576b"
             ],
             [
              0.6666666666666666,
              "#ed7953"
             ],
             [
              0.7777777777777778,
              "#fb9f3a"
             ],
             [
              0.8888888888888888,
              "#fdca26"
             ],
             [
              1,
              "#f0f921"
             ]
            ],
            "type": "surface"
           }
          ],
          "table": [
           {
            "cells": {
             "fill": {
              "color": "#EBF0F8"
             },
             "line": {
              "color": "white"
             }
            },
            "header": {
             "fill": {
              "color": "#C8D4E3"
             },
             "line": {
              "color": "white"
             }
            },
            "type": "table"
           }
          ]
         },
         "layout": {
          "annotationdefaults": {
           "arrowcolor": "#2a3f5f",
           "arrowhead": 0,
           "arrowwidth": 1
          },
          "autotypenumbers": "strict",
          "coloraxis": {
           "colorbar": {
            "outlinewidth": 0,
            "ticks": ""
           }
          },
          "colorscale": {
           "diverging": [
            [
             0,
             "#8e0152"
            ],
            [
             0.1,
             "#c51b7d"
            ],
            [
             0.2,
             "#de77ae"
            ],
            [
             0.3,
             "#f1b6da"
            ],
            [
             0.4,
             "#fde0ef"
            ],
            [
             0.5,
             "#f7f7f7"
            ],
            [
             0.6,
             "#e6f5d0"
            ],
            [
             0.7,
             "#b8e186"
            ],
            [
             0.8,
             "#7fbc41"
            ],
            [
             0.9,
             "#4d9221"
            ],
            [
             1,
             "#276419"
            ]
           ],
           "sequential": [
            [
             0,
             "#0d0887"
            ],
            [
             0.1111111111111111,
             "#46039f"
            ],
            [
             0.2222222222222222,
             "#7201a8"
            ],
            [
             0.3333333333333333,
             "#9c179e"
            ],
            [
             0.4444444444444444,
             "#bd3786"
            ],
            [
             0.5555555555555556,
             "#d8576b"
            ],
            [
             0.6666666666666666,
             "#ed7953"
            ],
            [
             0.7777777777777778,
             "#fb9f3a"
            ],
            [
             0.8888888888888888,
             "#fdca26"
            ],
            [
             1,
             "#f0f921"
            ]
           ],
           "sequentialminus": [
            [
             0,
             "#0d0887"
            ],
            [
             0.1111111111111111,
             "#46039f"
            ],
            [
             0.2222222222222222,
             "#7201a8"
            ],
            [
             0.3333333333333333,
             "#9c179e"
            ],
            [
             0.4444444444444444,
             "#bd3786"
            ],
            [
             0.5555555555555556,
             "#d8576b"
            ],
            [
             0.6666666666666666,
             "#ed7953"
            ],
            [
             0.7777777777777778,
             "#fb9f3a"
            ],
            [
             0.8888888888888888,
             "#fdca26"
            ],
            [
             1,
             "#f0f921"
            ]
           ]
          },
          "colorway": [
           "#636efa",
           "#EF553B",
           "#00cc96",
           "#ab63fa",
           "#FFA15A",
           "#19d3f3",
           "#FF6692",
           "#B6E880",
           "#FF97FF",
           "#FECB52"
          ],
          "font": {
           "color": "#2a3f5f"
          },
          "geo": {
           "bgcolor": "white",
           "lakecolor": "white",
           "landcolor": "#E5ECF6",
           "showlakes": true,
           "showland": true,
           "subunitcolor": "white"
          },
          "hoverlabel": {
           "align": "left"
          },
          "hovermode": "closest",
          "mapbox": {
           "style": "light"
          },
          "paper_bgcolor": "white",
          "plot_bgcolor": "#E5ECF6",
          "polar": {
           "angularaxis": {
            "gridcolor": "white",
            "linecolor": "white",
            "ticks": ""
           },
           "bgcolor": "#E5ECF6",
           "radialaxis": {
            "gridcolor": "white",
            "linecolor": "white",
            "ticks": ""
           }
          },
          "scene": {
           "xaxis": {
            "backgroundcolor": "#E5ECF6",
            "gridcolor": "white",
            "gridwidth": 2,
            "linecolor": "white",
            "showbackground": true,
            "ticks": "",
            "zerolinecolor": "white"
           },
           "yaxis": {
            "backgroundcolor": "#E5ECF6",
            "gridcolor": "white",
            "gridwidth": 2,
            "linecolor": "white",
            "showbackground": true,
            "ticks": "",
            "zerolinecolor": "white"
           },
           "zaxis": {
            "backgroundcolor": "#E5ECF6",
            "gridcolor": "white",
            "gridwidth": 2,
            "linecolor": "white",
            "showbackground": true,
            "ticks": "",
            "zerolinecolor": "white"
           }
          },
          "shapedefaults": {
           "line": {
            "color": "#2a3f5f"
           }
          },
          "ternary": {
           "aaxis": {
            "gridcolor": "white",
            "linecolor": "white",
            "ticks": ""
           },
           "baxis": {
            "gridcolor": "white",
            "linecolor": "white",
            "ticks": ""
           },
           "bgcolor": "#E5ECF6",
           "caxis": {
            "gridcolor": "white",
            "linecolor": "white",
            "ticks": ""
           }
          },
          "title": {
           "x": 0.05
          },
          "xaxis": {
           "automargin": true,
           "gridcolor": "white",
           "linecolor": "white",
           "ticks": "",
           "title": {
            "standoff": 15
           },
           "zerolinecolor": "white",
           "zerolinewidth": 2
          },
          "yaxis": {
           "automargin": true,
           "gridcolor": "white",
           "linecolor": "white",
           "ticks": "",
           "title": {
            "standoff": 15
           },
           "zerolinecolor": "white",
           "zerolinewidth": 2
          }
         }
        },
        "title": {
         "text": "Number of Originals Released per Month"
        },
        "xaxis": {
         "ticktext": [
          "Jan",
          "Feb",
          "Mar",
          "Apr",
          "May",
          "Jun",
          "Jul",
          "Aug",
          "Sep",
          "Oct",
          "Nov",
          "Dec"
         ],
         "tickvals": [
          1,
          2,
          3,
          4,
          5,
          6,
          7,
          8,
          9,
          10,
          11,
          12
         ],
         "title": {
          "text": "Month"
         },
         "type": "category"
        },
        "yaxis": {
         "title": {
          "text": "Year"
         },
         "type": "category"
        }
       }
      }
     },
     "metadata": {},
     "output_type": "display_data"
    }
   ],
   "source": [
    "\n",
    "fig_hm = go.Figure()\n",
    "fig_hm.add_trace(go.Heatmap(x=df.columns,\n",
    "                         y=df.index,\n",
    "                         z=df.values,\n",
    "                         colorscale='rdylgn',\n",
    "                         hovertemplate = 'Movies Released:%{z}',\n",
    "                         name=''))\n",
    "fig_hm.update_layout(title_text = 'Number of Originals Released per Month',\n",
    "           xaxis_title = 'Month',\n",
    "           yaxis_title ='Year',\n",
    "           xaxis_type = 'category',\n",
    "           yaxis_type = 'category',\n",
    "           xaxis = dict(tickvals = list(range(1,13,1)), ticktext = ['Jan','Feb','Mar','Apr','May',\n",
    "                                                              'Jun','Jul','Aug','Sep','Oct','Nov','Dec']),\n",
    "           height = 600, \n",
    "           plot_bgcolor='rgba(0,0,0,0)')\n",
    "fig_hm.show()\n"
   ]
  },
  {
   "cell_type": "code",
   "execution_count": 35,
   "metadata": {},
   "outputs": [
    {
     "data": {
      "text/plain": [
       "Index(['Title', 'Genre', 'Premiere', 'Runtime', 'IMDB Score', 'Language',\n",
       "       'Rating Quality', 'Film Length Group', 'Release Year', 'Release Month',\n",
       "       'Release Day'],\n",
       "      dtype='object')"
      ]
     },
     "execution_count": 35,
     "metadata": {},
     "output_type": "execute_result"
    }
   ],
   "source": [
    "netflix.columns"
   ]
  },
  {
   "cell_type": "code",
   "execution_count": 48,
   "metadata": {},
   "outputs": [
    {
     "data": {
      "image/png": "[encoded data removed]",
      "text/plain": [
       "<Figure size 432x288 with 1 Axes>"
      ]
     },
     "metadata": {
      "needs_background": "light"
     },
     "output_type": "display_data"
    }
   ],
   "source": [
    "sns.scatterplot(data=netflix,\n",
    "            x='IMDB Score',y='Runtime',hue='Rating Quality',size='Film Length Group')\n",
    "\n",
    "plt.show()"
   ]
  },
  {
   "cell_type": "markdown",
   "metadata": {},
   "source": [
    "- Create subplots for all the for films by film length Group."
   ]
  },
  {
   "cell_type": "code",
   "execution_count": 86,
   "metadata": {},
   "outputs": [
    {
     "data": {
      "text/plain": [
       "<Figure size 576x432 with 0 Axes>"
      ]
     },
     "metadata": {},
     "output_type": "display_data"
    },
    {
     "data": {
      "image/png": "[encoded data removed]",
      "text/plain": [
       "<Figure size 432x288 with 1 Axes>"
      ]
     },
     "metadata": {
      "needs_background": "light"
     },
     "output_type": "display_data"
    }
   ],
   "source": [
    "\n",
    "output = netflix['Film Length Group'].value_counts()\n",
    "\n",
    "plt.figure(figsize=(8,6))\n",
    "fig, ax = plt.subplots()\n",
    "p = plt.barh(output.index, output)\n",
    "ax.set_xlabel('Film Length Group')\n",
    "ax.set_ylabel('Count')\n",
    "\n",
    "\n",
    "bar_labels = output\n",
    "\n",
    "[ax.text(v, i, v) for i,v in enumerate(bar_labels)]\n",
    "\n",
    "plt.show()"
   ]
  },
  {
   "cell_type": "code",
   "execution_count": 93,
   "metadata": {},
   "outputs": [
    {
     "data": {
      "image/png": "[encoded data removed]",
      "text/plain": [
       "<Figure size 432x288 with 1 Axes>"
      ]
     },
     "metadata": {
      "needs_background": "light"
     },
     "output_type": "display_data"
    }
   ],
   "source": [
    "import squarify\n",
    "Months = netflix['RMonth Text'].value_counts()\n",
    "squarify.plot(sizes=Months,label=Months.index,alpha=0.7) \n",
    "plt.axis('off')\n",
    "plt.show()"
   ]
  },
  {
   "cell_type": "code",
   "execution_count": 112,
   "metadata": {},
   "outputs": [
    {
     "data": {
      "text/plain": [
       "Index(['Title', 'Genre', 'Premiere', 'Runtime', 'IMDB Score', 'Language',\n",
       "       'Rating Quality', 'Film Length Group', 'Release Year', 'Release Month',\n",
       "       'Release Day', 'RMonth Text'],\n",
       "      dtype='object')"
      ]
     },
     "execution_count": 112,
     "metadata": {},
     "output_type": "execute_result"
    }
   ],
   "source": [
    "netflix.columns"
   ]
  },
  {
   "cell_type": "code",
   "execution_count": 134,
   "metadata": {},
   "outputs": [
    {
     "name": "stderr",
     "output_type": "stream",
     "text": [
      "C:\\Users\\Young Harambe\\anaconda3\\lib\\site-packages\\pandas\\core\\frame.py:5047: SettingWithCopyWarning:\n",
      "\n",
      "\n",
      "A value is trying to be set on a copy of a slice from a DataFrame\n",
      "\n",
      "See the caveats in the documentation: https://pandas.pydata.org/pandas-docs/stable/user_guide/indexing.html#returning-a-view-versus-a-copy\n",
      "\n",
      "C:\\Users\\Young Harambe\\anaconda3\\lib\\site-packages\\ipykernel_launcher.py:22: SettingWithCopyWarning:\n",
      "\n",
      "\n",
      "A value is trying to be set on a copy of a slice from a DataFrame.\n",
      "Try using .loc[row_indexer,col_indexer] = value instead\n",
      "\n",
      "See the caveats in the documentation: https://pandas.pydata.org/pandas-docs/stable/user_guide/indexing.html#returning-a-view-versus-a-copy\n",
      "\n"
     ]
    },
    {
     "name": "stdout",
     "output_type": "stream",
     "text": [
      "Dash is running on http://127.0.0.1:8050/\n",
      "\n",
      "Dash is running on http://127.0.0.1:8050/\n",
      "\n",
      "Dash is running on http://127.0.0.1:8050/\n",
      "\n",
      "Dash is running on http://127.0.0.1:8050/\n",
      "\n",
      "Dash is running on http://127.0.0.1:8050/\n",
      "\n",
      "Dash is running on http://127.0.0.1:8050/\n",
      "\n",
      "Dash is running on http://127.0.0.1:8050/\n",
      "\n",
      "Dash is running on http://127.0.0.1:8050/\n",
      "\n",
      "Dash is running on http://127.0.0.1:8050/\n",
      "\n",
      "Dash is running on http://127.0.0.1:8050/\n",
      "\n",
      "Dash is running on http://127.0.0.1:8050/\n",
      "\n",
      "Dash is running on http://127.0.0.1:8050/\n",
      "\n",
      "Dash is running on http://127.0.0.1:8050/\n",
      "\n",
      "Dash is running on http://127.0.0.1:8050/\n",
      "\n",
      "Dash is running on http://127.0.0.1:8050/\n",
      "\n",
      "Dash is running on http://127.0.0.1:8050/\n",
      "\n",
      "Dash is running on http://127.0.0.1:8050/\n",
      "\n",
      "Dash is running on http://127.0.0.1:8050/\n",
      "\n",
      "Dash is running on http://127.0.0.1:8050/\n",
      "\n",
      "Dash is running on http://127.0.0.1:8050/\n",
      "\n",
      "Dash is running on http://127.0.0.1:8050/\n",
      "\n",
      "Dash is running on http://127.0.0.1:8050/\n",
      "\n",
      "Dash is running on http://127.0.0.1:8050/\n",
      "\n",
      "Dash is running on http://127.0.0.1:8050/\n",
      "\n",
      "Dash is running on http://127.0.0.1:8050/\n",
      "\n",
      "Dash is running on http://127.0.0.1:8050/\n",
      "\n",
      "Dash is running on http://127.0.0.1:8050/\n",
      "\n",
      "Dash is running on http://127.0.0.1:8050/\n",
      "\n",
      "Dash is running on http://127.0.0.1:8050/\n",
      "\n",
      "Dash is running on http://127.0.0.1:8050/\n",
      "\n",
      "Dash is running on http://127.0.0.1:8050/\n",
      "\n",
      " * Serving Flask app '__main__' (lazy loading)\n",
      " * Environment: production\n",
      "\u001b[31m   WARNING: This is a development server. Do not use it in a production deployment.\u001b[0m\n",
      "\u001b[2m   Use a production WSGI server instead.\u001b[0m\n",
      " * Debug mode: on\n"
     ]
    }
   ],
   "source": [
    "##### Final APP\n",
    "\n",
    "# #############################################################################\n",
    "import pandas as pd\n",
    "\n",
    "# plotly \n",
    "import plotly.express as px\n",
    "\n",
    "# dashboards\n",
    "import dash\n",
    "import dash_core_components as dcc\n",
    "import dash_html_components as html\n",
    "import dash_table\n",
    "from dash.dependencies import Input, Output\n",
    "import dash_bootstrap_components as dbc\n",
    "from datetime import date\n",
    "from dash.dependencies import Input, Output\n",
    "\n",
    "table = netflix[['Title', 'Genre', 'Premiere', 'Runtime', 'IMDB Score', 'Language',\n",
    "       'Rating Quality', 'Film Length Group', 'Release Year', 'RMonth Text']]\n",
    "table.rename(columns = {'RMonth Text':'Release Month'}, inplace = True)\n",
    "table['id'] = table['Title']\n",
    "table.set_index('id', inplace=True, drop=False)\n",
    "\n",
    "app = dash.Dash(__name__, external_stylesheets=[dbc.themes.BOOTSTRAP])\n",
    "\n",
    "app.layout = html.Div([\n",
    "    html.H1('Netflix Originals Performance Analysis Dashboard', \n",
    "            style={'color': 'maroon', 'fontSize': '40px','textAlign':'center'}),\n",
    "    html.P('''\n",
    "            This Dashboard provides a summary of the public's reception (IMDB ratings) to all the Netflix originals\n",
    "            released between 2014 and May 31st 2021. The main metrics that are considered in the analysis are the IMDB Score\n",
    "            and Runtime of the films. There are other qualitative features included in the dataset that can be viewed on the\n",
    "            filterable Data Table in tab 2.\n",
    "\n",
    "            Special thanks to Luis from Kaggle (view profile here: https://www.kaggle.com/luiscorter) for scraping the dataset.\n",
    "            To actually view the dataset on Kaggle please follow the link presented below: \n",
    "            ''',\n",
    "        style={'textAlign':'center'}),\n",
    "    html.Ul([\n",
    "        html.Li(['Link to dataset here: ',\n",
    "                html.A('Netflix Originals Dataset on Kaggle',\n",
    "                href='https://www.kaggle.com/luiscorter/netflix-original-films-imdb-scores')]),\n",
    "            ]),\n",
    "\n",
    "\n",
    "    dbc.Tabs([\n",
    "        dbc.Tab([\n",
    "            html.H2('Netflix Originals: Summary Tab',\n",
    "                     style={'color': 'maroon','fontSize': '20px','textAlign':'center'}),\n",
    "            \n",
    "            html.P('''\n",
    "            This tab presents a summary of characteristics and performance of all netflix original movies released\n",
    "            from 2014 - 2021. \n",
    "            '''),\n",
    "            html.Div([\n",
    "                    dcc.Graph(figure = rvsrt_fig)\n",
    "                    ],style={'padding': '0px 20px 20px 20px'}),\n",
    "            html.Div([\n",
    "                    dcc.Graph(figure = fig_relfreq)\n",
    "                    ],style={ 'width': '30%','display': 'inline-block', 'padding': '0px 20px 20px 20px'}), #, 'padding': '0px 30px 30px 30px'\n",
    "            html.Div([\n",
    "                    dcc.Graph(figure = fig_genre)\n",
    "                    ],style={'width': '30%', 'display': 'inline-block', 'padding': '0px 20px 20px 20px'}),\n",
    "            html.Div([\n",
    "                    dcc.Graph(figure = fig_lang)\n",
    "                    ],style={ 'width': '30%','display': 'inline-block', 'padding': '0px 20px 20px 20px'}),\n",
    "            html.Div([\n",
    "                    dcc.Graph(figure = fig_hm)\n",
    "                    ],style={ 'padding': '0px 20px 20px 20px'}),\n",
    "\n",
    "\n",
    "            ], label ='Performance Summary tab'),\n",
    "        \n",
    "        dbc.Tab([\n",
    "            html.H1('Filterable Table of Netflix Originals',\n",
    "                    style={'color': 'maroon','fontSize': '20px','textAlign':'center'}),\n",
    "\n",
    "            html.P('''\n",
    "            This table presented below contains all the data for each of the variables in the the Dataset. Feel free to play around and\n",
    "            search for your favourite Netflix originals to see what their IMDB Rating is as well as other cool qualitative facts about\n",
    "            the film.\n",
    "            '''),\n",
    "\n",
    "            dash_table.DataTable(\n",
    "                                id='datatable-row-ids',\n",
    "                                columns=[\n",
    "                                        {'name': i, 'id': i, 'deletable': True} for i in table.columns\n",
    "                                        # omit the id column\n",
    "                                        if i != 'id'\n",
    "                                ],\n",
    "                                data=table.to_dict('records'),\n",
    "                                editable=True,\n",
    "                                filter_action=\"native\",\n",
    "                                sort_action=\"native\",\n",
    "                                sort_mode='multi',\n",
    "                                row_selectable='multi',\n",
    "                                row_deletable=True,\n",
    "                                selected_rows=[],\n",
    "                                page_action='native',\n",
    "                                page_current= 0,\n",
    "                                page_size= 20,\n",
    "                        ),\n",
    "                        html.Div(id='datatable-row-ids-container')\n",
    "\n",
    "            ], label ='Table of All Released Netflix Originals'),\n",
    "        \n",
    "        \n",
    "        dbc.Tab([\n",
    "            html.Div(\n",
    "                    [dcc.Slider( id='year-slider',\n",
    "                        min=netflix['Release Year'].min(),\n",
    "                        max=netflix['Release Year'].max(),\n",
    "                        value=netflix['Release Year'].min(),\n",
    "                        marks={str(year): str(year) for year in netflix['Release Year'].unique()},\n",
    "                        step=None)            \n",
    "                ], style={'width': '100%', 'display': 'inline-block', 'padding': '0px 20px 20px 20px'}),\n",
    "            \n",
    "            html.Div(\n",
    "                    [ dcc.Graph(id='tm-rating_qual'),\n",
    "\n",
    "                ],style={'width': '30%','display': 'inline-block', 'padding': '0px 20px 20px 20px'}),\n",
    "\n",
    "            \n",
    "            html.Div(\n",
    "                    [ dcc.Graph(id='tm-genre'),\n",
    "\n",
    "                ],style={'width': '30%','display': 'inline-block', 'padding': '0px 20px 20px 20px'}),\n",
    "\n",
    "            html.Div(\n",
    "                    [ dcc.Graph(id='tm-length'),\n",
    "\n",
    "                ],style={'width': '30%','display': 'inline-block', 'padding': '0px 20px 20px 20px'}),             \n",
    "            \n",
    "            \n",
    "            html.Div(\n",
    "                    [ dcc.Graph(id='imdb summary'),\n",
    "\n",
    "                ],style={'padding': '0px 20px 20px 20px'}),\n",
    "\n",
    "            html.Div(\n",
    "                    [ dcc.Graph(id='movie-scatterplot'),\n",
    "\n",
    "                ],style={'display': 'inline-block', 'padding': '0px 20px 20px 20px'}),\n",
    "\n",
    "                        \n",
    "\n",
    "        ],label ='Year over Year Performance'), \n",
    "\n",
    "\n",
    "        dbc.Tab([], label ='Dynamic k-Means Clustering')\n",
    "\n",
    "    ]),\n",
    "])\n",
    "\n",
    "@app.callback(\n",
    "        Output('tm-genre', 'figure'),\n",
    "        Input('year-slider', 'value'))\n",
    "\n",
    "def update_tmgenre(year):\n",
    "    plotdata = netflix.loc[netflix['Release Year']== year]\n",
    "    df = pd.DataFrame(plotdata.Genre.value_counts()[:10])\n",
    "    df.reset_index(inplace=True)\n",
    "    fig = px.treemap(df, path=['index'], values='Genre')\n",
    "    fig.update_layout(title_text='Top 10 Genres of Films released in {}'.format(year),\n",
    "                    title_x=0.5, \n",
    "                    title_font=dict(size=20))\n",
    "    fig.update_traces(textinfo=\"label + value+percent parent\")\n",
    "    return fig\n",
    "\n",
    "@app.callback(\n",
    "        Output('tm-length', 'figure'),\n",
    "        Input('year-slider', 'value'))\n",
    "\n",
    "def update_tmgenre(year):\n",
    "    plotdata = netflix.loc[netflix['Release Year']== year]\n",
    "    df = pd.DataFrame(plotdata['Film Length Group'].value_counts())\n",
    "    df.reset_index(inplace=True)\n",
    "    fig = px.treemap(df, path=['index'], values='Film Length Group')\n",
    "    fig.update_layout(title_text='Breakdown of Length of Films released in {}'.format(year),\n",
    "                    title_x=0.5, \n",
    "                    title_font=dict(size=20))\n",
    "    fig.update_traces(textinfo=\"label + value+percent parent\")\n",
    "    return fig\n",
    "\n",
    "\n",
    "@app.callback(\n",
    "        Output('tm-rating_qual', 'figure'),\n",
    "        Input('year-slider', 'value'))\n",
    "\n",
    "def update_tmgenre(year):\n",
    "    plotdata = netflix.loc[netflix['Release Year']== year]\n",
    "    df = pd.DataFrame(plotdata['Rating Quality'].value_counts())\n",
    "    df.reset_index(inplace=True)\n",
    "    fig = px.treemap(df, path=['index'], values='Rating Quality')\n",
    "    fig.update_layout(title_text='Breakdown of Rating Quality of Films released in {}'.format(year),\n",
    "                    title_x=0.5, \n",
    "                    title_font=dict(size=20))\n",
    "    fig.update_traces(textinfo=\"label + value+percent parent\")\n",
    "    return fig\n",
    "\n",
    "\n",
    "\n",
    "@app.callback(\n",
    "        Output('imdb summary', 'figure'),\n",
    "        Input('year-slider', 'value'))\n",
    "def update_figure(year):\n",
    "        \n",
    "        plotdata = netflix.loc[netflix['Release Year']== year].sort_values(by='IMDB Score', ascending = False)\n",
    "        data = plotdata[0:20]\n",
    "        data.reset_index(inplace=True)\n",
    "        \n",
    "        fig = px.bar(data[0:10],x='IMDB Score', y='Title', orientation = 'h')\n",
    "\n",
    "\n",
    "        fig = px.bar(data[0:10], x='IMDB Score', y='Title', hover_data=['IMDB Score', 'Film Length Group'],\n",
    "                    color='Film Length Group')\n",
    "        fig.update_layout(title_text='Top 10 Netflix Originals Released in {} w/ Highest IMDB Scores'.format(year),\n",
    "                        title_x=0.5, \n",
    "                        title_font=dict(size=20),\n",
    "                        plot_bgcolor = 'white',\n",
    "                        xaxis_title = 'IMDB Score',\n",
    "                        yaxis_title = '')\n",
    "        return fig\n",
    "\n",
    "@app.callback(\n",
    "        Output('movie-scatterplot', 'figure'),\n",
    "        Input('year-slider', 'value'))\n",
    "def update_scatter(year):\n",
    "    plotdata = netflix.loc[netflix['Release Year']== year]\n",
    "    fig = px.scatter(plotdata, \n",
    "                        x=\"Premiere\", \n",
    "                        y=\"IMDB Score\", \n",
    "                        color=\"Film Length Group\",\n",
    "                        hover_data=['Title',\"Genre\",'IMDB Score','Runtime'])\n",
    "    fig.update_traces(marker_size=6)\n",
    "    fig.update_layout(\n",
    "        title=\"IMDB Score for All Netflix Originals Released in {}\".format(year),\n",
    "        xaxis=dict(\n",
    "            showgrid=False,\n",
    "            showline=True,\n",
    "            linecolor='rgb(102, 102, 102)',\n",
    "            tickfont_color='rgb(102, 102, 102)',\n",
    "            showticklabels=True,\n",
    "            ticks='outside',\n",
    "            tickcolor='rgb(102, 102, 102)',\n",
    "        ),\n",
    "        margin=dict(l=140, r=60, b=70, t=100), \n",
    "        \n",
    "        legend=dict(\n",
    "            font_size=10,\n",
    "            yanchor='top',\n",
    "            xanchor='right',\n",
    "            bgcolor = 'white', \n",
    "            bordercolor  = 'white',\n",
    "            borderwidth = 0\n",
    "        ),\n",
    "        width=1750,\n",
    "        height= 650,\n",
    "        paper_bgcolor='white',\n",
    "        plot_bgcolor='white',\n",
    "        hovermode='closest',\n",
    "    )\n",
    "    fig.update_traces(marker_size=10)\n",
    "    return fig\n",
    "\n",
    "\n",
    "@app.callback(\n",
    "    Output('datatable-row-ids-container', 'children'),\n",
    "    Input('datatable-row-ids', 'derived_virtual_row_ids'),\n",
    "    Input('datatable-row-ids', 'selected_row_ids'),\n",
    "    Input('datatable-row-ids', 'active_cell'))\n",
    "def update_graphs(row_ids, selected_row_ids, active_cell):\n",
    "    selected_id_set = set(selected_row_ids or [])\n",
    "\n",
    "    if row_ids is None:\n",
    "        dff = table\n",
    "        # pandas Series works enough like a list for this to be OK\n",
    "        row_ids = table['id']\n",
    "    else:\n",
    "        dff = table.loc[row_ids]\n",
    "\n",
    "    active_row_id = active_cell['row_id'] if active_cell else None\n",
    "\n",
    "    colors = ['#FF69B4' if id == active_row_id\n",
    "              else '#7FDBFF' if id in selected_id_set\n",
    "              else '#0074D9'\n",
    "              for id in row_ids]\n",
    "    return [\n",
    "        dcc.Graph(\n",
    "            id=column + '--row-ids',\n",
    "            figure={\n",
    "                'data': [\n",
    "                    {\n",
    "                        'x': table['Title'],\n",
    "                        'y': table[column],\n",
    "                        'type': 'bar',\n",
    "                        'marker': {'color': colors},\n",
    "                    }\n",
    "                ],\n",
    "                'layout': {\n",
    "                    'xaxis': {'automargin': True},\n",
    "                    'yaxis': {\n",
    "                        'automargin': True,\n",
    "                        'title': {'text': column}\n",
    "                    },\n",
    "                    'height': 250,\n",
    "                    'margin': {'t': 10, 'l': 10, 'r': 10},\n",
    "                },\n",
    "            },\n",
    "        )\n",
    "        # check if column exists - user may have deleted it\n",
    "        # If `column.deletable=False`, then you don't\n",
    "        # need to do this check.\n",
    "        for column in ['Title', 'Genre', 'Premiere', 'Runtime', 'IMDB Score', 'Language', 'Rating Quality', 'Film Length Group', 'Release Year', 'Release Month'] if column in table\n",
    "    ]\n",
    "if __name__ == '__main__':\n",
    "    app.run_server(debug=True, use_reloader=False)\n"
   ]
  },
  {
   "cell_type": "markdown",
   "metadata": {},
   "source": [
    "### Template Dashboard"
   ]
  },
  {
   "cell_type": "code",
   "execution_count": null,
   "metadata": {},
   "outputs": [],
   "source": [
    "# #############################################################################\n",
    "import pandas as pd\n",
    "\n",
    "# plotly \n",
    "import plotly.express as px\n",
    "\n",
    "# dashboards\n",
    "import dash\n",
    "import dash_core_components as dcc\n",
    "import dash_html_components as html\n",
    "import dash_table\n",
    "from dash.dependencies import Input, Output\n",
    "import dash_bootstrap_components as dbc\n",
    "from datetime import date\n",
    "from dash.dependencies import Input, Output\n",
    "\n",
    "table = netflix[['Title','Genre','Runtime','IMDB Score','Film Length Group', 'Release Year']]\n",
    "table['id'] = table['Title']\n",
    "table.set_index('id', inplace=True, drop=False)\n",
    "\n",
    "app = dash.Dash(__name__, external_stylesheets=[dbc.themes.BOOTSTRAP])\n",
    "\n",
    "app.layout = html.Div([\n",
    "    html.H1('GSBA 545 Final Exam Prep Dashboard ', \n",
    "            style={'color': 'maroon', 'fontSize': '40px','textAlign':'center'}),#\n",
    "\n",
    "\n",
    "    dbc.Tabs([\n",
    "        dbc.Tab([\n",
    "            html.H2('Tab 1: Top 5 Social Media Company Stocks Performance Visualization',\n",
    "                     style={'textAlign':'center'}),\n",
    "            \n",
    "            html.P('''\n",
    "            This tab is dedicated to the investigation of the stock performance of the following five top Social Media Stocks.\n",
    "            The dataset is sourced from Yahoo Finance and contains data on stock performance starting on January 1st, 2018 and\n",
    "            ending on November 30th 2021.\n",
    "            '''),\n",
    "            \n",
    "            html.Ul([\n",
    "                html.Li(['Meta Platforms Inc($FB): ',\n",
    "                        html.A('Meta Wikipedia Page',\n",
    "                        href='https://en.wikipedia.org/wiki/Meta_Platforms')]),\n",
    "                html.Li(['Twitter ($TWTR): ',\n",
    "                        html.A('Twitter Wikipedia Page',\n",
    "                        href='https://en.wikipedia.org/wiki/Twitter')]),\n",
    "                html.Li(['Snap, Inc. ($SNAP): ',\n",
    "                        html.A('Snap Wikipedia Page',\n",
    "                        href='https://en.wikipedia.org/wiki/Snap_Inc')]),\n",
    "                html.Li(['Etsy, Inc. ($ETSY): ',\n",
    "                        html.A('Etsy Wikipedia Page',\n",
    "                        href='https://en.wikipedia.org/wiki/Etsy')]),\n",
    "                html.Li(['Microsoft ($MSFT): ',\n",
    "                        html.A('Microsoft Wikipedia Page',\n",
    "                        href='https://en.wikipedia.org/wiki/Microsoft')])\n",
    "                    ]),\n",
    "            \n",
    "            dcc.Graph(id='2019 - 2020 Performance Line Chart', figure = fig2)\n",
    "            ], label ='Social Media Stocks'),\n",
    "        \n",
    "        \n",
    "        dbc.Tab([\n",
    "            html.H1('Reaction from the General Public to Netflix Movies (2015-2021)',\n",
    "                    style={'textAlign':'center'}),\n",
    "\n",
    "            html.Div([ dcc.Graph(id='imdb summary'),\n",
    "                ],style={'width': '50%', 'float': 'right', 'display': 'inline-block'}),\n",
    "\n",
    "            html.Div([dcc.Slider( id='year-slider',\n",
    "                        min=netflix['Release Year'].min(),\n",
    "                        max=netflix['Release Year'].max(),\n",
    "                        value=netflix['Release Year'].min(),\n",
    "                        marks={str(year): str(year) for year in netflix['Release Year'].unique()},\n",
    "                        step=None)            \n",
    "                ], style={'width': '50%', 'display': 'inline-block', 'padding': '0px 20px 20px 20px'}),\n",
    "            html.Div([dash_table.DataTable(\n",
    "                                        id='datatable-row-ids',\n",
    "                                        columns=[\n",
    "                                                {'name': i, 'id': i, 'deletable': True} for i in table.columns\n",
    "                                                # omit the id column\n",
    "                                                if i != 'id'\n",
    "                                        ],\n",
    "                                        data=netflix.to_dict('records'),\n",
    "                                        editable=True,\n",
    "                                        filter_action=\"native\",\n",
    "                                        sort_action=\"native\",\n",
    "                                        sort_mode='multi',\n",
    "                                        row_selectable='multi',\n",
    "                                        row_deletable=True,\n",
    "                                        selected_rows=[],\n",
    "                                        page_action='native',\n",
    "                                        page_current= 0,\n",
    "                                        page_size= 20,\n",
    "                        ),\n",
    "                        html.Div(id='datatable-row-ids-container')\n",
    "                ],style={'width': '40%',  'display': 'inline-block'})\n",
    "\n",
    "        ],label ='Netflix Movie Ratings'),       \n",
    "        dbc.Tab([], label ='EPL 2020-2021 Clusters')\n",
    "\n",
    "    ]),\n",
    "])\n",
    "\n",
    "@app.callback(\n",
    "        Output('imdb summary', 'figure'),\n",
    "        Input('year-slider', 'value'))\n",
    "def update_figure(year):\n",
    "        \n",
    "        plotdata = netflix.loc[netflix['Release Year']== year].sort_values(by='IMDB Score', ascending = False)\n",
    "        data = plotdata[0:20]\n",
    "        data.reset_index(inplace=True)\n",
    "        \n",
    "        fig = px.bar(data[0:10],x='IMDB Score', y='Title', orientation = 'h')\n",
    "\n",
    "\n",
    "        fig = px.bar(data[0:10], x='IMDB Score', y='Title', hover_data=['IMDB Score', 'Film Length Group'],\n",
    "                    color='Film Length Group')\n",
    "        fig.update_layout(title_text='10 Netflix Movies w/ Highest Ratings in {}'.format(year),\n",
    "                        title_x=0.5, \n",
    "                        title_font=dict(size=20),\n",
    "                        plot_bgcolor = 'white',\n",
    "                        xaxis_title = 'IMDB Score',\n",
    "                        yaxis_title = '')\n",
    "        return fig\n",
    "@app.callback(\n",
    "    Output('datatable-row-ids-container', 'children'),\n",
    "    Input('datatable-row-ids', 'derived_virtual_row_ids'),\n",
    "    Input('datatable-row-ids', 'selected_row_ids'),\n",
    "    Input('datatable-row-ids', 'active_cell'))\n",
    "def update_graphs(row_ids, selected_row_ids, active_cell):\n",
    "    # When the table is first rendered, `derived_virtual_data` and\n",
    "    # `derived_virtual_selected_rows` will be `None`. This is due to an\n",
    "    # idiosyncrasy in Dash (unsupplied properties are always None and Dash\n",
    "    # calls the dependent callbacks when the component is first rendered).\n",
    "    # So, if `rows` is `None`, then the component was just rendered\n",
    "    # and its value will be the same as the component's dataframe.\n",
    "    # Instead of setting `None` in here, you could also set\n",
    "    # `derived_virtual_data=df.to_rows('dict')` when you initialize\n",
    "    # the component.\n",
    "    selected_id_set = set(selected_row_ids or [])\n",
    "\n",
    "    if row_ids is None:\n",
    "        dff = table\n",
    "        # pandas Series works enough like a list for this to be OK\n",
    "        row_ids = table['id']\n",
    "    else:\n",
    "        dff = table.loc[row_ids]\n",
    "\n",
    "    active_row_id = active_cell['row_id'] if active_cell else None\n",
    "\n",
    "    colors = ['#FF69B4' if id == active_row_id\n",
    "              else '#7FDBFF' if id in selected_id_set\n",
    "              else '#0074D9'\n",
    "              for id in row_ids]\n",
    "\n",
    "    return [\n",
    "        dcc.Graph(\n",
    "            id=column + '--row-ids',\n",
    "            figure={\n",
    "                'data': [\n",
    "                    {\n",
    "                        'x': table['Title'],\n",
    "                        'y': table[column],\n",
    "                        'type': 'bar',\n",
    "                        'marker': {'color': colors},\n",
    "                    }\n",
    "                ],\n",
    "                'layout': {\n",
    "                    'xaxis': {'automargin': True},\n",
    "                    'yaxis': {\n",
    "                        'automargin': True,\n",
    "                        'title': {'text': column}\n",
    "                    },\n",
    "                    'height': 250,\n",
    "                    'margin': {'t': 10, 'l': 10, 'r': 10},\n",
    "                },\n",
    "            },\n",
    "        )\n",
    "        # check if column exists - user may have deleted it\n",
    "        # If `column.deletable=False`, then you don't\n",
    "        # need to do this check.\n",
    "        for column in ['Genre','Runtime','IMDB Score','Film Length Group', 'Release Year'] if column in table\n",
    "    ]\n",
    "if __name__ == '__main__':\n",
    "    app.run_server(debug=True, use_reloader=False)\n"
   ]
  }
 ],
 "metadata": {
  "interpreter": {
   "hash": "f20e7b0ced84d0ae18c30652a59a0bf73d849ad4212a3a24bc6729965f22efc4"
  },
  "kernelspec": {
   "display_name": "Python 3.7.6 64-bit ('base': conda)",
   "name": "python3"
  },
  "language_info": {
   "codemirror_mode": {
    "name": "ipython",
    "version": 3
   },
   "file_extension": ".py",
   "mimetype": "text/x-python",
   "name": "python",
   "nbconvert_exporter": "python",
   "pygments_lexer": "ipython3",
   "version": "3.7.6"
  },
  "orig_nbformat": 4
 },
 "nbformat": 4,
 "nbformat_minor": 2
}
